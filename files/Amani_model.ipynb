{
 "cells": [
  {
   "cell_type": "code",
   "execution_count": 406,
   "metadata": {},
   "outputs": [],
   "source": [
    "import pandas as pd\n",
    "%matplotlib inline\n",
    "from matplotlib import pyplot as plt\n",
    "import seaborn as sns\n",
    "import numpy as np\n",
    "from sklearn.preprocessing import StandardScaler, RobustScaler, MinMaxScaler\n",
    "from sklearn.model_selection import train_test_split\n",
    "import pickle\n",
    "\n",
    "from sklearn.compose import ColumnTransformer\n",
    "from sklearn.pipeline import Pipeline\n",
    "from sklearn.pipeline import FeatureUnion\n",
    "from sklearn import set_config; set_config(display='diagram')\n",
    "from sklearn.preprocessing import OneHotEncoder\n",
    "# Algorithms\n",
    "from sklearn.linear_model import LinearRegression\n",
    "\n",
    "from sklearn.model_selection import cross_val_score\n",
    "from sklearn.model_selection import GridSearchCV\n",
    "from sklearn.inspection import permutation_importance\n",
    "import matplotlib.pyplot as plt\n",
    "import warnings\n",
    "warnings.filterwarnings('ignore')"
   ]
  },
  {
   "cell_type": "code",
   "execution_count": 407,
   "metadata": {},
   "outputs": [],
   "source": [
    "from sklearn import metrics\n",
    "from sklearn.metrics import mean_squared_error\n",
    "\n",
    "def rmse(y, y_):\n",
    "    return np.sqrt(np.mean((y-y_)**2))\n",
    "\n",
    "def mae(y, y_):\n",
    "    return np.mean(np.abs(y-y_))"
   ]
  },
  {
   "cell_type": "markdown",
   "metadata": {},
   "source": [
    "###  Modèles de régression à sorties multiples\n",
    "\n",
    "Pour cette partie on va tester des algorithmes lineaires et non lineaires"
   ]
  },
  {
   "cell_type": "code",
   "execution_count": 408,
   "metadata": {},
   "outputs": [],
   "source": [
    "data=pd.read_csv(\"cleaning_data.csv\")\n",
    "data=data.drop(\"Unnamed: 0\",axis=1)\n",
    "data.NumberofBuildings=data.NumberofBuildings.astype(\"int64\")"
   ]
  },
  {
   "cell_type": "code",
   "execution_count": 409,
   "metadata": {},
   "outputs": [
    {
     "data": {
      "text/html": [
       "<div>\n",
       "<style scoped>\n",
       "    .dataframe tbody tr th:only-of-type {\n",
       "        vertical-align: middle;\n",
       "    }\n",
       "\n",
       "    .dataframe tbody tr th {\n",
       "        vertical-align: top;\n",
       "    }\n",
       "\n",
       "    .dataframe thead th {\n",
       "        text-align: right;\n",
       "    }\n",
       "</style>\n",
       "<table border=\"1\" class=\"dataframe\">\n",
       "  <thead>\n",
       "    <tr style=\"text-align: right;\">\n",
       "      <th></th>\n",
       "      <th>BuildingType</th>\n",
       "      <th>PrimaryPropertyType</th>\n",
       "      <th>Neighborhood</th>\n",
       "      <th>NumberofBuildings</th>\n",
       "      <th>NumberofFloors</th>\n",
       "      <th>PropertyGFATotal</th>\n",
       "      <th>LargestPropertyUseType</th>\n",
       "      <th>SiteEUI(kBtu/sf)</th>\n",
       "      <th>SiteEnergyUse(kBtu)</th>\n",
       "      <th>TotalGHGEmissions</th>\n",
       "      <th>GHGEmissionsIntensity</th>\n",
       "      <th>BuildingAge</th>\n",
       "      <th>TotalUseTypeNumber</th>\n",
       "      <th>GFABuildingRate</th>\n",
       "      <th>GFAParkingRate</th>\n",
       "      <th>GFAPerBuilding</th>\n",
       "      <th>GFAPerFloor</th>\n",
       "      <th>harvesine_distance</th>\n",
       "    </tr>\n",
       "  </thead>\n",
       "  <tbody>\n",
       "    <tr>\n",
       "      <th>0</th>\n",
       "      <td>NonResidential</td>\n",
       "      <td>Hotel</td>\n",
       "      <td>DOWNTOWN</td>\n",
       "      <td>1</td>\n",
       "      <td>12</td>\n",
       "      <td>88434</td>\n",
       "      <td>Hotel</td>\n",
       "      <td>81.699997</td>\n",
       "      <td>7226362.5</td>\n",
       "      <td>249.98</td>\n",
       "      <td>2.83</td>\n",
       "      <td>89</td>\n",
       "      <td>1</td>\n",
       "      <td>1.00000</td>\n",
       "      <td>0.00000</td>\n",
       "      <td>88434.0</td>\n",
       "      <td>7369.500</td>\n",
       "      <td>0.496782</td>\n",
       "    </tr>\n",
       "    <tr>\n",
       "      <th>1</th>\n",
       "      <td>NonResidential</td>\n",
       "      <td>Hotel</td>\n",
       "      <td>DOWNTOWN</td>\n",
       "      <td>1</td>\n",
       "      <td>11</td>\n",
       "      <td>103566</td>\n",
       "      <td>Hotel</td>\n",
       "      <td>94.800003</td>\n",
       "      <td>8387933.0</td>\n",
       "      <td>295.86</td>\n",
       "      <td>2.86</td>\n",
       "      <td>20</td>\n",
       "      <td>3</td>\n",
       "      <td>0.85455</td>\n",
       "      <td>0.14545</td>\n",
       "      <td>103566.0</td>\n",
       "      <td>9415.091</td>\n",
       "      <td>0.488726</td>\n",
       "    </tr>\n",
       "    <tr>\n",
       "      <th>2</th>\n",
       "      <td>NonResidential</td>\n",
       "      <td>Hotel</td>\n",
       "      <td>DOWNTOWN</td>\n",
       "      <td>1</td>\n",
       "      <td>41</td>\n",
       "      <td>956110</td>\n",
       "      <td>Hotel</td>\n",
       "      <td>96.000000</td>\n",
       "      <td>72587024.0</td>\n",
       "      <td>2089.28</td>\n",
       "      <td>2.19</td>\n",
       "      <td>47</td>\n",
       "      <td>1</td>\n",
       "      <td>0.79425</td>\n",
       "      <td>0.20575</td>\n",
       "      <td>956110.0</td>\n",
       "      <td>23319.756</td>\n",
       "      <td>0.602378</td>\n",
       "    </tr>\n",
       "    <tr>\n",
       "      <th>3</th>\n",
       "      <td>NonResidential</td>\n",
       "      <td>Hotel</td>\n",
       "      <td>DOWNTOWN</td>\n",
       "      <td>1</td>\n",
       "      <td>10</td>\n",
       "      <td>61320</td>\n",
       "      <td>Hotel</td>\n",
       "      <td>110.800003</td>\n",
       "      <td>6794584.0</td>\n",
       "      <td>286.43</td>\n",
       "      <td>4.67</td>\n",
       "      <td>90</td>\n",
       "      <td>1</td>\n",
       "      <td>1.00000</td>\n",
       "      <td>0.00000</td>\n",
       "      <td>61320.0</td>\n",
       "      <td>6132.000</td>\n",
       "      <td>0.586253</td>\n",
       "    </tr>\n",
       "    <tr>\n",
       "      <th>4</th>\n",
       "      <td>NonResidential</td>\n",
       "      <td>Hotel</td>\n",
       "      <td>DOWNTOWN</td>\n",
       "      <td>1</td>\n",
       "      <td>18</td>\n",
       "      <td>175580</td>\n",
       "      <td>Hotel</td>\n",
       "      <td>114.800003</td>\n",
       "      <td>14172606.0</td>\n",
       "      <td>505.01</td>\n",
       "      <td>2.88</td>\n",
       "      <td>36</td>\n",
       "      <td>3</td>\n",
       "      <td>0.64688</td>\n",
       "      <td>0.35312</td>\n",
       "      <td>175580.0</td>\n",
       "      <td>9754.444</td>\n",
       "      <td>0.650801</td>\n",
       "    </tr>\n",
       "  </tbody>\n",
       "</table>\n",
       "</div>"
      ],
      "text/plain": [
       "     BuildingType PrimaryPropertyType Neighborhood  NumberofBuildings  \\\n",
       "0  NonResidential               Hotel     DOWNTOWN                  1   \n",
       "1  NonResidential               Hotel     DOWNTOWN                  1   \n",
       "2  NonResidential               Hotel     DOWNTOWN                  1   \n",
       "3  NonResidential               Hotel     DOWNTOWN                  1   \n",
       "4  NonResidential               Hotel     DOWNTOWN                  1   \n",
       "\n",
       "   NumberofFloors  PropertyGFATotal LargestPropertyUseType  SiteEUI(kBtu/sf)  \\\n",
       "0              12             88434                  Hotel         81.699997   \n",
       "1              11            103566                  Hotel         94.800003   \n",
       "2              41            956110                  Hotel         96.000000   \n",
       "3              10             61320                  Hotel        110.800003   \n",
       "4              18            175580                  Hotel        114.800003   \n",
       "\n",
       "   SiteEnergyUse(kBtu)  TotalGHGEmissions  GHGEmissionsIntensity  BuildingAge  \\\n",
       "0            7226362.5             249.98                   2.83           89   \n",
       "1            8387933.0             295.86                   2.86           20   \n",
       "2           72587024.0            2089.28                   2.19           47   \n",
       "3            6794584.0             286.43                   4.67           90   \n",
       "4           14172606.0             505.01                   2.88           36   \n",
       "\n",
       "   TotalUseTypeNumber  GFABuildingRate  GFAParkingRate  GFAPerBuilding  \\\n",
       "0                   1          1.00000         0.00000         88434.0   \n",
       "1                   3          0.85455         0.14545        103566.0   \n",
       "2                   1          0.79425         0.20575        956110.0   \n",
       "3                   1          1.00000         0.00000         61320.0   \n",
       "4                   3          0.64688         0.35312        175580.0   \n",
       "\n",
       "   GFAPerFloor  harvesine_distance  \n",
       "0     7369.500            0.496782  \n",
       "1     9415.091            0.488726  \n",
       "2    23319.756            0.602378  \n",
       "3     6132.000            0.586253  \n",
       "4     9754.444            0.650801  "
      ]
     },
     "execution_count": 409,
     "metadata": {},
     "output_type": "execute_result"
    }
   ],
   "source": [
    "data.head()"
   ]
  },
  {
   "cell_type": "code",
   "execution_count": 410,
   "metadata": {},
   "outputs": [],
   "source": [
    "#enlever les lignes qui ont manque de données suivant les deux tragets\n",
    "data=data[data['SiteEnergyUse(kBtu)']!=0]\n",
    "data=data[data['TotalGHGEmissions']!=0]"
   ]
  },
  {
   "cell_type": "code",
   "execution_count": 411,
   "metadata": {},
   "outputs": [
    {
     "data": {
      "text/plain": [
       "(3193, 18)"
      ]
     },
     "execution_count": 411,
     "metadata": {},
     "output_type": "execute_result"
    }
   ],
   "source": [
    "data.shape"
   ]
  },
  {
   "cell_type": "code",
   "execution_count": 412,
   "metadata": {},
   "outputs": [],
   "source": [
    "Y=data[['TotalGHGEmissions','SiteEnergyUse(kBtu)']]\n",
    "X=data.drop(['TotalGHGEmissions','SiteEnergyUse(kBtu)'],axis=1)"
   ]
  },
  {
   "cell_type": "code",
   "execution_count": 413,
   "metadata": {},
   "outputs": [],
   "source": [
    "X_train, X_test, y_train, y_test = train_test_split(X,Y,test_size=0.25, random_state= 2022)"
   ]
  },
  {
   "cell_type": "code",
   "execution_count": 414,
   "metadata": {},
   "outputs": [],
   "source": [
    "num_columns = X.columns[X.dtypes != 'object']\n",
    "cat_columns = X.columns[X.dtypes == 'object']"
   ]
  },
  {
   "cell_type": "code",
   "execution_count": 415,
   "metadata": {},
   "outputs": [],
   "source": [
    "#pipeline\n",
    "categorical_transformer = Pipeline(steps=[\n",
    "    ('onehot', OneHotEncoder(handle_unknown='ignore')),\n",
    "])\n",
    "\n",
    "numeric_transformer = Pipeline(steps=[\n",
    "   ('scaler',RobustScaler()),\n",
    "   ])\n",
    "from sklearn.compose import make_column_transformer\n",
    "preprocessor = make_column_transformer((RobustScaler(),num_columns),\n",
    "(OneHotEncoder(handle_unknown = 'ignore'),cat_columns ))"
   ]
  },
  {
   "cell_type": "code",
   "execution_count": 416,
   "metadata": {},
   "outputs": [
    {
     "data": {
      "text/html": [
       "<style>#sk-6e712689-00c3-4859-98e6-b06b83a10754 {color: black;background-color: white;}#sk-6e712689-00c3-4859-98e6-b06b83a10754 pre{padding: 0;}#sk-6e712689-00c3-4859-98e6-b06b83a10754 div.sk-toggleable {background-color: white;}#sk-6e712689-00c3-4859-98e6-b06b83a10754 label.sk-toggleable__label {cursor: pointer;display: block;width: 100%;margin-bottom: 0;padding: 0.3em;box-sizing: border-box;text-align: center;}#sk-6e712689-00c3-4859-98e6-b06b83a10754 label.sk-toggleable__label-arrow:before {content: \"▸\";float: left;margin-right: 0.25em;color: #696969;}#sk-6e712689-00c3-4859-98e6-b06b83a10754 label.sk-toggleable__label-arrow:hover:before {color: black;}#sk-6e712689-00c3-4859-98e6-b06b83a10754 div.sk-estimator:hover label.sk-toggleable__label-arrow:before {color: black;}#sk-6e712689-00c3-4859-98e6-b06b83a10754 div.sk-toggleable__content {max-height: 0;max-width: 0;overflow: hidden;text-align: left;background-color: #f0f8ff;}#sk-6e712689-00c3-4859-98e6-b06b83a10754 div.sk-toggleable__content pre {margin: 0.2em;color: black;border-radius: 0.25em;background-color: #f0f8ff;}#sk-6e712689-00c3-4859-98e6-b06b83a10754 input.sk-toggleable__control:checked~div.sk-toggleable__content {max-height: 200px;max-width: 100%;overflow: auto;}#sk-6e712689-00c3-4859-98e6-b06b83a10754 input.sk-toggleable__control:checked~label.sk-toggleable__label-arrow:before {content: \"▾\";}#sk-6e712689-00c3-4859-98e6-b06b83a10754 div.sk-estimator input.sk-toggleable__control:checked~label.sk-toggleable__label {background-color: #d4ebff;}#sk-6e712689-00c3-4859-98e6-b06b83a10754 div.sk-label input.sk-toggleable__control:checked~label.sk-toggleable__label {background-color: #d4ebff;}#sk-6e712689-00c3-4859-98e6-b06b83a10754 input.sk-hidden--visually {border: 0;clip: rect(1px 1px 1px 1px);clip: rect(1px, 1px, 1px, 1px);height: 1px;margin: -1px;overflow: hidden;padding: 0;position: absolute;width: 1px;}#sk-6e712689-00c3-4859-98e6-b06b83a10754 div.sk-estimator {font-family: monospace;background-color: #f0f8ff;border: 1px dotted black;border-radius: 0.25em;box-sizing: border-box;margin-bottom: 0.5em;}#sk-6e712689-00c3-4859-98e6-b06b83a10754 div.sk-estimator:hover {background-color: #d4ebff;}#sk-6e712689-00c3-4859-98e6-b06b83a10754 div.sk-parallel-item::after {content: \"\";width: 100%;border-bottom: 1px solid gray;flex-grow: 1;}#sk-6e712689-00c3-4859-98e6-b06b83a10754 div.sk-label:hover label.sk-toggleable__label {background-color: #d4ebff;}#sk-6e712689-00c3-4859-98e6-b06b83a10754 div.sk-serial::before {content: \"\";position: absolute;border-left: 1px solid gray;box-sizing: border-box;top: 2em;bottom: 0;left: 50%;}#sk-6e712689-00c3-4859-98e6-b06b83a10754 div.sk-serial {display: flex;flex-direction: column;align-items: center;background-color: white;padding-right: 0.2em;padding-left: 0.2em;}#sk-6e712689-00c3-4859-98e6-b06b83a10754 div.sk-item {z-index: 1;}#sk-6e712689-00c3-4859-98e6-b06b83a10754 div.sk-parallel {display: flex;align-items: stretch;justify-content: center;background-color: white;}#sk-6e712689-00c3-4859-98e6-b06b83a10754 div.sk-parallel::before {content: \"\";position: absolute;border-left: 1px solid gray;box-sizing: border-box;top: 2em;bottom: 0;left: 50%;}#sk-6e712689-00c3-4859-98e6-b06b83a10754 div.sk-parallel-item {display: flex;flex-direction: column;position: relative;background-color: white;}#sk-6e712689-00c3-4859-98e6-b06b83a10754 div.sk-parallel-item:first-child::after {align-self: flex-end;width: 50%;}#sk-6e712689-00c3-4859-98e6-b06b83a10754 div.sk-parallel-item:last-child::after {align-self: flex-start;width: 50%;}#sk-6e712689-00c3-4859-98e6-b06b83a10754 div.sk-parallel-item:only-child::after {width: 0;}#sk-6e712689-00c3-4859-98e6-b06b83a10754 div.sk-dashed-wrapped {border: 1px dashed gray;margin: 0 0.4em 0.5em 0.4em;box-sizing: border-box;padding-bottom: 0.4em;background-color: white;position: relative;}#sk-6e712689-00c3-4859-98e6-b06b83a10754 div.sk-label label {font-family: monospace;font-weight: bold;background-color: white;display: inline-block;line-height: 1.2em;}#sk-6e712689-00c3-4859-98e6-b06b83a10754 div.sk-label-container {position: relative;z-index: 2;text-align: center;}#sk-6e712689-00c3-4859-98e6-b06b83a10754 div.sk-container {/* jupyter's `normalize.less` sets `[hidden] { display: none; }` but bootstrap.min.css set `[hidden] { display: none !important; }` so we also need the `!important` here to be able to override the default hidden behavior on the sphinx rendered scikit-learn.org. See: https://github.com/scikit-learn/scikit-learn/issues/21755 */display: inline-block !important;position: relative;}#sk-6e712689-00c3-4859-98e6-b06b83a10754 div.sk-text-repr-fallback {display: none;}</style><div id=\"sk-6e712689-00c3-4859-98e6-b06b83a10754\" class=\"sk-top-container\"><div class=\"sk-text-repr-fallback\"><pre>Pipeline(steps=[(&#x27;transformer&#x27;,\n",
       "                 ColumnTransformer(transformers=[(&#x27;robustscaler&#x27;,\n",
       "                                                  RobustScaler(),\n",
       "                                                  Index([&#x27;NumberofBuildings&#x27;, &#x27;NumberofFloors&#x27;, &#x27;PropertyGFATotal&#x27;,\n",
       "       &#x27;SiteEUI(kBtu/sf)&#x27;, &#x27;GHGEmissionsIntensity&#x27;, &#x27;BuildingAge&#x27;,\n",
       "       &#x27;TotalUseTypeNumber&#x27;, &#x27;GFABuildingRate&#x27;, &#x27;GFAParkingRate&#x27;,\n",
       "       &#x27;GFAPerBuilding&#x27;, &#x27;GFAPerFloor&#x27;, &#x27;harvesine_distance&#x27;],\n",
       "      dtype=&#x27;object&#x27;)),\n",
       "                                                 (&#x27;onehotencoder&#x27;,\n",
       "                                                  OneHotEncoder(handle_unknown=&#x27;ignore&#x27;),\n",
       "                                                  Index([&#x27;BuildingType&#x27;, &#x27;PrimaryPropertyType&#x27;, &#x27;Neighborhood&#x27;,\n",
       "       &#x27;LargestPropertyUseType&#x27;],\n",
       "      dtype=&#x27;object&#x27;))])),\n",
       "                (&#x27;dummy&#x27;, DummyRegressor(strategy=&#x27;median&#x27;))])</pre><b>Please rerun this cell to show the HTML repr or trust the notebook.</b></div><div class=\"sk-container\" hidden><div class=\"sk-item sk-dashed-wrapped\"><div class=\"sk-label-container\"><div class=\"sk-label sk-toggleable\"><input class=\"sk-toggleable__control sk-hidden--visually\" id=\"3969d587-82a4-46f6-907a-c961c4561a10\" type=\"checkbox\" ><label for=\"3969d587-82a4-46f6-907a-c961c4561a10\" class=\"sk-toggleable__label sk-toggleable__label-arrow\">Pipeline</label><div class=\"sk-toggleable__content\"><pre>Pipeline(steps=[(&#x27;transformer&#x27;,\n",
       "                 ColumnTransformer(transformers=[(&#x27;robustscaler&#x27;,\n",
       "                                                  RobustScaler(),\n",
       "                                                  Index([&#x27;NumberofBuildings&#x27;, &#x27;NumberofFloors&#x27;, &#x27;PropertyGFATotal&#x27;,\n",
       "       &#x27;SiteEUI(kBtu/sf)&#x27;, &#x27;GHGEmissionsIntensity&#x27;, &#x27;BuildingAge&#x27;,\n",
       "       &#x27;TotalUseTypeNumber&#x27;, &#x27;GFABuildingRate&#x27;, &#x27;GFAParkingRate&#x27;,\n",
       "       &#x27;GFAPerBuilding&#x27;, &#x27;GFAPerFloor&#x27;, &#x27;harvesine_distance&#x27;],\n",
       "      dtype=&#x27;object&#x27;)),\n",
       "                                                 (&#x27;onehotencoder&#x27;,\n",
       "                                                  OneHotEncoder(handle_unknown=&#x27;ignore&#x27;),\n",
       "                                                  Index([&#x27;BuildingType&#x27;, &#x27;PrimaryPropertyType&#x27;, &#x27;Neighborhood&#x27;,\n",
       "       &#x27;LargestPropertyUseType&#x27;],\n",
       "      dtype=&#x27;object&#x27;))])),\n",
       "                (&#x27;dummy&#x27;, DummyRegressor(strategy=&#x27;median&#x27;))])</pre></div></div></div><div class=\"sk-serial\"><div class=\"sk-item sk-dashed-wrapped\"><div class=\"sk-label-container\"><div class=\"sk-label sk-toggleable\"><input class=\"sk-toggleable__control sk-hidden--visually\" id=\"71600325-b14c-4592-8a87-e27161f8567d\" type=\"checkbox\" ><label for=\"71600325-b14c-4592-8a87-e27161f8567d\" class=\"sk-toggleable__label sk-toggleable__label-arrow\">transformer: ColumnTransformer</label><div class=\"sk-toggleable__content\"><pre>ColumnTransformer(transformers=[(&#x27;robustscaler&#x27;, RobustScaler(),\n",
       "                                 Index([&#x27;NumberofBuildings&#x27;, &#x27;NumberofFloors&#x27;, &#x27;PropertyGFATotal&#x27;,\n",
       "       &#x27;SiteEUI(kBtu/sf)&#x27;, &#x27;GHGEmissionsIntensity&#x27;, &#x27;BuildingAge&#x27;,\n",
       "       &#x27;TotalUseTypeNumber&#x27;, &#x27;GFABuildingRate&#x27;, &#x27;GFAParkingRate&#x27;,\n",
       "       &#x27;GFAPerBuilding&#x27;, &#x27;GFAPerFloor&#x27;, &#x27;harvesine_distance&#x27;],\n",
       "      dtype=&#x27;object&#x27;)),\n",
       "                                (&#x27;onehotencoder&#x27;,\n",
       "                                 OneHotEncoder(handle_unknown=&#x27;ignore&#x27;),\n",
       "                                 Index([&#x27;BuildingType&#x27;, &#x27;PrimaryPropertyType&#x27;, &#x27;Neighborhood&#x27;,\n",
       "       &#x27;LargestPropertyUseType&#x27;],\n",
       "      dtype=&#x27;object&#x27;))])</pre></div></div></div><div class=\"sk-parallel\"><div class=\"sk-parallel-item\"><div class=\"sk-item\"><div class=\"sk-label-container\"><div class=\"sk-label sk-toggleable\"><input class=\"sk-toggleable__control sk-hidden--visually\" id=\"401e4f6d-b1e1-42b3-bf43-ed83c5ebca37\" type=\"checkbox\" ><label for=\"401e4f6d-b1e1-42b3-bf43-ed83c5ebca37\" class=\"sk-toggleable__label sk-toggleable__label-arrow\">robustscaler</label><div class=\"sk-toggleable__content\"><pre>Index([&#x27;NumberofBuildings&#x27;, &#x27;NumberofFloors&#x27;, &#x27;PropertyGFATotal&#x27;,\n",
       "       &#x27;SiteEUI(kBtu/sf)&#x27;, &#x27;GHGEmissionsIntensity&#x27;, &#x27;BuildingAge&#x27;,\n",
       "       &#x27;TotalUseTypeNumber&#x27;, &#x27;GFABuildingRate&#x27;, &#x27;GFAParkingRate&#x27;,\n",
       "       &#x27;GFAPerBuilding&#x27;, &#x27;GFAPerFloor&#x27;, &#x27;harvesine_distance&#x27;],\n",
       "      dtype=&#x27;object&#x27;)</pre></div></div></div><div class=\"sk-serial\"><div class=\"sk-item\"><div class=\"sk-estimator sk-toggleable\"><input class=\"sk-toggleable__control sk-hidden--visually\" id=\"19a97254-cd30-498a-9c66-821275a08413\" type=\"checkbox\" ><label for=\"19a97254-cd30-498a-9c66-821275a08413\" class=\"sk-toggleable__label sk-toggleable__label-arrow\">RobustScaler</label><div class=\"sk-toggleable__content\"><pre>RobustScaler()</pre></div></div></div></div></div></div><div class=\"sk-parallel-item\"><div class=\"sk-item\"><div class=\"sk-label-container\"><div class=\"sk-label sk-toggleable\"><input class=\"sk-toggleable__control sk-hidden--visually\" id=\"1901ad8c-4554-4c81-a312-3cab6cbcbbad\" type=\"checkbox\" ><label for=\"1901ad8c-4554-4c81-a312-3cab6cbcbbad\" class=\"sk-toggleable__label sk-toggleable__label-arrow\">onehotencoder</label><div class=\"sk-toggleable__content\"><pre>Index([&#x27;BuildingType&#x27;, &#x27;PrimaryPropertyType&#x27;, &#x27;Neighborhood&#x27;,\n",
       "       &#x27;LargestPropertyUseType&#x27;],\n",
       "      dtype=&#x27;object&#x27;)</pre></div></div></div><div class=\"sk-serial\"><div class=\"sk-item\"><div class=\"sk-estimator sk-toggleable\"><input class=\"sk-toggleable__control sk-hidden--visually\" id=\"af690bbf-89d0-4941-be8b-56fb91095f17\" type=\"checkbox\" ><label for=\"af690bbf-89d0-4941-be8b-56fb91095f17\" class=\"sk-toggleable__label sk-toggleable__label-arrow\">OneHotEncoder</label><div class=\"sk-toggleable__content\"><pre>OneHotEncoder(handle_unknown=&#x27;ignore&#x27;)</pre></div></div></div></div></div></div></div></div><div class=\"sk-item\"><div class=\"sk-estimator sk-toggleable\"><input class=\"sk-toggleable__control sk-hidden--visually\" id=\"59d9aa50-ada2-42a5-8f13-ecd4dcf8a347\" type=\"checkbox\" ><label for=\"59d9aa50-ada2-42a5-8f13-ecd4dcf8a347\" class=\"sk-toggleable__label sk-toggleable__label-arrow\">DummyRegressor</label><div class=\"sk-toggleable__content\"><pre>DummyRegressor(strategy=&#x27;median&#x27;)</pre></div></div></div></div></div></div></div>"
      ],
      "text/plain": [
       "Pipeline(steps=[('transformer',\n",
       "                 ColumnTransformer(transformers=[('robustscaler',\n",
       "                                                  RobustScaler(),\n",
       "                                                  Index(['NumberofBuildings', 'NumberofFloors', 'PropertyGFATotal',\n",
       "       'SiteEUI(kBtu/sf)', 'GHGEmissionsIntensity', 'BuildingAge',\n",
       "       'TotalUseTypeNumber', 'GFABuildingRate', 'GFAParkingRate',\n",
       "       'GFAPerBuilding', 'GFAPerFloor', 'harvesine_distance'],\n",
       "      dtype='object')),\n",
       "                                                 ('onehotencoder',\n",
       "                                                  OneHotEncoder(handle_unknown='ignore'),\n",
       "                                                  Index(['BuildingType', 'PrimaryPropertyType', 'Neighborhood',\n",
       "       'LargestPropertyUseType'],\n",
       "      dtype='object'))])),\n",
       "                ('dummy', DummyRegressor(strategy='median'))])"
      ]
     },
     "execution_count": 416,
     "metadata": {},
     "output_type": "execute_result"
    }
   ],
   "source": [
    "from sklearn.dummy import DummyRegressor\n",
    "dummy_pipe = Pipeline([\n",
    "        ('transformer', preprocessor),\n",
    "        ('dummy', DummyRegressor(strategy='median')),\n",
    "    ])\n",
    "\n",
    "dummy_pipe.fit(X_train,y_train)"
   ]
  },
  {
   "cell_type": "code",
   "execution_count": 417,
   "metadata": {},
   "outputs": [
    {
     "name": "stdout",
     "output_type": "stream",
     "text": [
      "R2_GHG:  -0.021847528295714236\n",
      "R2_enrgy:  -0.036025186983595026\n",
      "MAE:  TotalGHGEmissions      1.171928e+02\n",
      "SiteEnergyUse(kBtu)    4.755525e+06\n",
      "dtype: float64\n"
     ]
    }
   ],
   "source": [
    "y_pred_dummy=dummy_pipe.predict(X_test)\n",
    "print(\"R2_GHG: \", metrics.r2_score(y_test.iloc[:,0],y_pred_dummy[:,0]))\n",
    "print(\"R2_enrgy: \", metrics.r2_score(y_test.iloc[:,1], y_pred_dummy[:,1]))\n",
    "print(\"MAE: \", mae(y_test,y_pred_dummy))\n",
    "# score_dummy = mean_squared_error(y_test, y_pred_dummy)\n",
    "# print(\"mse:\",score_dummy )\n",
    "# print(\"rmse:\",rmse(y_test, y_pred_dummy))"
   ]
  },
  {
   "cell_type": "code",
   "execution_count": 418,
   "metadata": {},
   "outputs": [],
   "source": [
    "lr_pipe = Pipeline([\n",
    "       ('transformer', preprocessor),\n",
    "        ('lr',  LinearRegression()),\n",
    "    ])\n",
    "\n",
    "lr_pipe.fit(X_train,y_train)\n",
    "y_pred = lr_pipe.predict(X_test)"
   ]
  },
  {
   "cell_type": "code",
   "execution_count": 419,
   "metadata": {},
   "outputs": [
    {
     "name": "stdout",
     "output_type": "stream",
     "text": [
      "R2_GHG:  0.3346906823699667\n",
      "R2_enrgy:  0.3236930814466882\n",
      "MAE:  TotalGHGEmissions      1.007563e+02\n",
      "SiteEnergyUse(kBtu)    3.128224e+06\n",
      "dtype: float64\n"
     ]
    }
   ],
   "source": [
    "from sklearn import metrics\n",
    "print(\"R2_GHG: \", metrics.r2_score(y_test.iloc[:,0],y_pred [:,0]))\n",
    "print(\"R2_enrgy: \", metrics.r2_score(y_test.iloc[:,1], y_pred [:,1]))\n",
    "print(\"MAE: \", mae(y_test, y_pred))\n",
    "#print(\"rmse:\",rmse(y_test, y_pred))"
   ]
  },
  {
   "cell_type": "code",
   "execution_count": 420,
   "metadata": {},
   "outputs": [
    {
     "data": {
      "text/html": [
       "<style>#sk-5c5db585-4e61-4d80-ad90-ef7b8a0c8132 {color: black;background-color: white;}#sk-5c5db585-4e61-4d80-ad90-ef7b8a0c8132 pre{padding: 0;}#sk-5c5db585-4e61-4d80-ad90-ef7b8a0c8132 div.sk-toggleable {background-color: white;}#sk-5c5db585-4e61-4d80-ad90-ef7b8a0c8132 label.sk-toggleable__label {cursor: pointer;display: block;width: 100%;margin-bottom: 0;padding: 0.3em;box-sizing: border-box;text-align: center;}#sk-5c5db585-4e61-4d80-ad90-ef7b8a0c8132 label.sk-toggleable__label-arrow:before {content: \"▸\";float: left;margin-right: 0.25em;color: #696969;}#sk-5c5db585-4e61-4d80-ad90-ef7b8a0c8132 label.sk-toggleable__label-arrow:hover:before {color: black;}#sk-5c5db585-4e61-4d80-ad90-ef7b8a0c8132 div.sk-estimator:hover label.sk-toggleable__label-arrow:before {color: black;}#sk-5c5db585-4e61-4d80-ad90-ef7b8a0c8132 div.sk-toggleable__content {max-height: 0;max-width: 0;overflow: hidden;text-align: left;background-color: #f0f8ff;}#sk-5c5db585-4e61-4d80-ad90-ef7b8a0c8132 div.sk-toggleable__content pre {margin: 0.2em;color: black;border-radius: 0.25em;background-color: #f0f8ff;}#sk-5c5db585-4e61-4d80-ad90-ef7b8a0c8132 input.sk-toggleable__control:checked~div.sk-toggleable__content {max-height: 200px;max-width: 100%;overflow: auto;}#sk-5c5db585-4e61-4d80-ad90-ef7b8a0c8132 input.sk-toggleable__control:checked~label.sk-toggleable__label-arrow:before {content: \"▾\";}#sk-5c5db585-4e61-4d80-ad90-ef7b8a0c8132 div.sk-estimator input.sk-toggleable__control:checked~label.sk-toggleable__label {background-color: #d4ebff;}#sk-5c5db585-4e61-4d80-ad90-ef7b8a0c8132 div.sk-label input.sk-toggleable__control:checked~label.sk-toggleable__label {background-color: #d4ebff;}#sk-5c5db585-4e61-4d80-ad90-ef7b8a0c8132 input.sk-hidden--visually {border: 0;clip: rect(1px 1px 1px 1px);clip: rect(1px, 1px, 1px, 1px);height: 1px;margin: -1px;overflow: hidden;padding: 0;position: absolute;width: 1px;}#sk-5c5db585-4e61-4d80-ad90-ef7b8a0c8132 div.sk-estimator {font-family: monospace;background-color: #f0f8ff;border: 1px dotted black;border-radius: 0.25em;box-sizing: border-box;margin-bottom: 0.5em;}#sk-5c5db585-4e61-4d80-ad90-ef7b8a0c8132 div.sk-estimator:hover {background-color: #d4ebff;}#sk-5c5db585-4e61-4d80-ad90-ef7b8a0c8132 div.sk-parallel-item::after {content: \"\";width: 100%;border-bottom: 1px solid gray;flex-grow: 1;}#sk-5c5db585-4e61-4d80-ad90-ef7b8a0c8132 div.sk-label:hover label.sk-toggleable__label {background-color: #d4ebff;}#sk-5c5db585-4e61-4d80-ad90-ef7b8a0c8132 div.sk-serial::before {content: \"\";position: absolute;border-left: 1px solid gray;box-sizing: border-box;top: 2em;bottom: 0;left: 50%;}#sk-5c5db585-4e61-4d80-ad90-ef7b8a0c8132 div.sk-serial {display: flex;flex-direction: column;align-items: center;background-color: white;padding-right: 0.2em;padding-left: 0.2em;}#sk-5c5db585-4e61-4d80-ad90-ef7b8a0c8132 div.sk-item {z-index: 1;}#sk-5c5db585-4e61-4d80-ad90-ef7b8a0c8132 div.sk-parallel {display: flex;align-items: stretch;justify-content: center;background-color: white;}#sk-5c5db585-4e61-4d80-ad90-ef7b8a0c8132 div.sk-parallel::before {content: \"\";position: absolute;border-left: 1px solid gray;box-sizing: border-box;top: 2em;bottom: 0;left: 50%;}#sk-5c5db585-4e61-4d80-ad90-ef7b8a0c8132 div.sk-parallel-item {display: flex;flex-direction: column;position: relative;background-color: white;}#sk-5c5db585-4e61-4d80-ad90-ef7b8a0c8132 div.sk-parallel-item:first-child::after {align-self: flex-end;width: 50%;}#sk-5c5db585-4e61-4d80-ad90-ef7b8a0c8132 div.sk-parallel-item:last-child::after {align-self: flex-start;width: 50%;}#sk-5c5db585-4e61-4d80-ad90-ef7b8a0c8132 div.sk-parallel-item:only-child::after {width: 0;}#sk-5c5db585-4e61-4d80-ad90-ef7b8a0c8132 div.sk-dashed-wrapped {border: 1px dashed gray;margin: 0 0.4em 0.5em 0.4em;box-sizing: border-box;padding-bottom: 0.4em;background-color: white;position: relative;}#sk-5c5db585-4e61-4d80-ad90-ef7b8a0c8132 div.sk-label label {font-family: monospace;font-weight: bold;background-color: white;display: inline-block;line-height: 1.2em;}#sk-5c5db585-4e61-4d80-ad90-ef7b8a0c8132 div.sk-label-container {position: relative;z-index: 2;text-align: center;}#sk-5c5db585-4e61-4d80-ad90-ef7b8a0c8132 div.sk-container {/* jupyter's `normalize.less` sets `[hidden] { display: none; }` but bootstrap.min.css set `[hidden] { display: none !important; }` so we also need the `!important` here to be able to override the default hidden behavior on the sphinx rendered scikit-learn.org. See: https://github.com/scikit-learn/scikit-learn/issues/21755 */display: inline-block !important;position: relative;}#sk-5c5db585-4e61-4d80-ad90-ef7b8a0c8132 div.sk-text-repr-fallback {display: none;}</style><div id=\"sk-5c5db585-4e61-4d80-ad90-ef7b8a0c8132\" class=\"sk-top-container\"><div class=\"sk-text-repr-fallback\"><pre>Pipeline(steps=[(&#x27;transformer&#x27;,\n",
       "                 ColumnTransformer(transformers=[(&#x27;robustscaler&#x27;,\n",
       "                                                  RobustScaler(),\n",
       "                                                  Index([&#x27;NumberofBuildings&#x27;, &#x27;NumberofFloors&#x27;, &#x27;PropertyGFATotal&#x27;,\n",
       "       &#x27;SiteEUI(kBtu/sf)&#x27;, &#x27;GHGEmissionsIntensity&#x27;, &#x27;BuildingAge&#x27;,\n",
       "       &#x27;TotalUseTypeNumber&#x27;, &#x27;GFABuildingRate&#x27;, &#x27;GFAParkingRate&#x27;,\n",
       "       &#x27;GFAPerBuilding&#x27;, &#x27;GFAPerFloor&#x27;, &#x27;harvesine_distance&#x27;],\n",
       "      dtype=&#x27;object&#x27;)),\n",
       "                                                 (&#x27;onehotencoder&#x27;,\n",
       "                                                  OneHotEncoder(handle_unknown=&#x27;ignore&#x27;),\n",
       "                                                  Index([&#x27;BuildingType&#x27;, &#x27;PrimaryPropertyType&#x27;, &#x27;Neighborhood&#x27;,\n",
       "       &#x27;LargestPropertyUseType&#x27;],\n",
       "      dtype=&#x27;object&#x27;))])),\n",
       "                (&#x27;elastic_net&#x27;, ElasticNet())])</pre><b>Please rerun this cell to show the HTML repr or trust the notebook.</b></div><div class=\"sk-container\" hidden><div class=\"sk-item sk-dashed-wrapped\"><div class=\"sk-label-container\"><div class=\"sk-label sk-toggleable\"><input class=\"sk-toggleable__control sk-hidden--visually\" id=\"2823d7b9-2635-4890-b02e-60bbbd298061\" type=\"checkbox\" ><label for=\"2823d7b9-2635-4890-b02e-60bbbd298061\" class=\"sk-toggleable__label sk-toggleable__label-arrow\">Pipeline</label><div class=\"sk-toggleable__content\"><pre>Pipeline(steps=[(&#x27;transformer&#x27;,\n",
       "                 ColumnTransformer(transformers=[(&#x27;robustscaler&#x27;,\n",
       "                                                  RobustScaler(),\n",
       "                                                  Index([&#x27;NumberofBuildings&#x27;, &#x27;NumberofFloors&#x27;, &#x27;PropertyGFATotal&#x27;,\n",
       "       &#x27;SiteEUI(kBtu/sf)&#x27;, &#x27;GHGEmissionsIntensity&#x27;, &#x27;BuildingAge&#x27;,\n",
       "       &#x27;TotalUseTypeNumber&#x27;, &#x27;GFABuildingRate&#x27;, &#x27;GFAParkingRate&#x27;,\n",
       "       &#x27;GFAPerBuilding&#x27;, &#x27;GFAPerFloor&#x27;, &#x27;harvesine_distance&#x27;],\n",
       "      dtype=&#x27;object&#x27;)),\n",
       "                                                 (&#x27;onehotencoder&#x27;,\n",
       "                                                  OneHotEncoder(handle_unknown=&#x27;ignore&#x27;),\n",
       "                                                  Index([&#x27;BuildingType&#x27;, &#x27;PrimaryPropertyType&#x27;, &#x27;Neighborhood&#x27;,\n",
       "       &#x27;LargestPropertyUseType&#x27;],\n",
       "      dtype=&#x27;object&#x27;))])),\n",
       "                (&#x27;elastic_net&#x27;, ElasticNet())])</pre></div></div></div><div class=\"sk-serial\"><div class=\"sk-item sk-dashed-wrapped\"><div class=\"sk-label-container\"><div class=\"sk-label sk-toggleable\"><input class=\"sk-toggleable__control sk-hidden--visually\" id=\"3269695b-db5e-49d6-bd88-5ecc26296424\" type=\"checkbox\" ><label for=\"3269695b-db5e-49d6-bd88-5ecc26296424\" class=\"sk-toggleable__label sk-toggleable__label-arrow\">transformer: ColumnTransformer</label><div class=\"sk-toggleable__content\"><pre>ColumnTransformer(transformers=[(&#x27;robustscaler&#x27;, RobustScaler(),\n",
       "                                 Index([&#x27;NumberofBuildings&#x27;, &#x27;NumberofFloors&#x27;, &#x27;PropertyGFATotal&#x27;,\n",
       "       &#x27;SiteEUI(kBtu/sf)&#x27;, &#x27;GHGEmissionsIntensity&#x27;, &#x27;BuildingAge&#x27;,\n",
       "       &#x27;TotalUseTypeNumber&#x27;, &#x27;GFABuildingRate&#x27;, &#x27;GFAParkingRate&#x27;,\n",
       "       &#x27;GFAPerBuilding&#x27;, &#x27;GFAPerFloor&#x27;, &#x27;harvesine_distance&#x27;],\n",
       "      dtype=&#x27;object&#x27;)),\n",
       "                                (&#x27;onehotencoder&#x27;,\n",
       "                                 OneHotEncoder(handle_unknown=&#x27;ignore&#x27;),\n",
       "                                 Index([&#x27;BuildingType&#x27;, &#x27;PrimaryPropertyType&#x27;, &#x27;Neighborhood&#x27;,\n",
       "       &#x27;LargestPropertyUseType&#x27;],\n",
       "      dtype=&#x27;object&#x27;))])</pre></div></div></div><div class=\"sk-parallel\"><div class=\"sk-parallel-item\"><div class=\"sk-item\"><div class=\"sk-label-container\"><div class=\"sk-label sk-toggleable\"><input class=\"sk-toggleable__control sk-hidden--visually\" id=\"aae762d1-78b4-4fd5-a032-33bd8ff31500\" type=\"checkbox\" ><label for=\"aae762d1-78b4-4fd5-a032-33bd8ff31500\" class=\"sk-toggleable__label sk-toggleable__label-arrow\">robustscaler</label><div class=\"sk-toggleable__content\"><pre>Index([&#x27;NumberofBuildings&#x27;, &#x27;NumberofFloors&#x27;, &#x27;PropertyGFATotal&#x27;,\n",
       "       &#x27;SiteEUI(kBtu/sf)&#x27;, &#x27;GHGEmissionsIntensity&#x27;, &#x27;BuildingAge&#x27;,\n",
       "       &#x27;TotalUseTypeNumber&#x27;, &#x27;GFABuildingRate&#x27;, &#x27;GFAParkingRate&#x27;,\n",
       "       &#x27;GFAPerBuilding&#x27;, &#x27;GFAPerFloor&#x27;, &#x27;harvesine_distance&#x27;],\n",
       "      dtype=&#x27;object&#x27;)</pre></div></div></div><div class=\"sk-serial\"><div class=\"sk-item\"><div class=\"sk-estimator sk-toggleable\"><input class=\"sk-toggleable__control sk-hidden--visually\" id=\"d3b6577e-c989-4178-bcee-1952ea927b0f\" type=\"checkbox\" ><label for=\"d3b6577e-c989-4178-bcee-1952ea927b0f\" class=\"sk-toggleable__label sk-toggleable__label-arrow\">RobustScaler</label><div class=\"sk-toggleable__content\"><pre>RobustScaler()</pre></div></div></div></div></div></div><div class=\"sk-parallel-item\"><div class=\"sk-item\"><div class=\"sk-label-container\"><div class=\"sk-label sk-toggleable\"><input class=\"sk-toggleable__control sk-hidden--visually\" id=\"c5deaaac-9692-4a78-8455-00e3c0da6d4a\" type=\"checkbox\" ><label for=\"c5deaaac-9692-4a78-8455-00e3c0da6d4a\" class=\"sk-toggleable__label sk-toggleable__label-arrow\">onehotencoder</label><div class=\"sk-toggleable__content\"><pre>Index([&#x27;BuildingType&#x27;, &#x27;PrimaryPropertyType&#x27;, &#x27;Neighborhood&#x27;,\n",
       "       &#x27;LargestPropertyUseType&#x27;],\n",
       "      dtype=&#x27;object&#x27;)</pre></div></div></div><div class=\"sk-serial\"><div class=\"sk-item\"><div class=\"sk-estimator sk-toggleable\"><input class=\"sk-toggleable__control sk-hidden--visually\" id=\"5132f402-880f-42f9-bf64-8fbb0b3a497f\" type=\"checkbox\" ><label for=\"5132f402-880f-42f9-bf64-8fbb0b3a497f\" class=\"sk-toggleable__label sk-toggleable__label-arrow\">OneHotEncoder</label><div class=\"sk-toggleable__content\"><pre>OneHotEncoder(handle_unknown=&#x27;ignore&#x27;)</pre></div></div></div></div></div></div></div></div><div class=\"sk-item\"><div class=\"sk-estimator sk-toggleable\"><input class=\"sk-toggleable__control sk-hidden--visually\" id=\"3967edd7-cca7-4564-b524-7add78640fbe\" type=\"checkbox\" ><label for=\"3967edd7-cca7-4564-b524-7add78640fbe\" class=\"sk-toggleable__label sk-toggleable__label-arrow\">ElasticNet</label><div class=\"sk-toggleable__content\"><pre>ElasticNet()</pre></div></div></div></div></div></div></div>"
      ],
      "text/plain": [
       "Pipeline(steps=[('transformer',\n",
       "                 ColumnTransformer(transformers=[('robustscaler',\n",
       "                                                  RobustScaler(),\n",
       "                                                  Index(['NumberofBuildings', 'NumberofFloors', 'PropertyGFATotal',\n",
       "       'SiteEUI(kBtu/sf)', 'GHGEmissionsIntensity', 'BuildingAge',\n",
       "       'TotalUseTypeNumber', 'GFABuildingRate', 'GFAParkingRate',\n",
       "       'GFAPerBuilding', 'GFAPerFloor', 'harvesine_distance'],\n",
       "      dtype='object')),\n",
       "                                                 ('onehotencoder',\n",
       "                                                  OneHotEncoder(handle_unknown='ignore'),\n",
       "                                                  Index(['BuildingType', 'PrimaryPropertyType', 'Neighborhood',\n",
       "       'LargestPropertyUseType'],\n",
       "      dtype='object'))])),\n",
       "                ('elastic_net', ElasticNet())])"
      ]
     },
     "execution_count": 420,
     "metadata": {},
     "output_type": "execute_result"
    }
   ],
   "source": [
    "from sklearn.linear_model import ElasticNet\n",
    "elasticnet_pipe = Pipeline([\n",
    "         ('transformer', preprocessor),\n",
    "        ('elastic_net',  ElasticNet()),\n",
    "    ])\n",
    "\n",
    "elasticnet_pipe.fit(X_train, y_train)"
   ]
  },
  {
   "cell_type": "code",
   "execution_count": 421,
   "metadata": {},
   "outputs": [
    {
     "name": "stdout",
     "output_type": "stream",
     "text": [
      "R2_GHG:  0.3619757336979853\n",
      "R2_enrgy:  0.38717006714625535\n",
      "MAE: TotalGHGEmissions      1.037634e+02\n",
      "SiteEnergyUse(kBtu)    3.348732e+06\n",
      "dtype: float64\n"
     ]
    }
   ],
   "source": [
    "y_pred_elastic_net= elasticnet_pipe.predict(X_test)\n",
    "\n",
    "print(\"R2_GHG: \", metrics.r2_score(y_test.iloc[:,0],y_pred_elastic_net[:,0]))\n",
    "print(\"R2_enrgy: \", metrics.r2_score(y_test.iloc[:,1], y_pred_elastic_net[:,1]))\n",
    "print(\"MAE:\",mae(y_test,y_pred_elastic_net))"
   ]
  },
  {
   "cell_type": "code",
   "execution_count": 422,
   "metadata": {},
   "outputs": [
    {
     "name": "stdout",
     "output_type": "stream",
     "text": [
      "R2_GHG:  0.3083738455526802\n",
      "R2_enrgy:  0.3859845822466126\n",
      "MAE:  TotalGHGEmissions      1.007563e+02\n",
      "SiteEnergyUse(kBtu)    3.128224e+06\n",
      "dtype: float64\n"
     ]
    }
   ],
   "source": [
    "from sklearn import tree\n",
    "from sklearn.tree import DecisionTreeRegressor\n",
    "tree_pipe = Pipeline([\n",
    "        ('transformer', preprocessor),\n",
    "        ('model_tree',  DecisionTreeRegressor()),\n",
    "    ])\n",
    " \n",
    "tree_pipe.fit(X_train,y_train)\n",
    " \n",
    "y_pred_tree = tree_pipe.predict(X_test)\n",
    " \n",
    "print(\"R2_GHG: \", metrics.r2_score(y_test.iloc[:,0],y_pred_tree[:,0]))\n",
    "print(\"R2_enrgy: \", metrics.r2_score(y_test.iloc[:,1], y_pred_tree[:,1]))\n",
    "print(\"MAE: \", mae(y_test, y_pred))"
   ]
  },
  {
   "cell_type": "markdown",
   "metadata": {},
   "source": [
    "### RandomForestRegressor\n"
   ]
  },
  {
   "cell_type": "code",
   "execution_count": 423,
   "metadata": {},
   "outputs": [
    {
     "data": {
      "text/html": [
       "<style>#sk-3b321a8d-964f-4975-b117-49337525cf92 {color: black;background-color: white;}#sk-3b321a8d-964f-4975-b117-49337525cf92 pre{padding: 0;}#sk-3b321a8d-964f-4975-b117-49337525cf92 div.sk-toggleable {background-color: white;}#sk-3b321a8d-964f-4975-b117-49337525cf92 label.sk-toggleable__label {cursor: pointer;display: block;width: 100%;margin-bottom: 0;padding: 0.3em;box-sizing: border-box;text-align: center;}#sk-3b321a8d-964f-4975-b117-49337525cf92 label.sk-toggleable__label-arrow:before {content: \"▸\";float: left;margin-right: 0.25em;color: #696969;}#sk-3b321a8d-964f-4975-b117-49337525cf92 label.sk-toggleable__label-arrow:hover:before {color: black;}#sk-3b321a8d-964f-4975-b117-49337525cf92 div.sk-estimator:hover label.sk-toggleable__label-arrow:before {color: black;}#sk-3b321a8d-964f-4975-b117-49337525cf92 div.sk-toggleable__content {max-height: 0;max-width: 0;overflow: hidden;text-align: left;background-color: #f0f8ff;}#sk-3b321a8d-964f-4975-b117-49337525cf92 div.sk-toggleable__content pre {margin: 0.2em;color: black;border-radius: 0.25em;background-color: #f0f8ff;}#sk-3b321a8d-964f-4975-b117-49337525cf92 input.sk-toggleable__control:checked~div.sk-toggleable__content {max-height: 200px;max-width: 100%;overflow: auto;}#sk-3b321a8d-964f-4975-b117-49337525cf92 input.sk-toggleable__control:checked~label.sk-toggleable__label-arrow:before {content: \"▾\";}#sk-3b321a8d-964f-4975-b117-49337525cf92 div.sk-estimator input.sk-toggleable__control:checked~label.sk-toggleable__label {background-color: #d4ebff;}#sk-3b321a8d-964f-4975-b117-49337525cf92 div.sk-label input.sk-toggleable__control:checked~label.sk-toggleable__label {background-color: #d4ebff;}#sk-3b321a8d-964f-4975-b117-49337525cf92 input.sk-hidden--visually {border: 0;clip: rect(1px 1px 1px 1px);clip: rect(1px, 1px, 1px, 1px);height: 1px;margin: -1px;overflow: hidden;padding: 0;position: absolute;width: 1px;}#sk-3b321a8d-964f-4975-b117-49337525cf92 div.sk-estimator {font-family: monospace;background-color: #f0f8ff;border: 1px dotted black;border-radius: 0.25em;box-sizing: border-box;margin-bottom: 0.5em;}#sk-3b321a8d-964f-4975-b117-49337525cf92 div.sk-estimator:hover {background-color: #d4ebff;}#sk-3b321a8d-964f-4975-b117-49337525cf92 div.sk-parallel-item::after {content: \"\";width: 100%;border-bottom: 1px solid gray;flex-grow: 1;}#sk-3b321a8d-964f-4975-b117-49337525cf92 div.sk-label:hover label.sk-toggleable__label {background-color: #d4ebff;}#sk-3b321a8d-964f-4975-b117-49337525cf92 div.sk-serial::before {content: \"\";position: absolute;border-left: 1px solid gray;box-sizing: border-box;top: 2em;bottom: 0;left: 50%;}#sk-3b321a8d-964f-4975-b117-49337525cf92 div.sk-serial {display: flex;flex-direction: column;align-items: center;background-color: white;padding-right: 0.2em;padding-left: 0.2em;}#sk-3b321a8d-964f-4975-b117-49337525cf92 div.sk-item {z-index: 1;}#sk-3b321a8d-964f-4975-b117-49337525cf92 div.sk-parallel {display: flex;align-items: stretch;justify-content: center;background-color: white;}#sk-3b321a8d-964f-4975-b117-49337525cf92 div.sk-parallel::before {content: \"\";position: absolute;border-left: 1px solid gray;box-sizing: border-box;top: 2em;bottom: 0;left: 50%;}#sk-3b321a8d-964f-4975-b117-49337525cf92 div.sk-parallel-item {display: flex;flex-direction: column;position: relative;background-color: white;}#sk-3b321a8d-964f-4975-b117-49337525cf92 div.sk-parallel-item:first-child::after {align-self: flex-end;width: 50%;}#sk-3b321a8d-964f-4975-b117-49337525cf92 div.sk-parallel-item:last-child::after {align-self: flex-start;width: 50%;}#sk-3b321a8d-964f-4975-b117-49337525cf92 div.sk-parallel-item:only-child::after {width: 0;}#sk-3b321a8d-964f-4975-b117-49337525cf92 div.sk-dashed-wrapped {border: 1px dashed gray;margin: 0 0.4em 0.5em 0.4em;box-sizing: border-box;padding-bottom: 0.4em;background-color: white;position: relative;}#sk-3b321a8d-964f-4975-b117-49337525cf92 div.sk-label label {font-family: monospace;font-weight: bold;background-color: white;display: inline-block;line-height: 1.2em;}#sk-3b321a8d-964f-4975-b117-49337525cf92 div.sk-label-container {position: relative;z-index: 2;text-align: center;}#sk-3b321a8d-964f-4975-b117-49337525cf92 div.sk-container {/* jupyter's `normalize.less` sets `[hidden] { display: none; }` but bootstrap.min.css set `[hidden] { display: none !important; }` so we also need the `!important` here to be able to override the default hidden behavior on the sphinx rendered scikit-learn.org. See: https://github.com/scikit-learn/scikit-learn/issues/21755 */display: inline-block !important;position: relative;}#sk-3b321a8d-964f-4975-b117-49337525cf92 div.sk-text-repr-fallback {display: none;}</style><div id=\"sk-3b321a8d-964f-4975-b117-49337525cf92\" class=\"sk-top-container\"><div class=\"sk-text-repr-fallback\"><pre>Pipeline(steps=[(&#x27;preprocessing&#x27;,\n",
       "                 ColumnTransformer(transformers=[(&#x27;robustscaler&#x27;,\n",
       "                                                  RobustScaler(),\n",
       "                                                  Index([&#x27;NumberofBuildings&#x27;, &#x27;NumberofFloors&#x27;, &#x27;PropertyGFATotal&#x27;,\n",
       "       &#x27;SiteEUI(kBtu/sf)&#x27;, &#x27;GHGEmissionsIntensity&#x27;, &#x27;BuildingAge&#x27;,\n",
       "       &#x27;TotalUseTypeNumber&#x27;, &#x27;GFABuildingRate&#x27;, &#x27;GFAParkingRate&#x27;,\n",
       "       &#x27;GFAPerBuilding&#x27;, &#x27;GFAPerFloor&#x27;, &#x27;harvesine_distance&#x27;],\n",
       "      dtype=&#x27;object&#x27;)),\n",
       "                                                 (&#x27;onehotencoder&#x27;,\n",
       "                                                  OneHotEncoder(handle_unknown=&#x27;ignore&#x27;),\n",
       "                                                  Index([&#x27;BuildingType&#x27;, &#x27;PrimaryPropertyType&#x27;, &#x27;Neighborhood&#x27;,\n",
       "       &#x27;LargestPropertyUseType&#x27;],\n",
       "      dtype=&#x27;object&#x27;))])),\n",
       "                (&#x27;clf&#x27;, RandomForestRegressor(n_jobs=-1, random_state=0))])</pre><b>Please rerun this cell to show the HTML repr or trust the notebook.</b></div><div class=\"sk-container\" hidden><div class=\"sk-item sk-dashed-wrapped\"><div class=\"sk-label-container\"><div class=\"sk-label sk-toggleable\"><input class=\"sk-toggleable__control sk-hidden--visually\" id=\"19d6ad82-ae50-40d7-adfd-56592da9c1dd\" type=\"checkbox\" ><label for=\"19d6ad82-ae50-40d7-adfd-56592da9c1dd\" class=\"sk-toggleable__label sk-toggleable__label-arrow\">Pipeline</label><div class=\"sk-toggleable__content\"><pre>Pipeline(steps=[(&#x27;preprocessing&#x27;,\n",
       "                 ColumnTransformer(transformers=[(&#x27;robustscaler&#x27;,\n",
       "                                                  RobustScaler(),\n",
       "                                                  Index([&#x27;NumberofBuildings&#x27;, &#x27;NumberofFloors&#x27;, &#x27;PropertyGFATotal&#x27;,\n",
       "       &#x27;SiteEUI(kBtu/sf)&#x27;, &#x27;GHGEmissionsIntensity&#x27;, &#x27;BuildingAge&#x27;,\n",
       "       &#x27;TotalUseTypeNumber&#x27;, &#x27;GFABuildingRate&#x27;, &#x27;GFAParkingRate&#x27;,\n",
       "       &#x27;GFAPerBuilding&#x27;, &#x27;GFAPerFloor&#x27;, &#x27;harvesine_distance&#x27;],\n",
       "      dtype=&#x27;object&#x27;)),\n",
       "                                                 (&#x27;onehotencoder&#x27;,\n",
       "                                                  OneHotEncoder(handle_unknown=&#x27;ignore&#x27;),\n",
       "                                                  Index([&#x27;BuildingType&#x27;, &#x27;PrimaryPropertyType&#x27;, &#x27;Neighborhood&#x27;,\n",
       "       &#x27;LargestPropertyUseType&#x27;],\n",
       "      dtype=&#x27;object&#x27;))])),\n",
       "                (&#x27;clf&#x27;, RandomForestRegressor(n_jobs=-1, random_state=0))])</pre></div></div></div><div class=\"sk-serial\"><div class=\"sk-item sk-dashed-wrapped\"><div class=\"sk-label-container\"><div class=\"sk-label sk-toggleable\"><input class=\"sk-toggleable__control sk-hidden--visually\" id=\"9c12d38d-f6f5-415a-9df2-3b5a13c7b46e\" type=\"checkbox\" ><label for=\"9c12d38d-f6f5-415a-9df2-3b5a13c7b46e\" class=\"sk-toggleable__label sk-toggleable__label-arrow\">preprocessing: ColumnTransformer</label><div class=\"sk-toggleable__content\"><pre>ColumnTransformer(transformers=[(&#x27;robustscaler&#x27;, RobustScaler(),\n",
       "                                 Index([&#x27;NumberofBuildings&#x27;, &#x27;NumberofFloors&#x27;, &#x27;PropertyGFATotal&#x27;,\n",
       "       &#x27;SiteEUI(kBtu/sf)&#x27;, &#x27;GHGEmissionsIntensity&#x27;, &#x27;BuildingAge&#x27;,\n",
       "       &#x27;TotalUseTypeNumber&#x27;, &#x27;GFABuildingRate&#x27;, &#x27;GFAParkingRate&#x27;,\n",
       "       &#x27;GFAPerBuilding&#x27;, &#x27;GFAPerFloor&#x27;, &#x27;harvesine_distance&#x27;],\n",
       "      dtype=&#x27;object&#x27;)),\n",
       "                                (&#x27;onehotencoder&#x27;,\n",
       "                                 OneHotEncoder(handle_unknown=&#x27;ignore&#x27;),\n",
       "                                 Index([&#x27;BuildingType&#x27;, &#x27;PrimaryPropertyType&#x27;, &#x27;Neighborhood&#x27;,\n",
       "       &#x27;LargestPropertyUseType&#x27;],\n",
       "      dtype=&#x27;object&#x27;))])</pre></div></div></div><div class=\"sk-parallel\"><div class=\"sk-parallel-item\"><div class=\"sk-item\"><div class=\"sk-label-container\"><div class=\"sk-label sk-toggleable\"><input class=\"sk-toggleable__control sk-hidden--visually\" id=\"1db0afd1-c9e9-487c-b6ee-cb6b80f050a0\" type=\"checkbox\" ><label for=\"1db0afd1-c9e9-487c-b6ee-cb6b80f050a0\" class=\"sk-toggleable__label sk-toggleable__label-arrow\">robustscaler</label><div class=\"sk-toggleable__content\"><pre>Index([&#x27;NumberofBuildings&#x27;, &#x27;NumberofFloors&#x27;, &#x27;PropertyGFATotal&#x27;,\n",
       "       &#x27;SiteEUI(kBtu/sf)&#x27;, &#x27;GHGEmissionsIntensity&#x27;, &#x27;BuildingAge&#x27;,\n",
       "       &#x27;TotalUseTypeNumber&#x27;, &#x27;GFABuildingRate&#x27;, &#x27;GFAParkingRate&#x27;,\n",
       "       &#x27;GFAPerBuilding&#x27;, &#x27;GFAPerFloor&#x27;, &#x27;harvesine_distance&#x27;],\n",
       "      dtype=&#x27;object&#x27;)</pre></div></div></div><div class=\"sk-serial\"><div class=\"sk-item\"><div class=\"sk-estimator sk-toggleable\"><input class=\"sk-toggleable__control sk-hidden--visually\" id=\"28da4cae-f640-47f0-85bc-3049e2ce0f84\" type=\"checkbox\" ><label for=\"28da4cae-f640-47f0-85bc-3049e2ce0f84\" class=\"sk-toggleable__label sk-toggleable__label-arrow\">RobustScaler</label><div class=\"sk-toggleable__content\"><pre>RobustScaler()</pre></div></div></div></div></div></div><div class=\"sk-parallel-item\"><div class=\"sk-item\"><div class=\"sk-label-container\"><div class=\"sk-label sk-toggleable\"><input class=\"sk-toggleable__control sk-hidden--visually\" id=\"d2734bc7-024f-4f09-89fd-9e58f39c60ef\" type=\"checkbox\" ><label for=\"d2734bc7-024f-4f09-89fd-9e58f39c60ef\" class=\"sk-toggleable__label sk-toggleable__label-arrow\">onehotencoder</label><div class=\"sk-toggleable__content\"><pre>Index([&#x27;BuildingType&#x27;, &#x27;PrimaryPropertyType&#x27;, &#x27;Neighborhood&#x27;,\n",
       "       &#x27;LargestPropertyUseType&#x27;],\n",
       "      dtype=&#x27;object&#x27;)</pre></div></div></div><div class=\"sk-serial\"><div class=\"sk-item\"><div class=\"sk-estimator sk-toggleable\"><input class=\"sk-toggleable__control sk-hidden--visually\" id=\"4a0ab0e5-1487-4155-824a-1bd504434d62\" type=\"checkbox\" ><label for=\"4a0ab0e5-1487-4155-824a-1bd504434d62\" class=\"sk-toggleable__label sk-toggleable__label-arrow\">OneHotEncoder</label><div class=\"sk-toggleable__content\"><pre>OneHotEncoder(handle_unknown=&#x27;ignore&#x27;)</pre></div></div></div></div></div></div></div></div><div class=\"sk-item\"><div class=\"sk-estimator sk-toggleable\"><input class=\"sk-toggleable__control sk-hidden--visually\" id=\"2b65dd8b-ea9e-4e0a-8921-1510ea3ce3e1\" type=\"checkbox\" ><label for=\"2b65dd8b-ea9e-4e0a-8921-1510ea3ce3e1\" class=\"sk-toggleable__label sk-toggleable__label-arrow\">RandomForestRegressor</label><div class=\"sk-toggleable__content\"><pre>RandomForestRegressor(n_jobs=-1, random_state=0)</pre></div></div></div></div></div></div></div>"
      ],
      "text/plain": [
       "Pipeline(steps=[('preprocessing',\n",
       "                 ColumnTransformer(transformers=[('robustscaler',\n",
       "                                                  RobustScaler(),\n",
       "                                                  Index(['NumberofBuildings', 'NumberofFloors', 'PropertyGFATotal',\n",
       "       'SiteEUI(kBtu/sf)', 'GHGEmissionsIntensity', 'BuildingAge',\n",
       "       'TotalUseTypeNumber', 'GFABuildingRate', 'GFAParkingRate',\n",
       "       'GFAPerBuilding', 'GFAPerFloor', 'harvesine_distance'],\n",
       "      dtype='object')),\n",
       "                                                 ('onehotencoder',\n",
       "                                                  OneHotEncoder(handle_unknown='ignore'),\n",
       "                                                  Index(['BuildingType', 'PrimaryPropertyType', 'Neighborhood',\n",
       "       'LargestPropertyUseType'],\n",
       "      dtype='object'))])),\n",
       "                ('clf', RandomForestRegressor(n_jobs=-1, random_state=0))])"
      ]
     },
     "execution_count": 423,
     "metadata": {},
     "output_type": "execute_result"
    }
   ],
   "source": [
    "from sklearn.ensemble import RandomForestRegressor\n",
    "rf_pipeline = Pipeline(\n",
    "    [\n",
    "       ('preprocessing', preprocessor),\n",
    "        (\"clf\", RandomForestRegressor(n_jobs=-1, random_state=0)),\n",
    "    ]\n",
    ")\n",
    "rf_pipeline.fit(X_train, y_train)"
   ]
  },
  {
   "cell_type": "code",
   "execution_count": 424,
   "metadata": {},
   "outputs": [],
   "source": [
    "#rf_pipeline.get_params().keys()"
   ]
  },
  {
   "cell_type": "code",
   "execution_count": 425,
   "metadata": {},
   "outputs": [
    {
     "name": "stdout",
     "output_type": "stream",
     "text": [
      "<class 'pandas.core.frame.DataFrame'>\n",
      "Int64Index: 3193 entries, 0 to 3212\n",
      "Data columns (total 18 columns):\n",
      " #   Column                  Non-Null Count  Dtype  \n",
      "---  ------                  --------------  -----  \n",
      " 0   BuildingType            3193 non-null   object \n",
      " 1   PrimaryPropertyType     3193 non-null   object \n",
      " 2   Neighborhood            3193 non-null   object \n",
      " 3   NumberofBuildings       3193 non-null   int64  \n",
      " 4   NumberofFloors          3193 non-null   int64  \n",
      " 5   PropertyGFATotal        3193 non-null   int64  \n",
      " 6   LargestPropertyUseType  3193 non-null   object \n",
      " 7   SiteEUI(kBtu/sf)        3193 non-null   float64\n",
      " 8   SiteEnergyUse(kBtu)     3193 non-null   float64\n",
      " 9   TotalGHGEmissions       3193 non-null   float64\n",
      " 10  GHGEmissionsIntensity   3193 non-null   float64\n",
      " 11  BuildingAge             3193 non-null   int64  \n",
      " 12  TotalUseTypeNumber      3193 non-null   int64  \n",
      " 13  GFABuildingRate         3193 non-null   float64\n",
      " 14  GFAParkingRate          3193 non-null   float64\n",
      " 15  GFAPerBuilding          3193 non-null   float64\n",
      " 16  GFAPerFloor             3193 non-null   float64\n",
      " 17  harvesine_distance      3193 non-null   float64\n",
      "dtypes: float64(9), int64(5), object(4)\n",
      "memory usage: 474.0+ KB\n"
     ]
    }
   ],
   "source": [
    "data.info()"
   ]
  },
  {
   "cell_type": "code",
   "execution_count": 426,
   "metadata": {},
   "outputs": [
    {
     "name": "stdout",
     "output_type": "stream",
     "text": [
      "Fitting 5 folds for each of 24 candidates, totalling 120 fits\n",
      "[CV] END clf__max_features=auto, clf__min_samples_leaf=1, clf__n_estimators=10; total time=   2.2s\n",
      "[CV] END clf__max_features=auto, clf__min_samples_leaf=1, clf__n_estimators=10; total time=   0.2s\n",
      "[CV] END clf__max_features=auto, clf__min_samples_leaf=1, clf__n_estimators=10; total time=   0.2s\n",
      "[CV] END clf__max_features=auto, clf__min_samples_leaf=1, clf__n_estimators=10; total time=   0.3s\n",
      "[CV] END clf__max_features=auto, clf__min_samples_leaf=1, clf__n_estimators=10; total time=   0.2s\n",
      "[CV] END clf__max_features=auto, clf__min_samples_leaf=1, clf__n_estimators=50; total time=   1.1s\n",
      "[CV] END clf__max_features=auto, clf__min_samples_leaf=1, clf__n_estimators=50; total time=   1.1s\n",
      "[CV] END clf__max_features=auto, clf__min_samples_leaf=1, clf__n_estimators=50; total time=   1.1s\n",
      "[CV] END clf__max_features=auto, clf__min_samples_leaf=1, clf__n_estimators=50; total time=   1.1s\n",
      "[CV] END clf__max_features=auto, clf__min_samples_leaf=1, clf__n_estimators=50; total time=   1.1s\n",
      "[CV] END clf__max_features=auto, clf__min_samples_leaf=1, clf__n_estimators=100; total time=   2.3s\n",
      "[CV] END clf__max_features=auto, clf__min_samples_leaf=1, clf__n_estimators=100; total time=   2.3s\n",
      "[CV] END clf__max_features=auto, clf__min_samples_leaf=1, clf__n_estimators=100; total time=   2.3s\n",
      "[CV] END clf__max_features=auto, clf__min_samples_leaf=1, clf__n_estimators=100; total time=   2.3s\n",
      "[CV] END clf__max_features=auto, clf__min_samples_leaf=1, clf__n_estimators=100; total time=   2.3s\n",
      "[CV] END clf__max_features=auto, clf__min_samples_leaf=1, clf__n_estimators=300; total time=   7.5s\n",
      "[CV] END clf__max_features=auto, clf__min_samples_leaf=1, clf__n_estimators=300; total time=   7.1s\n",
      "[CV] END clf__max_features=auto, clf__min_samples_leaf=1, clf__n_estimators=300; total time=   8.1s\n",
      "[CV] END clf__max_features=auto, clf__min_samples_leaf=1, clf__n_estimators=300; total time=   7.2s\n",
      "[CV] END clf__max_features=auto, clf__min_samples_leaf=1, clf__n_estimators=300; total time=   7.9s\n",
      "[CV] END clf__max_features=auto, clf__min_samples_leaf=3, clf__n_estimators=10; total time=   0.1s\n",
      "[CV] END clf__max_features=auto, clf__min_samples_leaf=3, clf__n_estimators=10; total time=   0.1s\n",
      "[CV] END clf__max_features=auto, clf__min_samples_leaf=3, clf__n_estimators=10; total time=   0.1s\n",
      "[CV] END clf__max_features=auto, clf__min_samples_leaf=3, clf__n_estimators=10; total time=   0.1s\n",
      "[CV] END clf__max_features=auto, clf__min_samples_leaf=3, clf__n_estimators=10; total time=   0.1s\n",
      "[CV] END clf__max_features=auto, clf__min_samples_leaf=3, clf__n_estimators=50; total time=   0.7s\n",
      "[CV] END clf__max_features=auto, clf__min_samples_leaf=3, clf__n_estimators=50; total time=   0.7s\n",
      "[CV] END clf__max_features=auto, clf__min_samples_leaf=3, clf__n_estimators=50; total time=   0.7s\n",
      "[CV] END clf__max_features=auto, clf__min_samples_leaf=3, clf__n_estimators=50; total time=   0.7s\n",
      "[CV] END clf__max_features=auto, clf__min_samples_leaf=3, clf__n_estimators=50; total time=   0.7s\n",
      "[CV] END clf__max_features=auto, clf__min_samples_leaf=3, clf__n_estimators=100; total time=   1.4s\n",
      "[CV] END clf__max_features=auto, clf__min_samples_leaf=3, clf__n_estimators=100; total time=   1.4s\n",
      "[CV] END clf__max_features=auto, clf__min_samples_leaf=3, clf__n_estimators=100; total time=   1.3s\n",
      "[CV] END clf__max_features=auto, clf__min_samples_leaf=3, clf__n_estimators=100; total time=   1.4s\n",
      "[CV] END clf__max_features=auto, clf__min_samples_leaf=3, clf__n_estimators=100; total time=   1.3s\n",
      "[CV] END clf__max_features=auto, clf__min_samples_leaf=3, clf__n_estimators=300; total time=   4.1s\n",
      "[CV] END clf__max_features=auto, clf__min_samples_leaf=3, clf__n_estimators=300; total time=   4.1s\n",
      "[CV] END clf__max_features=auto, clf__min_samples_leaf=3, clf__n_estimators=300; total time=   4.1s\n",
      "[CV] END clf__max_features=auto, clf__min_samples_leaf=3, clf__n_estimators=300; total time=   4.1s\n",
      "[CV] END clf__max_features=auto, clf__min_samples_leaf=3, clf__n_estimators=300; total time=   4.1s\n",
      "[CV] END clf__max_features=auto, clf__min_samples_leaf=5, clf__n_estimators=10; total time=   0.1s\n",
      "[CV] END clf__max_features=auto, clf__min_samples_leaf=5, clf__n_estimators=10; total time=   0.1s\n",
      "[CV] END clf__max_features=auto, clf__min_samples_leaf=5, clf__n_estimators=10; total time=   0.1s\n",
      "[CV] END clf__max_features=auto, clf__min_samples_leaf=5, clf__n_estimators=10; total time=   0.1s\n",
      "[CV] END clf__max_features=auto, clf__min_samples_leaf=5, clf__n_estimators=10; total time=   0.1s\n",
      "[CV] END clf__max_features=auto, clf__min_samples_leaf=5, clf__n_estimators=50; total time=   0.6s\n",
      "[CV] END clf__max_features=auto, clf__min_samples_leaf=5, clf__n_estimators=50; total time=   0.5s\n",
      "[CV] END clf__max_features=auto, clf__min_samples_leaf=5, clf__n_estimators=50; total time=   0.5s\n",
      "[CV] END clf__max_features=auto, clf__min_samples_leaf=5, clf__n_estimators=50; total time=   0.5s\n",
      "[CV] END clf__max_features=auto, clf__min_samples_leaf=5, clf__n_estimators=50; total time=   0.6s\n",
      "[CV] END clf__max_features=auto, clf__min_samples_leaf=5, clf__n_estimators=100; total time=   1.1s\n",
      "[CV] END clf__max_features=auto, clf__min_samples_leaf=5, clf__n_estimators=100; total time=   1.1s\n",
      "[CV] END clf__max_features=auto, clf__min_samples_leaf=5, clf__n_estimators=100; total time=   1.1s\n",
      "[CV] END clf__max_features=auto, clf__min_samples_leaf=5, clf__n_estimators=100; total time=   1.1s\n",
      "[CV] END clf__max_features=auto, clf__min_samples_leaf=5, clf__n_estimators=100; total time=   1.1s\n",
      "[CV] END clf__max_features=auto, clf__min_samples_leaf=5, clf__n_estimators=300; total time=   3.4s\n",
      "[CV] END clf__max_features=auto, clf__min_samples_leaf=5, clf__n_estimators=300; total time=   3.4s\n",
      "[CV] END clf__max_features=auto, clf__min_samples_leaf=5, clf__n_estimators=300; total time=   3.3s\n",
      "[CV] END clf__max_features=auto, clf__min_samples_leaf=5, clf__n_estimators=300; total time=   3.4s\n",
      "[CV] END clf__max_features=auto, clf__min_samples_leaf=5, clf__n_estimators=300; total time=   3.4s\n",
      "[CV] END clf__max_features=sqrt, clf__min_samples_leaf=1, clf__n_estimators=10; total time=   0.0s\n",
      "[CV] END clf__max_features=sqrt, clf__min_samples_leaf=1, clf__n_estimators=10; total time=   0.0s\n",
      "[CV] END clf__max_features=sqrt, clf__min_samples_leaf=1, clf__n_estimators=10; total time=   0.0s\n",
      "[CV] END clf__max_features=sqrt, clf__min_samples_leaf=1, clf__n_estimators=10; total time=   0.0s\n",
      "[CV] END clf__max_features=sqrt, clf__min_samples_leaf=1, clf__n_estimators=10; total time=   0.0s\n",
      "[CV] END clf__max_features=sqrt, clf__min_samples_leaf=1, clf__n_estimators=50; total time=   0.3s\n",
      "[CV] END clf__max_features=sqrt, clf__min_samples_leaf=1, clf__n_estimators=50; total time=   0.3s\n",
      "[CV] END clf__max_features=sqrt, clf__min_samples_leaf=1, clf__n_estimators=50; total time=   0.3s\n",
      "[CV] END clf__max_features=sqrt, clf__min_samples_leaf=1, clf__n_estimators=50; total time=   0.3s\n",
      "[CV] END clf__max_features=sqrt, clf__min_samples_leaf=1, clf__n_estimators=50; total time=   0.3s\n",
      "[CV] END clf__max_features=sqrt, clf__min_samples_leaf=1, clf__n_estimators=100; total time=   0.6s\n",
      "[CV] END clf__max_features=sqrt, clf__min_samples_leaf=1, clf__n_estimators=100; total time=   0.6s\n",
      "[CV] END clf__max_features=sqrt, clf__min_samples_leaf=1, clf__n_estimators=100; total time=   0.5s\n",
      "[CV] END clf__max_features=sqrt, clf__min_samples_leaf=1, clf__n_estimators=100; total time=   0.5s\n",
      "[CV] END clf__max_features=sqrt, clf__min_samples_leaf=1, clf__n_estimators=100; total time=   0.6s\n",
      "[CV] END clf__max_features=sqrt, clf__min_samples_leaf=1, clf__n_estimators=300; total time=   1.7s\n",
      "[CV] END clf__max_features=sqrt, clf__min_samples_leaf=1, clf__n_estimators=300; total time=   1.7s\n",
      "[CV] END clf__max_features=sqrt, clf__min_samples_leaf=1, clf__n_estimators=300; total time=   1.7s\n",
      "[CV] END clf__max_features=sqrt, clf__min_samples_leaf=1, clf__n_estimators=300; total time=   1.7s\n",
      "[CV] END clf__max_features=sqrt, clf__min_samples_leaf=1, clf__n_estimators=300; total time=   1.7s\n",
      "[CV] END clf__max_features=sqrt, clf__min_samples_leaf=3, clf__n_estimators=10; total time=   0.0s\n",
      "[CV] END clf__max_features=sqrt, clf__min_samples_leaf=3, clf__n_estimators=10; total time=   0.0s\n",
      "[CV] END clf__max_features=sqrt, clf__min_samples_leaf=3, clf__n_estimators=10; total time=   0.0s\n",
      "[CV] END clf__max_features=sqrt, clf__min_samples_leaf=3, clf__n_estimators=10; total time=   0.0s\n",
      "[CV] END clf__max_features=sqrt, clf__min_samples_leaf=3, clf__n_estimators=10; total time=   0.0s\n",
      "[CV] END clf__max_features=sqrt, clf__min_samples_leaf=3, clf__n_estimators=50; total time=   0.1s\n",
      "[CV] END clf__max_features=sqrt, clf__min_samples_leaf=3, clf__n_estimators=50; total time=   0.2s\n",
      "[CV] END clf__max_features=sqrt, clf__min_samples_leaf=3, clf__n_estimators=50; total time=   0.1s\n",
      "[CV] END clf__max_features=sqrt, clf__min_samples_leaf=3, clf__n_estimators=50; total time=   0.1s\n",
      "[CV] END clf__max_features=sqrt, clf__min_samples_leaf=3, clf__n_estimators=50; total time=   0.1s\n",
      "[CV] END clf__max_features=sqrt, clf__min_samples_leaf=3, clf__n_estimators=100; total time=   0.3s\n",
      "[CV] END clf__max_features=sqrt, clf__min_samples_leaf=3, clf__n_estimators=100; total time=   0.3s\n",
      "[CV] END clf__max_features=sqrt, clf__min_samples_leaf=3, clf__n_estimators=100; total time=   0.3s\n",
      "[CV] END clf__max_features=sqrt, clf__min_samples_leaf=3, clf__n_estimators=100; total time=   0.3s\n",
      "[CV] END clf__max_features=sqrt, clf__min_samples_leaf=3, clf__n_estimators=100; total time=   0.3s\n",
      "[CV] END clf__max_features=sqrt, clf__min_samples_leaf=3, clf__n_estimators=300; total time=   0.9s\n",
      "[CV] END clf__max_features=sqrt, clf__min_samples_leaf=3, clf__n_estimators=300; total time=   0.9s\n",
      "[CV] END clf__max_features=sqrt, clf__min_samples_leaf=3, clf__n_estimators=300; total time=   0.9s\n",
      "[CV] END clf__max_features=sqrt, clf__min_samples_leaf=3, clf__n_estimators=300; total time=   0.9s\n",
      "[CV] END clf__max_features=sqrt, clf__min_samples_leaf=3, clf__n_estimators=300; total time=   0.8s\n",
      "[CV] END clf__max_features=sqrt, clf__min_samples_leaf=5, clf__n_estimators=10; total time=   0.0s\n",
      "[CV] END clf__max_features=sqrt, clf__min_samples_leaf=5, clf__n_estimators=10; total time=   0.0s\n",
      "[CV] END clf__max_features=sqrt, clf__min_samples_leaf=5, clf__n_estimators=10; total time=   0.0s\n",
      "[CV] END clf__max_features=sqrt, clf__min_samples_leaf=5, clf__n_estimators=10; total time=   0.0s\n",
      "[CV] END clf__max_features=sqrt, clf__min_samples_leaf=5, clf__n_estimators=10; total time=   0.0s\n",
      "[CV] END clf__max_features=sqrt, clf__min_samples_leaf=5, clf__n_estimators=50; total time=   0.1s\n",
      "[CV] END clf__max_features=sqrt, clf__min_samples_leaf=5, clf__n_estimators=50; total time=   0.1s\n",
      "[CV] END clf__max_features=sqrt, clf__min_samples_leaf=5, clf__n_estimators=50; total time=   0.1s\n",
      "[CV] END clf__max_features=sqrt, clf__min_samples_leaf=5, clf__n_estimators=50; total time=   0.1s\n",
      "[CV] END clf__max_features=sqrt, clf__min_samples_leaf=5, clf__n_estimators=50; total time=   0.1s\n",
      "[CV] END clf__max_features=sqrt, clf__min_samples_leaf=5, clf__n_estimators=100; total time=   0.3s\n",
      "[CV] END clf__max_features=sqrt, clf__min_samples_leaf=5, clf__n_estimators=100; total time=   0.2s\n",
      "[CV] END clf__max_features=sqrt, clf__min_samples_leaf=5, clf__n_estimators=100; total time=   0.2s\n",
      "[CV] END clf__max_features=sqrt, clf__min_samples_leaf=5, clf__n_estimators=100; total time=   0.2s\n",
      "[CV] END clf__max_features=sqrt, clf__min_samples_leaf=5, clf__n_estimators=100; total time=   0.2s\n",
      "[CV] END clf__max_features=sqrt, clf__min_samples_leaf=5, clf__n_estimators=300; total time=   0.8s\n",
      "[CV] END clf__max_features=sqrt, clf__min_samples_leaf=5, clf__n_estimators=300; total time=   0.8s\n",
      "[CV] END clf__max_features=sqrt, clf__min_samples_leaf=5, clf__n_estimators=300; total time=   0.8s\n",
      "[CV] END clf__max_features=sqrt, clf__min_samples_leaf=5, clf__n_estimators=300; total time=   0.8s\n",
      "[CV] END clf__max_features=sqrt, clf__min_samples_leaf=5, clf__n_estimators=300; total time=   0.8s\n"
     ]
    },
    {
     "data": {
      "text/html": [
       "<style>#sk-d0a513aa-7b77-4a4a-af6b-40db10cc271d {color: black;background-color: white;}#sk-d0a513aa-7b77-4a4a-af6b-40db10cc271d pre{padding: 0;}#sk-d0a513aa-7b77-4a4a-af6b-40db10cc271d div.sk-toggleable {background-color: white;}#sk-d0a513aa-7b77-4a4a-af6b-40db10cc271d label.sk-toggleable__label {cursor: pointer;display: block;width: 100%;margin-bottom: 0;padding: 0.3em;box-sizing: border-box;text-align: center;}#sk-d0a513aa-7b77-4a4a-af6b-40db10cc271d label.sk-toggleable__label-arrow:before {content: \"▸\";float: left;margin-right: 0.25em;color: #696969;}#sk-d0a513aa-7b77-4a4a-af6b-40db10cc271d label.sk-toggleable__label-arrow:hover:before {color: black;}#sk-d0a513aa-7b77-4a4a-af6b-40db10cc271d div.sk-estimator:hover label.sk-toggleable__label-arrow:before {color: black;}#sk-d0a513aa-7b77-4a4a-af6b-40db10cc271d div.sk-toggleable__content {max-height: 0;max-width: 0;overflow: hidden;text-align: left;background-color: #f0f8ff;}#sk-d0a513aa-7b77-4a4a-af6b-40db10cc271d div.sk-toggleable__content pre {margin: 0.2em;color: black;border-radius: 0.25em;background-color: #f0f8ff;}#sk-d0a513aa-7b77-4a4a-af6b-40db10cc271d input.sk-toggleable__control:checked~div.sk-toggleable__content {max-height: 200px;max-width: 100%;overflow: auto;}#sk-d0a513aa-7b77-4a4a-af6b-40db10cc271d input.sk-toggleable__control:checked~label.sk-toggleable__label-arrow:before {content: \"▾\";}#sk-d0a513aa-7b77-4a4a-af6b-40db10cc271d div.sk-estimator input.sk-toggleable__control:checked~label.sk-toggleable__label {background-color: #d4ebff;}#sk-d0a513aa-7b77-4a4a-af6b-40db10cc271d div.sk-label input.sk-toggleable__control:checked~label.sk-toggleable__label {background-color: #d4ebff;}#sk-d0a513aa-7b77-4a4a-af6b-40db10cc271d input.sk-hidden--visually {border: 0;clip: rect(1px 1px 1px 1px);clip: rect(1px, 1px, 1px, 1px);height: 1px;margin: -1px;overflow: hidden;padding: 0;position: absolute;width: 1px;}#sk-d0a513aa-7b77-4a4a-af6b-40db10cc271d div.sk-estimator {font-family: monospace;background-color: #f0f8ff;border: 1px dotted black;border-radius: 0.25em;box-sizing: border-box;margin-bottom: 0.5em;}#sk-d0a513aa-7b77-4a4a-af6b-40db10cc271d div.sk-estimator:hover {background-color: #d4ebff;}#sk-d0a513aa-7b77-4a4a-af6b-40db10cc271d div.sk-parallel-item::after {content: \"\";width: 100%;border-bottom: 1px solid gray;flex-grow: 1;}#sk-d0a513aa-7b77-4a4a-af6b-40db10cc271d div.sk-label:hover label.sk-toggleable__label {background-color: #d4ebff;}#sk-d0a513aa-7b77-4a4a-af6b-40db10cc271d div.sk-serial::before {content: \"\";position: absolute;border-left: 1px solid gray;box-sizing: border-box;top: 2em;bottom: 0;left: 50%;}#sk-d0a513aa-7b77-4a4a-af6b-40db10cc271d div.sk-serial {display: flex;flex-direction: column;align-items: center;background-color: white;padding-right: 0.2em;padding-left: 0.2em;}#sk-d0a513aa-7b77-4a4a-af6b-40db10cc271d div.sk-item {z-index: 1;}#sk-d0a513aa-7b77-4a4a-af6b-40db10cc271d div.sk-parallel {display: flex;align-items: stretch;justify-content: center;background-color: white;}#sk-d0a513aa-7b77-4a4a-af6b-40db10cc271d div.sk-parallel::before {content: \"\";position: absolute;border-left: 1px solid gray;box-sizing: border-box;top: 2em;bottom: 0;left: 50%;}#sk-d0a513aa-7b77-4a4a-af6b-40db10cc271d div.sk-parallel-item {display: flex;flex-direction: column;position: relative;background-color: white;}#sk-d0a513aa-7b77-4a4a-af6b-40db10cc271d div.sk-parallel-item:first-child::after {align-self: flex-end;width: 50%;}#sk-d0a513aa-7b77-4a4a-af6b-40db10cc271d div.sk-parallel-item:last-child::after {align-self: flex-start;width: 50%;}#sk-d0a513aa-7b77-4a4a-af6b-40db10cc271d div.sk-parallel-item:only-child::after {width: 0;}#sk-d0a513aa-7b77-4a4a-af6b-40db10cc271d div.sk-dashed-wrapped {border: 1px dashed gray;margin: 0 0.4em 0.5em 0.4em;box-sizing: border-box;padding-bottom: 0.4em;background-color: white;position: relative;}#sk-d0a513aa-7b77-4a4a-af6b-40db10cc271d div.sk-label label {font-family: monospace;font-weight: bold;background-color: white;display: inline-block;line-height: 1.2em;}#sk-d0a513aa-7b77-4a4a-af6b-40db10cc271d div.sk-label-container {position: relative;z-index: 2;text-align: center;}#sk-d0a513aa-7b77-4a4a-af6b-40db10cc271d div.sk-container {/* jupyter's `normalize.less` sets `[hidden] { display: none; }` but bootstrap.min.css set `[hidden] { display: none !important; }` so we also need the `!important` here to be able to override the default hidden behavior on the sphinx rendered scikit-learn.org. See: https://github.com/scikit-learn/scikit-learn/issues/21755 */display: inline-block !important;position: relative;}#sk-d0a513aa-7b77-4a4a-af6b-40db10cc271d div.sk-text-repr-fallback {display: none;}</style><div id=\"sk-d0a513aa-7b77-4a4a-af6b-40db10cc271d\" class=\"sk-top-container\"><div class=\"sk-text-repr-fallback\"><pre>GridSearchCV(cv=5,\n",
       "             estimator=Pipeline(steps=[(&#x27;preprocessing&#x27;,\n",
       "                                        ColumnTransformer(transformers=[(&#x27;robustscaler&#x27;,\n",
       "                                                                         RobustScaler(),\n",
       "                                                                         Index([&#x27;NumberofBuildings&#x27;, &#x27;NumberofFloors&#x27;, &#x27;PropertyGFATotal&#x27;,\n",
       "       &#x27;SiteEUI(kBtu/sf)&#x27;, &#x27;GHGEmissionsIntensity&#x27;, &#x27;BuildingAge&#x27;,\n",
       "       &#x27;TotalUseTypeNumber&#x27;, &#x27;GFABuildingRate&#x27;, &#x27;GFAParkingRate&#x27;,\n",
       "       &#x27;GFAPerBuilding&#x27;, &#x27;GFAPerFloor&#x27;, &#x27;harvesine_distance&#x27;],\n",
       "      dtype=&#x27;object&#x27;)),\n",
       "                                                                        (&#x27;onehotencoder&#x27;,\n",
       "                                                                         OneHotEncoder(handle_unknown=&#x27;ignore&#x27;),\n",
       "                                                                         Index([&#x27;BuildingType&#x27;, &#x27;PrimaryPropertyType&#x27;, &#x27;Neighborhood&#x27;,\n",
       "       &#x27;LargestPropertyUseType&#x27;],\n",
       "      dtype=&#x27;object&#x27;))])),\n",
       "                                       (&#x27;clf&#x27;,\n",
       "                                        RandomForestRegressor(n_jobs=-1,\n",
       "                                                              random_state=0))]),\n",
       "             param_grid={&#x27;clf__max_features&#x27;: [&#x27;auto&#x27;, &#x27;sqrt&#x27;],\n",
       "                         &#x27;clf__min_samples_leaf&#x27;: [1, 3, 5],\n",
       "                         &#x27;clf__n_estimators&#x27;: [10, 50, 100, 300]},\n",
       "             verbose=2)</pre><b>Please rerun this cell to show the HTML repr or trust the notebook.</b></div><div class=\"sk-container\" hidden><div class=\"sk-item sk-dashed-wrapped\"><div class=\"sk-label-container\"><div class=\"sk-label sk-toggleable\"><input class=\"sk-toggleable__control sk-hidden--visually\" id=\"4ced2180-e45c-47c0-84f2-24d39f669b2e\" type=\"checkbox\" ><label for=\"4ced2180-e45c-47c0-84f2-24d39f669b2e\" class=\"sk-toggleable__label sk-toggleable__label-arrow\">GridSearchCV</label><div class=\"sk-toggleable__content\"><pre>GridSearchCV(cv=5,\n",
       "             estimator=Pipeline(steps=[(&#x27;preprocessing&#x27;,\n",
       "                                        ColumnTransformer(transformers=[(&#x27;robustscaler&#x27;,\n",
       "                                                                         RobustScaler(),\n",
       "                                                                         Index([&#x27;NumberofBuildings&#x27;, &#x27;NumberofFloors&#x27;, &#x27;PropertyGFATotal&#x27;,\n",
       "       &#x27;SiteEUI(kBtu/sf)&#x27;, &#x27;GHGEmissionsIntensity&#x27;, &#x27;BuildingAge&#x27;,\n",
       "       &#x27;TotalUseTypeNumber&#x27;, &#x27;GFABuildingRate&#x27;, &#x27;GFAParkingRate&#x27;,\n",
       "       &#x27;GFAPerBuilding&#x27;, &#x27;GFAPerFloor&#x27;, &#x27;harvesine_distance&#x27;],\n",
       "      dtype=&#x27;object&#x27;)),\n",
       "                                                                        (&#x27;onehotencoder&#x27;,\n",
       "                                                                         OneHotEncoder(handle_unknown=&#x27;ignore&#x27;),\n",
       "                                                                         Index([&#x27;BuildingType&#x27;, &#x27;PrimaryPropertyType&#x27;, &#x27;Neighborhood&#x27;,\n",
       "       &#x27;LargestPropertyUseType&#x27;],\n",
       "      dtype=&#x27;object&#x27;))])),\n",
       "                                       (&#x27;clf&#x27;,\n",
       "                                        RandomForestRegressor(n_jobs=-1,\n",
       "                                                              random_state=0))]),\n",
       "             param_grid={&#x27;clf__max_features&#x27;: [&#x27;auto&#x27;, &#x27;sqrt&#x27;],\n",
       "                         &#x27;clf__min_samples_leaf&#x27;: [1, 3, 5],\n",
       "                         &#x27;clf__n_estimators&#x27;: [10, 50, 100, 300]},\n",
       "             verbose=2)</pre></div></div></div><div class=\"sk-parallel\"><div class=\"sk-parallel-item\"><div class=\"sk-item\"><div class=\"sk-serial\"><div class=\"sk-item\"><div class=\"sk-serial\"><div class=\"sk-item sk-dashed-wrapped\"><div class=\"sk-label-container\"><div class=\"sk-label sk-toggleable\"><input class=\"sk-toggleable__control sk-hidden--visually\" id=\"7fbe0138-8373-4b8a-8e70-84d4d5d68673\" type=\"checkbox\" ><label for=\"7fbe0138-8373-4b8a-8e70-84d4d5d68673\" class=\"sk-toggleable__label sk-toggleable__label-arrow\">preprocessing: ColumnTransformer</label><div class=\"sk-toggleable__content\"><pre>ColumnTransformer(transformers=[(&#x27;robustscaler&#x27;, RobustScaler(),\n",
       "                                 Index([&#x27;NumberofBuildings&#x27;, &#x27;NumberofFloors&#x27;, &#x27;PropertyGFATotal&#x27;,\n",
       "       &#x27;SiteEUI(kBtu/sf)&#x27;, &#x27;GHGEmissionsIntensity&#x27;, &#x27;BuildingAge&#x27;,\n",
       "       &#x27;TotalUseTypeNumber&#x27;, &#x27;GFABuildingRate&#x27;, &#x27;GFAParkingRate&#x27;,\n",
       "       &#x27;GFAPerBuilding&#x27;, &#x27;GFAPerFloor&#x27;, &#x27;harvesine_distance&#x27;],\n",
       "      dtype=&#x27;object&#x27;)),\n",
       "                                (&#x27;onehotencoder&#x27;,\n",
       "                                 OneHotEncoder(handle_unknown=&#x27;ignore&#x27;),\n",
       "                                 Index([&#x27;BuildingType&#x27;, &#x27;PrimaryPropertyType&#x27;, &#x27;Neighborhood&#x27;,\n",
       "       &#x27;LargestPropertyUseType&#x27;],\n",
       "      dtype=&#x27;object&#x27;))])</pre></div></div></div><div class=\"sk-parallel\"><div class=\"sk-parallel-item\"><div class=\"sk-item\"><div class=\"sk-label-container\"><div class=\"sk-label sk-toggleable\"><input class=\"sk-toggleable__control sk-hidden--visually\" id=\"65c62cbb-e322-496d-b01d-9ebbe618f9c3\" type=\"checkbox\" ><label for=\"65c62cbb-e322-496d-b01d-9ebbe618f9c3\" class=\"sk-toggleable__label sk-toggleable__label-arrow\">robustscaler</label><div class=\"sk-toggleable__content\"><pre>Index([&#x27;NumberofBuildings&#x27;, &#x27;NumberofFloors&#x27;, &#x27;PropertyGFATotal&#x27;,\n",
       "       &#x27;SiteEUI(kBtu/sf)&#x27;, &#x27;GHGEmissionsIntensity&#x27;, &#x27;BuildingAge&#x27;,\n",
       "       &#x27;TotalUseTypeNumber&#x27;, &#x27;GFABuildingRate&#x27;, &#x27;GFAParkingRate&#x27;,\n",
       "       &#x27;GFAPerBuilding&#x27;, &#x27;GFAPerFloor&#x27;, &#x27;harvesine_distance&#x27;],\n",
       "      dtype=&#x27;object&#x27;)</pre></div></div></div><div class=\"sk-serial\"><div class=\"sk-item\"><div class=\"sk-estimator sk-toggleable\"><input class=\"sk-toggleable__control sk-hidden--visually\" id=\"7ab89fac-05e8-476e-948b-e6e986bb79c4\" type=\"checkbox\" ><label for=\"7ab89fac-05e8-476e-948b-e6e986bb79c4\" class=\"sk-toggleable__label sk-toggleable__label-arrow\">RobustScaler</label><div class=\"sk-toggleable__content\"><pre>RobustScaler()</pre></div></div></div></div></div></div><div class=\"sk-parallel-item\"><div class=\"sk-item\"><div class=\"sk-label-container\"><div class=\"sk-label sk-toggleable\"><input class=\"sk-toggleable__control sk-hidden--visually\" id=\"07ebc426-c114-4b03-aea7-19d410ec5379\" type=\"checkbox\" ><label for=\"07ebc426-c114-4b03-aea7-19d410ec5379\" class=\"sk-toggleable__label sk-toggleable__label-arrow\">onehotencoder</label><div class=\"sk-toggleable__content\"><pre>Index([&#x27;BuildingType&#x27;, &#x27;PrimaryPropertyType&#x27;, &#x27;Neighborhood&#x27;,\n",
       "       &#x27;LargestPropertyUseType&#x27;],\n",
       "      dtype=&#x27;object&#x27;)</pre></div></div></div><div class=\"sk-serial\"><div class=\"sk-item\"><div class=\"sk-estimator sk-toggleable\"><input class=\"sk-toggleable__control sk-hidden--visually\" id=\"15fc91ea-a971-440f-aac6-1365d6b1e1cb\" type=\"checkbox\" ><label for=\"15fc91ea-a971-440f-aac6-1365d6b1e1cb\" class=\"sk-toggleable__label sk-toggleable__label-arrow\">OneHotEncoder</label><div class=\"sk-toggleable__content\"><pre>OneHotEncoder(handle_unknown=&#x27;ignore&#x27;)</pre></div></div></div></div></div></div></div></div><div class=\"sk-item\"><div class=\"sk-estimator sk-toggleable\"><input class=\"sk-toggleable__control sk-hidden--visually\" id=\"449606e4-f979-47a2-9d60-77e0c4df2537\" type=\"checkbox\" ><label for=\"449606e4-f979-47a2-9d60-77e0c4df2537\" class=\"sk-toggleable__label sk-toggleable__label-arrow\">RandomForestRegressor</label><div class=\"sk-toggleable__content\"><pre>RandomForestRegressor(n_jobs=-1, random_state=0)</pre></div></div></div></div></div></div></div></div></div></div></div></div>"
      ],
      "text/plain": [
       "GridSearchCV(cv=5,\n",
       "             estimator=Pipeline(steps=[('preprocessing',\n",
       "                                        ColumnTransformer(transformers=[('robustscaler',\n",
       "                                                                         RobustScaler(),\n",
       "                                                                         Index(['NumberofBuildings', 'NumberofFloors', 'PropertyGFATotal',\n",
       "       'SiteEUI(kBtu/sf)', 'GHGEmissionsIntensity', 'BuildingAge',\n",
       "       'TotalUseTypeNumber', 'GFABuildingRate', 'GFAParkingRate',\n",
       "       'GFAPerBuilding', 'GFAPerFloor', 'harvesine_distance'],\n",
       "      dtype='object')),\n",
       "                                                                        ('onehotencoder',\n",
       "                                                                         OneHotEncoder(handle_unknown='ignore'),\n",
       "                                                                         Index(['BuildingType', 'PrimaryPropertyType', 'Neighborhood',\n",
       "       'LargestPropertyUseType'],\n",
       "      dtype='object'))])),\n",
       "                                       ('clf',\n",
       "                                        RandomForestRegressor(n_jobs=-1,\n",
       "                                                              random_state=0))]),\n",
       "             param_grid={'clf__max_features': ['auto', 'sqrt'],\n",
       "                         'clf__min_samples_leaf': [1, 3, 5],\n",
       "                         'clf__n_estimators': [10, 50, 100, 300]},\n",
       "             verbose=2)"
      ]
     },
     "execution_count": 426,
     "metadata": {},
     "output_type": "execute_result"
    }
   ],
   "source": [
    "parameters = {\n",
    "    'clf__n_estimators' : [10,50,100,300], #nombre d'arbres de décision\n",
    "    'clf__min_samples_leaf' : [1,3,5], #nombre de feuilles minimales dans un noeud\n",
    "    'clf__max_features': ['auto', 'sqrt'] #nombre de features observées pour chaque arbre\n",
    "}\n",
    "\n",
    "RandomForestmodel_search = GridSearchCV(rf_pipeline,\n",
    "                               param_grid = parameters,\n",
    "                              verbose=2,\n",
    "                               cv=5)\n",
    "\n",
    "RandomForestmodel_search.fit(X_train, y_train)"
   ]
  },
  {
   "cell_type": "code",
   "execution_count": 427,
   "metadata": {},
   "outputs": [
    {
     "data": {
      "text/plain": [
       "{'clf__max_features': 'sqrt',\n",
       " 'clf__min_samples_leaf': 1,\n",
       " 'clf__n_estimators': 300}"
      ]
     },
     "execution_count": 427,
     "metadata": {},
     "output_type": "execute_result"
    }
   ],
   "source": [
    "RandomForestmodel_search.best_params_"
   ]
  },
  {
   "cell_type": "code",
   "execution_count": 428,
   "metadata": {},
   "outputs": [],
   "source": [
    "RandomForestmodel_search.best_params_\n",
    "preds= RandomForestmodel_search.predict(X_test)"
   ]
  },
  {
   "cell_type": "code",
   "execution_count": 429,
   "metadata": {},
   "outputs": [
    {
     "name": "stdout",
     "output_type": "stream",
     "text": [
      "R2_GHG:  0.25221188861030475\n",
      "R2_enrgy:  0.3397238779473696\n",
      "MAE:  TotalGHGEmissions      6.161426e+01\n",
      "SiteEnergyUse(kBtu)    2.136906e+06\n",
      "dtype: float64\n"
     ]
    }
   ],
   "source": [
    "print(\"R2_GHG: \", metrics.r2_score(y_test.iloc[:,0], preds[:,0]))\n",
    "print(\"R2_enrgy: \", metrics.r2_score(y_test.iloc[:,1], preds[:,1]))\n",
    "print(\"MAE: \", mae(y_test, preds))"
   ]
  },
  {
   "cell_type": "code",
   "execution_count": 430,
   "metadata": {},
   "outputs": [],
   "source": [
    "best_model=RandomForestmodel_search.best_estimator_\n",
    "\n"
   ]
  },
  {
   "cell_type": "code",
   "execution_count": 482,
   "metadata": {},
   "outputs": [],
   "source": [
    "#rf_pipeline.get_feature_names_out()"
   ]
  },
  {
   "cell_type": "code",
   "execution_count": 483,
   "metadata": {},
   "outputs": [],
   "source": [
    "#rf_pipeline.named_steps['clf'].feature_importances_"
   ]
  },
  {
   "cell_type": "code",
   "execution_count": 432,
   "metadata": {},
   "outputs": [],
   "source": [
    "data.to_csv('data_model.csv')"
   ]
  },
  {
   "cell_type": "code",
   "execution_count": 444,
   "metadata": {},
   "outputs": [],
   "source": [
    "with open('model.pkl', 'wb') as fileWriteStream:\n",
    "    pickle.dump(best_model, fileWriteStream)"
   ]
  },
  {
   "cell_type": "markdown",
   "metadata": {},
   "source": [
    "## Appliquer log pour les deux targets avec TransformedTargetRegressor"
   ]
  },
  {
   "cell_type": "code",
   "execution_count": 434,
   "metadata": {},
   "outputs": [],
   "source": [
    "\n",
    "# Y_log=np.log(data[['TotalGHGEmissions','SiteEnergyUse(kBtu)']])\n",
    "# Y_log.head()"
   ]
  },
  {
   "cell_type": "code",
   "execution_count": 435,
   "metadata": {},
   "outputs": [],
   "source": [
    "#model_log.get_params().keys()"
   ]
  },
  {
   "cell_type": "code",
   "execution_count": 457,
   "metadata": {},
   "outputs": [
    {
     "data": {
      "text/plain": [
       "{'preprocessing': ColumnTransformer(transformers=[('robustscaler', RobustScaler(),\n",
       "                                  Index(['NumberofBuildings', 'NumberofFloors', 'PropertyGFATotal',\n",
       "        'SiteEUI(kBtu/sf)', 'GHGEmissionsIntensity', 'BuildingAge',\n",
       "        'TotalUseTypeNumber', 'GFABuildingRate', 'GFAParkingRate',\n",
       "        'GFAPerBuilding', 'GFAPerFloor', 'harvesine_distance'],\n",
       "       dtype='object')),\n",
       "                                 ('onehotencoder',\n",
       "                                  OneHotEncoder(handle_unknown='ignore'),\n",
       "                                  Index(['BuildingType', 'PrimaryPropertyType', 'Neighborhood',\n",
       "        'LargestPropertyUseType'],\n",
       "       dtype='object'))]),\n",
       " 'model': TransformedTargetRegressor(func=<ufunc 'log1p'>, inverse_func=<ufunc 'expm1'>,\n",
       "                            regressor=RandomForestRegressor(n_jobs=-1,\n",
       "                                                            random_state=0))}"
      ]
     },
     "execution_count": 457,
     "metadata": {},
     "output_type": "execute_result"
    }
   ],
   "source": [
    "model_log.named_steps"
   ]
  },
  {
   "cell_type": "code",
   "execution_count": 459,
   "metadata": {},
   "outputs": [
    {
     "ename": "NotFittedError",
     "evalue": "This RandomForestRegressor instance is not fitted yet. Call 'fit' with appropriate arguments before using this estimator.",
     "output_type": "error",
     "traceback": [
      "\u001b[1;31m---------------------------------------------------------------------------\u001b[0m",
      "\u001b[1;31mNotFittedError\u001b[0m                            Traceback (most recent call last)",
      "\u001b[1;32m~\\AppData\\Local\\Temp/ipykernel_15164/4116961778.py\u001b[0m in \u001b[0;36m<module>\u001b[1;34m\u001b[0m\n\u001b[1;32m----> 1\u001b[1;33m \u001b[0mmodel_log\u001b[0m\u001b[1;33m.\u001b[0m\u001b[0mnamed_steps\u001b[0m\u001b[1;33m[\u001b[0m\u001b[1;34m'model'\u001b[0m\u001b[1;33m]\u001b[0m\u001b[1;33m.\u001b[0m\u001b[0mregressor\u001b[0m\u001b[1;33m.\u001b[0m\u001b[0mfeature_importances_\u001b[0m\u001b[1;33m\u001b[0m\u001b[1;33m\u001b[0m\u001b[0m\n\u001b[0m",
      "\u001b[1;32mc:\\Users\\Amani\\anaconda3\\lib\\site-packages\\sklearn\\ensemble\\_forest.py\u001b[0m in \u001b[0;36mfeature_importances_\u001b[1;34m(self)\u001b[0m\n\u001b[0;32m    603\u001b[0m             \u001b[0marray\u001b[0m \u001b[0mof\u001b[0m \u001b[0mzeros\u001b[0m\u001b[1;33m.\u001b[0m\u001b[1;33m\u001b[0m\u001b[1;33m\u001b[0m\u001b[0m\n\u001b[0;32m    604\u001b[0m         \"\"\"\n\u001b[1;32m--> 605\u001b[1;33m         \u001b[0mcheck_is_fitted\u001b[0m\u001b[1;33m(\u001b[0m\u001b[0mself\u001b[0m\u001b[1;33m)\u001b[0m\u001b[1;33m\u001b[0m\u001b[1;33m\u001b[0m\u001b[0m\n\u001b[0m\u001b[0;32m    606\u001b[0m \u001b[1;33m\u001b[0m\u001b[0m\n\u001b[0;32m    607\u001b[0m         all_importances = Parallel(\n",
      "\u001b[1;32mc:\\Users\\Amani\\anaconda3\\lib\\site-packages\\sklearn\\utils\\validation.py\u001b[0m in \u001b[0;36mcheck_is_fitted\u001b[1;34m(estimator, attributes, msg, all_or_any)\u001b[0m\n\u001b[0;32m   1220\u001b[0m \u001b[1;33m\u001b[0m\u001b[0m\n\u001b[0;32m   1221\u001b[0m     \u001b[1;32mif\u001b[0m \u001b[1;32mnot\u001b[0m \u001b[0mfitted\u001b[0m\u001b[1;33m:\u001b[0m\u001b[1;33m\u001b[0m\u001b[1;33m\u001b[0m\u001b[0m\n\u001b[1;32m-> 1222\u001b[1;33m         \u001b[1;32mraise\u001b[0m \u001b[0mNotFittedError\u001b[0m\u001b[1;33m(\u001b[0m\u001b[0mmsg\u001b[0m \u001b[1;33m%\u001b[0m \u001b[1;33m{\u001b[0m\u001b[1;34m\"name\"\u001b[0m\u001b[1;33m:\u001b[0m \u001b[0mtype\u001b[0m\u001b[1;33m(\u001b[0m\u001b[0mestimator\u001b[0m\u001b[1;33m)\u001b[0m\u001b[1;33m.\u001b[0m\u001b[0m__name__\u001b[0m\u001b[1;33m}\u001b[0m\u001b[1;33m)\u001b[0m\u001b[1;33m\u001b[0m\u001b[1;33m\u001b[0m\u001b[0m\n\u001b[0m\u001b[0;32m   1223\u001b[0m \u001b[1;33m\u001b[0m\u001b[0m\n\u001b[0;32m   1224\u001b[0m \u001b[1;33m\u001b[0m\u001b[0m\n",
      "\u001b[1;31mNotFittedError\u001b[0m: This RandomForestRegressor instance is not fitted yet. Call 'fit' with appropriate arguments before using this estimator."
     ]
    }
   ],
   "source": [
    "model_log.named_steps['model']."
   ]
  },
  {
   "cell_type": "code",
   "execution_count": 437,
   "metadata": {},
   "outputs": [
    {
     "name": "stdout",
     "output_type": "stream",
     "text": [
      "Fitting 5 folds for each of 12 candidates, totalling 60 fits\n",
      "[CV] END model__regressor__min_samples_leaf=1, model__regressor__n_estimators=10; total time=   0.2s\n",
      "[CV] END model__regressor__min_samples_leaf=1, model__regressor__n_estimators=10; total time=   0.2s\n",
      "[CV] END model__regressor__min_samples_leaf=1, model__regressor__n_estimators=10; total time=   0.2s\n",
      "[CV] END model__regressor__min_samples_leaf=1, model__regressor__n_estimators=10; total time=   0.2s\n",
      "[CV] END model__regressor__min_samples_leaf=1, model__regressor__n_estimators=10; total time=   0.2s\n",
      "[CV] END model__regressor__min_samples_leaf=1, model__regressor__n_estimators=50; total time=   1.1s\n",
      "[CV] END model__regressor__min_samples_leaf=1, model__regressor__n_estimators=50; total time=   1.1s\n",
      "[CV] END model__regressor__min_samples_leaf=1, model__regressor__n_estimators=50; total time=   1.1s\n",
      "[CV] END model__regressor__min_samples_leaf=1, model__regressor__n_estimators=50; total time=   1.3s\n",
      "[CV] END model__regressor__min_samples_leaf=1, model__regressor__n_estimators=50; total time=   1.1s\n",
      "[CV] END model__regressor__min_samples_leaf=1, model__regressor__n_estimators=100; total time=   2.9s\n",
      "[CV] END model__regressor__min_samples_leaf=1, model__regressor__n_estimators=100; total time=   2.4s\n",
      "[CV] END model__regressor__min_samples_leaf=1, model__regressor__n_estimators=100; total time=   2.4s\n",
      "[CV] END model__regressor__min_samples_leaf=1, model__regressor__n_estimators=100; total time=   2.1s\n",
      "[CV] END model__regressor__min_samples_leaf=1, model__regressor__n_estimators=100; total time=   2.4s\n",
      "[CV] END model__regressor__min_samples_leaf=1, model__regressor__n_estimators=300; total time=   7.9s\n",
      "[CV] END model__regressor__min_samples_leaf=1, model__regressor__n_estimators=300; total time=   7.9s\n",
      "[CV] END model__regressor__min_samples_leaf=1, model__regressor__n_estimators=300; total time=   6.8s\n",
      "[CV] END model__regressor__min_samples_leaf=1, model__regressor__n_estimators=300; total time=   7.0s\n",
      "[CV] END model__regressor__min_samples_leaf=1, model__regressor__n_estimators=300; total time=   7.7s\n",
      "[CV] END model__regressor__min_samples_leaf=3, model__regressor__n_estimators=10; total time=   0.2s\n",
      "[CV] END model__regressor__min_samples_leaf=3, model__regressor__n_estimators=10; total time=   0.2s\n",
      "[CV] END model__regressor__min_samples_leaf=3, model__regressor__n_estimators=10; total time=   0.1s\n",
      "[CV] END model__regressor__min_samples_leaf=3, model__regressor__n_estimators=10; total time=   0.1s\n",
      "[CV] END model__regressor__min_samples_leaf=3, model__regressor__n_estimators=10; total time=   0.1s\n",
      "[CV] END model__regressor__min_samples_leaf=3, model__regressor__n_estimators=50; total time=   0.8s\n",
      "[CV] END model__regressor__min_samples_leaf=3, model__regressor__n_estimators=50; total time=   0.7s\n",
      "[CV] END model__regressor__min_samples_leaf=3, model__regressor__n_estimators=50; total time=   0.7s\n",
      "[CV] END model__regressor__min_samples_leaf=3, model__regressor__n_estimators=50; total time=   0.7s\n",
      "[CV] END model__regressor__min_samples_leaf=3, model__regressor__n_estimators=50; total time=   0.7s\n",
      "[CV] END model__regressor__min_samples_leaf=3, model__regressor__n_estimators=100; total time=   1.4s\n",
      "[CV] END model__regressor__min_samples_leaf=3, model__regressor__n_estimators=100; total time=   1.4s\n",
      "[CV] END model__regressor__min_samples_leaf=3, model__regressor__n_estimators=100; total time=   1.4s\n",
      "[CV] END model__regressor__min_samples_leaf=3, model__regressor__n_estimators=100; total time=   1.5s\n",
      "[CV] END model__regressor__min_samples_leaf=3, model__regressor__n_estimators=100; total time=   2.1s\n",
      "[CV] END model__regressor__min_samples_leaf=3, model__regressor__n_estimators=300; total time=   4.5s\n",
      "[CV] END model__regressor__min_samples_leaf=3, model__regressor__n_estimators=300; total time=   4.1s\n",
      "[CV] END model__regressor__min_samples_leaf=3, model__regressor__n_estimators=300; total time=   4.4s\n",
      "[CV] END model__regressor__min_samples_leaf=3, model__regressor__n_estimators=300; total time=   4.1s\n",
      "[CV] END model__regressor__min_samples_leaf=3, model__regressor__n_estimators=300; total time=   4.0s\n",
      "[CV] END model__regressor__min_samples_leaf=5, model__regressor__n_estimators=10; total time=   0.1s\n",
      "[CV] END model__regressor__min_samples_leaf=5, model__regressor__n_estimators=10; total time=   0.1s\n",
      "[CV] END model__regressor__min_samples_leaf=5, model__regressor__n_estimators=10; total time=   0.1s\n",
      "[CV] END model__regressor__min_samples_leaf=5, model__regressor__n_estimators=10; total time=   0.1s\n",
      "[CV] END model__regressor__min_samples_leaf=5, model__regressor__n_estimators=10; total time=   0.1s\n",
      "[CV] END model__regressor__min_samples_leaf=5, model__regressor__n_estimators=50; total time=   0.5s\n",
      "[CV] END model__regressor__min_samples_leaf=5, model__regressor__n_estimators=50; total time=   0.5s\n",
      "[CV] END model__regressor__min_samples_leaf=5, model__regressor__n_estimators=50; total time=   0.5s\n",
      "[CV] END model__regressor__min_samples_leaf=5, model__regressor__n_estimators=50; total time=   0.5s\n",
      "[CV] END model__regressor__min_samples_leaf=5, model__regressor__n_estimators=50; total time=   0.5s\n",
      "[CV] END model__regressor__min_samples_leaf=5, model__regressor__n_estimators=100; total time=   1.1s\n",
      "[CV] END model__regressor__min_samples_leaf=5, model__regressor__n_estimators=100; total time=   1.3s\n",
      "[CV] END model__regressor__min_samples_leaf=5, model__regressor__n_estimators=100; total time=   1.8s\n",
      "[CV] END model__regressor__min_samples_leaf=5, model__regressor__n_estimators=100; total time=   1.2s\n",
      "[CV] END model__regressor__min_samples_leaf=5, model__regressor__n_estimators=100; total time=   1.3s\n",
      "[CV] END model__regressor__min_samples_leaf=5, model__regressor__n_estimators=300; total time=   4.0s\n",
      "[CV] END model__regressor__min_samples_leaf=5, model__regressor__n_estimators=300; total time=   3.7s\n",
      "[CV] END model__regressor__min_samples_leaf=5, model__regressor__n_estimators=300; total time=   3.8s\n",
      "[CV] END model__regressor__min_samples_leaf=5, model__regressor__n_estimators=300; total time=   3.7s\n",
      "[CV] END model__regressor__min_samples_leaf=5, model__regressor__n_estimators=300; total time=   3.2s\n"
     ]
    },
    {
     "data": {
      "text/html": [
       "<style>#sk-93914ef8-d6a7-4456-92d4-e800e90f1687 {color: black;background-color: white;}#sk-93914ef8-d6a7-4456-92d4-e800e90f1687 pre{padding: 0;}#sk-93914ef8-d6a7-4456-92d4-e800e90f1687 div.sk-toggleable {background-color: white;}#sk-93914ef8-d6a7-4456-92d4-e800e90f1687 label.sk-toggleable__label {cursor: pointer;display: block;width: 100%;margin-bottom: 0;padding: 0.3em;box-sizing: border-box;text-align: center;}#sk-93914ef8-d6a7-4456-92d4-e800e90f1687 label.sk-toggleable__label-arrow:before {content: \"▸\";float: left;margin-right: 0.25em;color: #696969;}#sk-93914ef8-d6a7-4456-92d4-e800e90f1687 label.sk-toggleable__label-arrow:hover:before {color: black;}#sk-93914ef8-d6a7-4456-92d4-e800e90f1687 div.sk-estimator:hover label.sk-toggleable__label-arrow:before {color: black;}#sk-93914ef8-d6a7-4456-92d4-e800e90f1687 div.sk-toggleable__content {max-height: 0;max-width: 0;overflow: hidden;text-align: left;background-color: #f0f8ff;}#sk-93914ef8-d6a7-4456-92d4-e800e90f1687 div.sk-toggleable__content pre {margin: 0.2em;color: black;border-radius: 0.25em;background-color: #f0f8ff;}#sk-93914ef8-d6a7-4456-92d4-e800e90f1687 input.sk-toggleable__control:checked~div.sk-toggleable__content {max-height: 200px;max-width: 100%;overflow: auto;}#sk-93914ef8-d6a7-4456-92d4-e800e90f1687 input.sk-toggleable__control:checked~label.sk-toggleable__label-arrow:before {content: \"▾\";}#sk-93914ef8-d6a7-4456-92d4-e800e90f1687 div.sk-estimator input.sk-toggleable__control:checked~label.sk-toggleable__label {background-color: #d4ebff;}#sk-93914ef8-d6a7-4456-92d4-e800e90f1687 div.sk-label input.sk-toggleable__control:checked~label.sk-toggleable__label {background-color: #d4ebff;}#sk-93914ef8-d6a7-4456-92d4-e800e90f1687 input.sk-hidden--visually {border: 0;clip: rect(1px 1px 1px 1px);clip: rect(1px, 1px, 1px, 1px);height: 1px;margin: -1px;overflow: hidden;padding: 0;position: absolute;width: 1px;}#sk-93914ef8-d6a7-4456-92d4-e800e90f1687 div.sk-estimator {font-family: monospace;background-color: #f0f8ff;border: 1px dotted black;border-radius: 0.25em;box-sizing: border-box;margin-bottom: 0.5em;}#sk-93914ef8-d6a7-4456-92d4-e800e90f1687 div.sk-estimator:hover {background-color: #d4ebff;}#sk-93914ef8-d6a7-4456-92d4-e800e90f1687 div.sk-parallel-item::after {content: \"\";width: 100%;border-bottom: 1px solid gray;flex-grow: 1;}#sk-93914ef8-d6a7-4456-92d4-e800e90f1687 div.sk-label:hover label.sk-toggleable__label {background-color: #d4ebff;}#sk-93914ef8-d6a7-4456-92d4-e800e90f1687 div.sk-serial::before {content: \"\";position: absolute;border-left: 1px solid gray;box-sizing: border-box;top: 2em;bottom: 0;left: 50%;}#sk-93914ef8-d6a7-4456-92d4-e800e90f1687 div.sk-serial {display: flex;flex-direction: column;align-items: center;background-color: white;padding-right: 0.2em;padding-left: 0.2em;}#sk-93914ef8-d6a7-4456-92d4-e800e90f1687 div.sk-item {z-index: 1;}#sk-93914ef8-d6a7-4456-92d4-e800e90f1687 div.sk-parallel {display: flex;align-items: stretch;justify-content: center;background-color: white;}#sk-93914ef8-d6a7-4456-92d4-e800e90f1687 div.sk-parallel::before {content: \"\";position: absolute;border-left: 1px solid gray;box-sizing: border-box;top: 2em;bottom: 0;left: 50%;}#sk-93914ef8-d6a7-4456-92d4-e800e90f1687 div.sk-parallel-item {display: flex;flex-direction: column;position: relative;background-color: white;}#sk-93914ef8-d6a7-4456-92d4-e800e90f1687 div.sk-parallel-item:first-child::after {align-self: flex-end;width: 50%;}#sk-93914ef8-d6a7-4456-92d4-e800e90f1687 div.sk-parallel-item:last-child::after {align-self: flex-start;width: 50%;}#sk-93914ef8-d6a7-4456-92d4-e800e90f1687 div.sk-parallel-item:only-child::after {width: 0;}#sk-93914ef8-d6a7-4456-92d4-e800e90f1687 div.sk-dashed-wrapped {border: 1px dashed gray;margin: 0 0.4em 0.5em 0.4em;box-sizing: border-box;padding-bottom: 0.4em;background-color: white;position: relative;}#sk-93914ef8-d6a7-4456-92d4-e800e90f1687 div.sk-label label {font-family: monospace;font-weight: bold;background-color: white;display: inline-block;line-height: 1.2em;}#sk-93914ef8-d6a7-4456-92d4-e800e90f1687 div.sk-label-container {position: relative;z-index: 2;text-align: center;}#sk-93914ef8-d6a7-4456-92d4-e800e90f1687 div.sk-container {/* jupyter's `normalize.less` sets `[hidden] { display: none; }` but bootstrap.min.css set `[hidden] { display: none !important; }` so we also need the `!important` here to be able to override the default hidden behavior on the sphinx rendered scikit-learn.org. See: https://github.com/scikit-learn/scikit-learn/issues/21755 */display: inline-block !important;position: relative;}#sk-93914ef8-d6a7-4456-92d4-e800e90f1687 div.sk-text-repr-fallback {display: none;}</style><div id=\"sk-93914ef8-d6a7-4456-92d4-e800e90f1687\" class=\"sk-top-container\"><div class=\"sk-text-repr-fallback\"><pre>GridSearchCV(cv=5,\n",
       "             estimator=Pipeline(steps=[(&#x27;preprocessing&#x27;,\n",
       "                                        ColumnTransformer(transformers=[(&#x27;robustscaler&#x27;,\n",
       "                                                                         RobustScaler(),\n",
       "                                                                         Index([&#x27;NumberofBuildings&#x27;, &#x27;NumberofFloors&#x27;, &#x27;PropertyGFATotal&#x27;,\n",
       "       &#x27;SiteEUI(kBtu/sf)&#x27;, &#x27;GHGEmissionsIntensity&#x27;, &#x27;BuildingAge&#x27;,\n",
       "       &#x27;TotalUseTypeNumber&#x27;, &#x27;GFABuildingRate&#x27;, &#x27;GFAParkingRate&#x27;,\n",
       "       &#x27;GFAPerBuilding&#x27;, &#x27;GFAPerFloor&#x27;, &#x27;harvesine_distance...\n",
       "                                                                         Index([&#x27;BuildingType&#x27;, &#x27;PrimaryPropertyType&#x27;, &#x27;Neighborhood&#x27;,\n",
       "       &#x27;LargestPropertyUseType&#x27;],\n",
       "      dtype=&#x27;object&#x27;))])),\n",
       "                                       (&#x27;model&#x27;,\n",
       "                                        TransformedTargetRegressor(func=&lt;ufunc &#x27;log1p&#x27;&gt;,\n",
       "                                                                   inverse_func=&lt;ufunc &#x27;expm1&#x27;&gt;,\n",
       "                                                                   regressor=RandomForestRegressor(n_jobs=-1,\n",
       "                                                                                                   random_state=0)))]),\n",
       "             param_grid={&#x27;model__regressor__min_samples_leaf&#x27;: [1, 3, 5],\n",
       "                         &#x27;model__regressor__n_estimators&#x27;: [10, 50, 100, 300]},\n",
       "             verbose=2)</pre><b>Please rerun this cell to show the HTML repr or trust the notebook.</b></div><div class=\"sk-container\" hidden><div class=\"sk-item sk-dashed-wrapped\"><div class=\"sk-label-container\"><div class=\"sk-label sk-toggleable\"><input class=\"sk-toggleable__control sk-hidden--visually\" id=\"f0723b01-f686-4be0-9ef8-f697a93cb598\" type=\"checkbox\" ><label for=\"f0723b01-f686-4be0-9ef8-f697a93cb598\" class=\"sk-toggleable__label sk-toggleable__label-arrow\">GridSearchCV</label><div class=\"sk-toggleable__content\"><pre>GridSearchCV(cv=5,\n",
       "             estimator=Pipeline(steps=[(&#x27;preprocessing&#x27;,\n",
       "                                        ColumnTransformer(transformers=[(&#x27;robustscaler&#x27;,\n",
       "                                                                         RobustScaler(),\n",
       "                                                                         Index([&#x27;NumberofBuildings&#x27;, &#x27;NumberofFloors&#x27;, &#x27;PropertyGFATotal&#x27;,\n",
       "       &#x27;SiteEUI(kBtu/sf)&#x27;, &#x27;GHGEmissionsIntensity&#x27;, &#x27;BuildingAge&#x27;,\n",
       "       &#x27;TotalUseTypeNumber&#x27;, &#x27;GFABuildingRate&#x27;, &#x27;GFAParkingRate&#x27;,\n",
       "       &#x27;GFAPerBuilding&#x27;, &#x27;GFAPerFloor&#x27;, &#x27;harvesine_distance...\n",
       "                                                                         Index([&#x27;BuildingType&#x27;, &#x27;PrimaryPropertyType&#x27;, &#x27;Neighborhood&#x27;,\n",
       "       &#x27;LargestPropertyUseType&#x27;],\n",
       "      dtype=&#x27;object&#x27;))])),\n",
       "                                       (&#x27;model&#x27;,\n",
       "                                        TransformedTargetRegressor(func=&lt;ufunc &#x27;log1p&#x27;&gt;,\n",
       "                                                                   inverse_func=&lt;ufunc &#x27;expm1&#x27;&gt;,\n",
       "                                                                   regressor=RandomForestRegressor(n_jobs=-1,\n",
       "                                                                                                   random_state=0)))]),\n",
       "             param_grid={&#x27;model__regressor__min_samples_leaf&#x27;: [1, 3, 5],\n",
       "                         &#x27;model__regressor__n_estimators&#x27;: [10, 50, 100, 300]},\n",
       "             verbose=2)</pre></div></div></div><div class=\"sk-parallel\"><div class=\"sk-parallel-item\"><div class=\"sk-item\"><div class=\"sk-serial\"><div class=\"sk-item\"><div class=\"sk-serial\"><div class=\"sk-item sk-dashed-wrapped\"><div class=\"sk-label-container\"><div class=\"sk-label sk-toggleable\"><input class=\"sk-toggleable__control sk-hidden--visually\" id=\"427d7f43-afb9-4e82-9cc7-c5649fc434a7\" type=\"checkbox\" ><label for=\"427d7f43-afb9-4e82-9cc7-c5649fc434a7\" class=\"sk-toggleable__label sk-toggleable__label-arrow\">preprocessing: ColumnTransformer</label><div class=\"sk-toggleable__content\"><pre>ColumnTransformer(transformers=[(&#x27;robustscaler&#x27;, RobustScaler(),\n",
       "                                 Index([&#x27;NumberofBuildings&#x27;, &#x27;NumberofFloors&#x27;, &#x27;PropertyGFATotal&#x27;,\n",
       "       &#x27;SiteEUI(kBtu/sf)&#x27;, &#x27;GHGEmissionsIntensity&#x27;, &#x27;BuildingAge&#x27;,\n",
       "       &#x27;TotalUseTypeNumber&#x27;, &#x27;GFABuildingRate&#x27;, &#x27;GFAParkingRate&#x27;,\n",
       "       &#x27;GFAPerBuilding&#x27;, &#x27;GFAPerFloor&#x27;, &#x27;harvesine_distance&#x27;],\n",
       "      dtype=&#x27;object&#x27;)),\n",
       "                                (&#x27;onehotencoder&#x27;,\n",
       "                                 OneHotEncoder(handle_unknown=&#x27;ignore&#x27;),\n",
       "                                 Index([&#x27;BuildingType&#x27;, &#x27;PrimaryPropertyType&#x27;, &#x27;Neighborhood&#x27;,\n",
       "       &#x27;LargestPropertyUseType&#x27;],\n",
       "      dtype=&#x27;object&#x27;))])</pre></div></div></div><div class=\"sk-parallel\"><div class=\"sk-parallel-item\"><div class=\"sk-item\"><div class=\"sk-label-container\"><div class=\"sk-label sk-toggleable\"><input class=\"sk-toggleable__control sk-hidden--visually\" id=\"95ad78aa-9ed2-4a1f-ae7b-d0940d15342e\" type=\"checkbox\" ><label for=\"95ad78aa-9ed2-4a1f-ae7b-d0940d15342e\" class=\"sk-toggleable__label sk-toggleable__label-arrow\">robustscaler</label><div class=\"sk-toggleable__content\"><pre>Index([&#x27;NumberofBuildings&#x27;, &#x27;NumberofFloors&#x27;, &#x27;PropertyGFATotal&#x27;,\n",
       "       &#x27;SiteEUI(kBtu/sf)&#x27;, &#x27;GHGEmissionsIntensity&#x27;, &#x27;BuildingAge&#x27;,\n",
       "       &#x27;TotalUseTypeNumber&#x27;, &#x27;GFABuildingRate&#x27;, &#x27;GFAParkingRate&#x27;,\n",
       "       &#x27;GFAPerBuilding&#x27;, &#x27;GFAPerFloor&#x27;, &#x27;harvesine_distance&#x27;],\n",
       "      dtype=&#x27;object&#x27;)</pre></div></div></div><div class=\"sk-serial\"><div class=\"sk-item\"><div class=\"sk-estimator sk-toggleable\"><input class=\"sk-toggleable__control sk-hidden--visually\" id=\"dc2becd6-b542-4d6d-8739-6640d5a777d3\" type=\"checkbox\" ><label for=\"dc2becd6-b542-4d6d-8739-6640d5a777d3\" class=\"sk-toggleable__label sk-toggleable__label-arrow\">RobustScaler</label><div class=\"sk-toggleable__content\"><pre>RobustScaler()</pre></div></div></div></div></div></div><div class=\"sk-parallel-item\"><div class=\"sk-item\"><div class=\"sk-label-container\"><div class=\"sk-label sk-toggleable\"><input class=\"sk-toggleable__control sk-hidden--visually\" id=\"14b4a46c-5c1c-4920-a2fc-e3755e8318cc\" type=\"checkbox\" ><label for=\"14b4a46c-5c1c-4920-a2fc-e3755e8318cc\" class=\"sk-toggleable__label sk-toggleable__label-arrow\">onehotencoder</label><div class=\"sk-toggleable__content\"><pre>Index([&#x27;BuildingType&#x27;, &#x27;PrimaryPropertyType&#x27;, &#x27;Neighborhood&#x27;,\n",
       "       &#x27;LargestPropertyUseType&#x27;],\n",
       "      dtype=&#x27;object&#x27;)</pre></div></div></div><div class=\"sk-serial\"><div class=\"sk-item\"><div class=\"sk-estimator sk-toggleable\"><input class=\"sk-toggleable__control sk-hidden--visually\" id=\"c0d5f530-de73-497b-9bb1-a20b3e9f1d70\" type=\"checkbox\" ><label for=\"c0d5f530-de73-497b-9bb1-a20b3e9f1d70\" class=\"sk-toggleable__label sk-toggleable__label-arrow\">OneHotEncoder</label><div class=\"sk-toggleable__content\"><pre>OneHotEncoder(handle_unknown=&#x27;ignore&#x27;)</pre></div></div></div></div></div></div></div></div><div class=\"sk-item sk-dashed-wrapped\"><div class=\"sk-label-container\"><div class=\"sk-label sk-toggleable\"><input class=\"sk-toggleable__control sk-hidden--visually\" id=\"53500787-c6d1-473a-a692-950a73544a85\" type=\"checkbox\" ><label for=\"53500787-c6d1-473a-a692-950a73544a85\" class=\"sk-toggleable__label sk-toggleable__label-arrow\">model: TransformedTargetRegressor</label><div class=\"sk-toggleable__content\"><pre>TransformedTargetRegressor(func=&lt;ufunc &#x27;log1p&#x27;&gt;, inverse_func=&lt;ufunc &#x27;expm1&#x27;&gt;,\n",
       "                           regressor=RandomForestRegressor(n_jobs=-1,\n",
       "                                                           random_state=0))</pre></div></div></div><div class=\"sk-parallel\"><div class=\"sk-parallel-item\"><div class=\"sk-item\"><div class=\"sk-serial\"><div class=\"sk-item\"><div class=\"sk-estimator sk-toggleable\"><input class=\"sk-toggleable__control sk-hidden--visually\" id=\"3f2cc84b-502b-4597-9342-7a380895fadd\" type=\"checkbox\" ><label for=\"3f2cc84b-502b-4597-9342-7a380895fadd\" class=\"sk-toggleable__label sk-toggleable__label-arrow\">RandomForestRegressor</label><div class=\"sk-toggleable__content\"><pre>RandomForestRegressor(n_jobs=-1, random_state=0)</pre></div></div></div></div></div></div></div></div></div></div></div></div></div></div></div></div></div>"
      ],
      "text/plain": [
       "GridSearchCV(cv=5,\n",
       "             estimator=Pipeline(steps=[('preprocessing',\n",
       "                                        ColumnTransformer(transformers=[('robustscaler',\n",
       "                                                                         RobustScaler(),\n",
       "                                                                         Index(['NumberofBuildings', 'NumberofFloors', 'PropertyGFATotal',\n",
       "       'SiteEUI(kBtu/sf)', 'GHGEmissionsIntensity', 'BuildingAge',\n",
       "       'TotalUseTypeNumber', 'GFABuildingRate', 'GFAParkingRate',\n",
       "       'GFAPerBuilding', 'GFAPerFloor', 'harvesine_distance...\n",
       "                                                                         Index(['BuildingType', 'PrimaryPropertyType', 'Neighborhood',\n",
       "       'LargestPropertyUseType'],\n",
       "      dtype='object'))])),\n",
       "                                       ('model',\n",
       "                                        TransformedTargetRegressor(func=<ufunc 'log1p'>,\n",
       "                                                                   inverse_func=<ufunc 'expm1'>,\n",
       "                                                                   regressor=RandomForestRegressor(n_jobs=-1,\n",
       "                                                                                                   random_state=0)))]),\n",
       "             param_grid={'model__regressor__min_samples_leaf': [1, 3, 5],\n",
       "                         'model__regressor__n_estimators': [10, 50, 100, 300]},\n",
       "             verbose=2)"
      ]
     },
     "execution_count": 437,
     "metadata": {},
     "output_type": "execute_result"
    }
   ],
   "source": [
    "from sklearn.compose import TransformedTargetRegressor\n",
    "model_log = Pipeline([\n",
    "    ('preprocessing', preprocessor),\n",
    "('model', TransformedTargetRegressor(\n",
    "                                    regressor=RandomForestRegressor(n_jobs=-1, random_state=0),\n",
    "                                     func=np.log1p, \n",
    "                                     inverse_func=np.expm1))\n",
    "])\n",
    "\n",
    "\n",
    "\n",
    "model_log.fit(X_train, y_train)\n",
    "parameters = {\n",
    "    'model__regressor__n_estimators': [10,50,100,300], #nombre d'arbres de décision\n",
    "   'model__regressor__min_samples_leaf' : [1,3,5], #nombre de feuilles minimales dans un noeud\n",
    "    #'model__regressor__min_samples_leaf': ['auto', 'sqrt'] #nombre de features observées pour chaque arbre\n",
    "}\n",
    "\n",
    "RandomForestmodel_search_log = GridSearchCV(model_log,\n",
    "                               param_grid = parameters,\n",
    "                              verbose=2,\n",
    "                               cv=5)\n",
    "\n",
    "RandomForestmodel_search_log.fit(X_train, y_train)"
   ]
  },
  {
   "cell_type": "code",
   "execution_count": 438,
   "metadata": {},
   "outputs": [],
   "source": [
    "RandomForestmodel_search_log.best_params_\n",
    "preds_log= RandomForestmodel_search_log.predict(X_test)"
   ]
  },
  {
   "cell_type": "code",
   "execution_count": 439,
   "metadata": {},
   "outputs": [
    {
     "name": "stdout",
     "output_type": "stream",
     "text": [
      "R2_GHG:  0.4918696615599515\n",
      "R2_enrgy:  0.5016346741252444\n",
      "MAE:  TotalGHGEmissions      3.074988e+01\n",
      "SiteEnergyUse(kBtu)    1.666366e+06\n",
      "dtype: float64\n"
     ]
    }
   ],
   "source": [
    "print(\"R2_GHG: \", metrics.r2_score(y_test.iloc[:,0], preds_log[:,0]))\n",
    "print(\"R2_enrgy: \", metrics.r2_score(y_test.iloc[:,1], preds_log[:,1]))\n",
    "print(\"MAE: \", mae(y_test, preds_log))"
   ]
  },
  {
   "cell_type": "code",
   "execution_count": 454,
   "metadata": {},
   "outputs": [
    {
     "data": {
      "text/plain": [
       "<bound method Pipeline.get_feature_names_out of Pipeline(steps=[('preprocessing',\n",
       "                 ColumnTransformer(transformers=[('robustscaler',\n",
       "                                                  RobustScaler(),\n",
       "                                                  Index(['NumberofBuildings', 'NumberofFloors', 'PropertyGFATotal',\n",
       "       'SiteEUI(kBtu/sf)', 'GHGEmissionsIntensity', 'BuildingAge',\n",
       "       'TotalUseTypeNumber', 'GFABuildingRate', 'GFAParkingRate',\n",
       "       'GFAPerBuilding', 'GFAPerFloor', 'harvesine_distance'],\n",
       "      dtype='object')),\n",
       "                                                 ('onehotencoder',\n",
       "                                                  OneHotEncoder(handle_unknown='ignore'),\n",
       "                                                  Index(['BuildingType', 'PrimaryPropertyType', 'Neighborhood',\n",
       "       'LargestPropertyUseType'],\n",
       "      dtype='object'))])),\n",
       "                ('model',\n",
       "                 TransformedTargetRegressor(func=<ufunc 'log1p'>,\n",
       "                                            inverse_func=<ufunc 'expm1'>,\n",
       "                                            regressor=RandomForestRegressor(n_jobs=-1,\n",
       "                                                                            random_state=0)))])>"
      ]
     },
     "execution_count": 454,
     "metadata": {},
     "output_type": "execute_result"
    }
   ],
   "source": [
    "log_model=RandomForestmodel_search_log.best_estimator_"
   ]
  },
  {
   "cell_type": "code",
   "execution_count": 452,
   "metadata": {},
   "outputs": [
    {
     "data": {
      "text/html": [
       "<div>\n",
       "<style scoped>\n",
       "    .dataframe tbody tr th:only-of-type {\n",
       "        vertical-align: middle;\n",
       "    }\n",
       "\n",
       "    .dataframe tbody tr th {\n",
       "        vertical-align: top;\n",
       "    }\n",
       "\n",
       "    .dataframe thead th {\n",
       "        text-align: right;\n",
       "    }\n",
       "</style>\n",
       "<table border=\"1\" class=\"dataframe\">\n",
       "  <thead>\n",
       "    <tr style=\"text-align: right;\">\n",
       "      <th></th>\n",
       "      <th>obsGHG</th>\n",
       "      <th>pred1</th>\n",
       "      <th>obs_eng</th>\n",
       "      <th>pred2</th>\n",
       "      <th>diff1</th>\n",
       "      <th>diff2</th>\n",
       "    </tr>\n",
       "  </thead>\n",
       "  <tbody>\n",
       "    <tr>\n",
       "      <th>1125</th>\n",
       "      <td>7.49</td>\n",
       "      <td>NaN</td>\n",
       "      <td>1074989.000</td>\n",
       "      <td>NaN</td>\n",
       "      <td>NaN</td>\n",
       "      <td>NaN</td>\n",
       "    </tr>\n",
       "    <tr>\n",
       "      <th>2101</th>\n",
       "      <td>27.83</td>\n",
       "      <td>NaN</td>\n",
       "      <td>817255.875</td>\n",
       "      <td>NaN</td>\n",
       "      <td>NaN</td>\n",
       "      <td>NaN</td>\n",
       "    </tr>\n",
       "    <tr>\n",
       "      <th>9</th>\n",
       "      <td>151.12</td>\n",
       "      <td>3794.196755</td>\n",
       "      <td>4573777.000</td>\n",
       "      <td>1.094836e+08</td>\n",
       "      <td>-3643.076755</td>\n",
       "      <td>-1.049098e+08</td>\n",
       "    </tr>\n",
       "    <tr>\n",
       "      <th>2492</th>\n",
       "      <td>22.33</td>\n",
       "      <td>NaN</td>\n",
       "      <td>588856.125</td>\n",
       "      <td>NaN</td>\n",
       "      <td>NaN</td>\n",
       "      <td>NaN</td>\n",
       "    </tr>\n",
       "    <tr>\n",
       "      <th>1929</th>\n",
       "      <td>40.01</td>\n",
       "      <td>NaN</td>\n",
       "      <td>1429855.750</td>\n",
       "      <td>NaN</td>\n",
       "      <td>NaN</td>\n",
       "      <td>NaN</td>\n",
       "    </tr>\n",
       "  </tbody>\n",
       "</table>\n",
       "</div>"
      ],
      "text/plain": [
       "      obsGHG        pred1      obs_eng         pred2        diff1  \\\n",
       "1125    7.49          NaN  1074989.000           NaN          NaN   \n",
       "2101   27.83          NaN   817255.875           NaN          NaN   \n",
       "9     151.12  3794.196755  4573777.000  1.094836e+08 -3643.076755   \n",
       "2492   22.33          NaN   588856.125           NaN          NaN   \n",
       "1929   40.01          NaN  1429855.750           NaN          NaN   \n",
       "\n",
       "             diff2  \n",
       "1125           NaN  \n",
       "2101           NaN  \n",
       "9    -1.049098e+08  \n",
       "2492           NaN  \n",
       "1929           NaN  "
      ]
     },
     "execution_count": 452,
     "metadata": {},
     "output_type": "execute_result"
    }
   ],
   "source": [
    "compar = pd.DataFrame([y_test.iloc[:,0], log_model.predict(X_test)[:,0],y_test.iloc[:,1],log_model.predict(X_test)[:,1]]).T\n",
    "compar.columns = ['obsGHG','pred1','obs_eng','pred2']\n",
    "compar['diff1'] = compar.obsGHG - compar.pred1\n",
    "compar['diff2'] = compar.obs_eng - compar.pred2\n",
    "compar.head()"
   ]
  },
  {
   "cell_type": "code",
   "execution_count": 445,
   "metadata": {},
   "outputs": [],
   "source": [
    "with open('log_best_model.pkl', 'wb') as fileWriteStream:\n",
    "    pickle.dump(log_model, fileWriteStream)"
   ]
  },
  {
   "cell_type": "markdown",
   "metadata": {},
   "source": [
    "### shap"
   ]
  },
  {
   "cell_type": "code",
   "execution_count": 453,
   "metadata": {},
   "outputs": [
    {
     "ename": "AttributeError",
     "evalue": "'dict' object has no attribute 'coef_'",
     "output_type": "error",
     "traceback": [
      "\u001b[1;31m---------------------------------------------------------------------------\u001b[0m",
      "\u001b[1;31mAttributeError\u001b[0m                            Traceback (most recent call last)",
      "\u001b[1;32m~\\AppData\\Local\\Temp/ipykernel_15164/4150562373.py\u001b[0m in \u001b[0;36m<module>\u001b[1;34m\u001b[0m\n\u001b[0;32m      4\u001b[0m         \u001b[0maic\u001b[0m \u001b[1;33m=\u001b[0m \u001b[0mn\u001b[0m \u001b[1;33m*\u001b[0m \u001b[0mlog\u001b[0m\u001b[1;33m(\u001b[0m\u001b[0mmse\u001b[0m\u001b[1;33m)\u001b[0m \u001b[1;33m+\u001b[0m \u001b[1;36m2\u001b[0m \u001b[1;33m*\u001b[0m \u001b[0mnum_params\u001b[0m\u001b[1;33m\u001b[0m\u001b[1;33m\u001b[0m\u001b[0m\n\u001b[0;32m      5\u001b[0m         \u001b[1;32mreturn\u001b[0m \u001b[0maic\u001b[0m\u001b[1;33m\u001b[0m\u001b[1;33m\u001b[0m\u001b[0m\n\u001b[1;32m----> 6\u001b[1;33m \u001b[0mnum_params\u001b[0m \u001b[1;33m=\u001b[0m \u001b[0mlen\u001b[0m\u001b[1;33m(\u001b[0m\u001b[0mmodel\u001b[0m\u001b[1;33m.\u001b[0m\u001b[0mcoef_\u001b[0m\u001b[1;33m)\u001b[0m \u001b[1;33m+\u001b[0m \u001b[1;36m1\u001b[0m\u001b[1;33m\u001b[0m\u001b[1;33m\u001b[0m\u001b[0m\n\u001b[0m\u001b[0;32m      7\u001b[0m \u001b[0mcalculate_aic\u001b[0m\u001b[1;33m(\u001b[0m\u001b[0mlen\u001b[0m\u001b[1;33m(\u001b[0m\u001b[0my_test\u001b[0m\u001b[1;33m)\u001b[0m\u001b[1;33m,\u001b[0m \u001b[0mmse\u001b[0m\u001b[1;33m,\u001b[0m\u001b[0mnum_params\u001b[0m\u001b[1;33m)\u001b[0m\u001b[1;33m\u001b[0m\u001b[1;33m\u001b[0m\u001b[0m\n",
      "\u001b[1;31mAttributeError\u001b[0m: 'dict' object has no attribute 'coef_'"
     ]
    }
   ],
   "source": [
    "# calculate aic \n",
    "mse=mean_squared_error(y_test, preds_log)\n",
    "def calculate_aic(n, mse, num_params):\n",
    "\taic = n * log(mse) + 2 * num_params\n",
    "\treturn aic\n",
    "num_params = len(model.coef_) + 1\n",
    "calculate_aic(len(y_test), mse,num_params)"
   ]
  },
  {
   "cell_type": "code",
   "execution_count": null,
   "metadata": {},
   "outputs": [],
   "source": [
    "import matplotlib.pyplot as plt\n",
    "f = plt.figure()\n",
    "shap.summary_plot(rf_shap_values, X_test)\n",
    "f.savefig(\"/summary_plot1.png\", bbox_inches='tight', dpi=600)"
   ]
  }
 ],
 "metadata": {
  "interpreter": {
   "hash": "f7585d097669380d59b925467a366a88db5f0d166980151454dbe1058eb2d4b1"
  },
  "kernelspec": {
   "display_name": "Python 3.9.7 ('base')",
   "language": "python",
   "name": "python3"
  },
  "language_info": {
   "codemirror_mode": {
    "name": "ipython",
    "version": 3
   },
   "file_extension": ".py",
   "mimetype": "text/x-python",
   "name": "python",
   "nbconvert_exporter": "python",
   "pygments_lexer": "ipython3",
   "version": "3.9.7"
  },
  "orig_nbformat": 4
 },
 "nbformat": 4,
 "nbformat_minor": 2
}
