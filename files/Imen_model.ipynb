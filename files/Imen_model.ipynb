{
 "cells": [
  {
   "cell_type": "raw",
   "id": "c178b40d",
   "metadata": {},
   "source": [
    "nous allons réaliser les diverses modélisations grâce à des approches linéaires et non-linéaire afin de prédire les émissions de CO2 et les consommations d'énergie des bâtiments."
   ]
  },
  {
   "cell_type": "markdown",
   "id": "b174cefe",
   "metadata": {},
   "source": [
    "# 1. Preprocessing"
   ]
  },
  {
   "cell_type": "code",
   "execution_count": 1,
   "id": "1e842ee3",
   "metadata": {},
   "outputs": [],
   "source": [
    "import numpy as np\n",
    "import pandas as pd\n",
    "import matplotlib.pyplot as plt\n",
    "plt.style.use('ggplot')\n",
    "import seaborn as sns\n",
    "sns.set_style(\"whitegrid\")\n",
    "sns.color_palette(\"crest\", as_cmap=True)\n",
    "import warnings\n",
    "warnings.filterwarnings('ignore')\n"
   ]
  },
  {
   "cell_type": "raw",
   "id": "35b01a84",
   "metadata": {},
   "source": [
    "Comme nous l'avons vu dans l'analyse exploratoire, un modèle simple de régression linéaire multivarié ne pourrait pas répondre totalement à notre problème de prédiction. Nous allons donc utiliser ce premier modèle comme baseline et tester les métriques principales : R² et MAE."
   ]
  },
  {
   "cell_type": "code",
   "execution_count": 2,
   "id": "fbf60937",
   "metadata": {},
   "outputs": [
    {
     "data": {
      "text/plain": [
       "(1548, 27)"
      ]
     },
     "execution_count": 2,
     "metadata": {},
     "output_type": "execute_result"
    }
   ],
   "source": [
    "data = pd.read_csv(\"C:/Users/Imen/Documents/Emission_CO2/greenwashing/building-energy-cleaned.csv\")\n",
    "data.shape"
   ]
  },
  {
   "cell_type": "code",
   "execution_count": 3,
   "id": "03232a98",
   "metadata": {},
   "outputs": [
    {
     "name": "stdout",
     "output_type": "stream",
     "text": [
      "<class 'pandas.core.frame.DataFrame'>\n",
      "RangeIndex: 1548 entries, 0 to 1547\n",
      "Data columns (total 27 columns):\n",
      " #   Column                    Non-Null Count  Dtype  \n",
      "---  ------                    --------------  -----  \n",
      " 0   OSEBuildingID             1548 non-null   int64  \n",
      " 1   DataYear                  1548 non-null   int64  \n",
      " 2   BuildingType              1548 non-null   object \n",
      " 3   PrimaryPropertyType       1548 non-null   object \n",
      " 4   PropertyName              1548 non-null   object \n",
      " 5   Address                   1548 non-null   object \n",
      " 6   State                     1548 non-null   object \n",
      " 7   ZipCode                   1535 non-null   float64\n",
      " 8   Neighborhood              1548 non-null   object \n",
      " 9   NumberofBuildings         1548 non-null   float64\n",
      " 10  NumberofFloors            1548 non-null   int64  \n",
      " 11  PropertyGFATotal          1548 non-null   int64  \n",
      " 12  LargestPropertyUseType    1548 non-null   object \n",
      " 13  YearsENERGYSTARCertified  97 non-null     object \n",
      " 14  ENERGYSTARScore           997 non-null    float64\n",
      " 15  SiteEnergyUse(kBtu)       1548 non-null   float64\n",
      " 16  SteamUse(kBtu)            1548 non-null   float64\n",
      " 17  Electricity(kBtu)         1548 non-null   float64\n",
      " 18  NaturalGas(kBtu)          1548 non-null   float64\n",
      " 19  TotalGHGEmissions         1548 non-null   float64\n",
      " 20  BuildingAge               1548 non-null   int64  \n",
      " 21  TotalUseTypeNumber        1548 non-null   int64  \n",
      " 22  GFABuildingRate           1548 non-null   float64\n",
      " 23  GFAParkingRate            1548 non-null   float64\n",
      " 24  GFAPerBuilding            1548 non-null   float64\n",
      " 25  GFAPerFloor               1548 non-null   float64\n",
      " 26  harvesine_distance        1548 non-null   float64\n",
      "dtypes: float64(13), int64(6), object(8)\n",
      "memory usage: 326.7+ KB\n"
     ]
    }
   ],
   "source": [
    "data.info()"
   ]
  },
  {
   "cell_type": "code",
   "execution_count": 4,
   "id": "f352ac4c",
   "metadata": {},
   "outputs": [
    {
     "data": {
      "text/html": [
       "<div>\n",
       "<style scoped>\n",
       "    .dataframe tbody tr th:only-of-type {\n",
       "        vertical-align: middle;\n",
       "    }\n",
       "\n",
       "    .dataframe tbody tr th {\n",
       "        vertical-align: top;\n",
       "    }\n",
       "\n",
       "    .dataframe thead th {\n",
       "        text-align: right;\n",
       "    }\n",
       "</style>\n",
       "<table border=\"1\" class=\"dataframe\">\n",
       "  <thead>\n",
       "    <tr style=\"text-align: right;\">\n",
       "      <th></th>\n",
       "      <th>OSEBuildingID</th>\n",
       "      <th>DataYear</th>\n",
       "      <th>ZipCode</th>\n",
       "      <th>NumberofBuildings</th>\n",
       "      <th>NumberofFloors</th>\n",
       "      <th>PropertyGFATotal</th>\n",
       "      <th>ENERGYSTARScore</th>\n",
       "      <th>SiteEnergyUse(kBtu)</th>\n",
       "      <th>SteamUse(kBtu)</th>\n",
       "      <th>Electricity(kBtu)</th>\n",
       "      <th>NaturalGas(kBtu)</th>\n",
       "      <th>TotalGHGEmissions</th>\n",
       "      <th>BuildingAge</th>\n",
       "      <th>TotalUseTypeNumber</th>\n",
       "      <th>GFABuildingRate</th>\n",
       "      <th>GFAParkingRate</th>\n",
       "      <th>GFAPerBuilding</th>\n",
       "      <th>GFAPerFloor</th>\n",
       "      <th>harvesine_distance</th>\n",
       "    </tr>\n",
       "  </thead>\n",
       "  <tbody>\n",
       "    <tr>\n",
       "      <th>count</th>\n",
       "      <td>1548.000000</td>\n",
       "      <td>1548.0</td>\n",
       "      <td>1535.000000</td>\n",
       "      <td>1548.000000</td>\n",
       "      <td>1548.000000</td>\n",
       "      <td>1.548000e+03</td>\n",
       "      <td>997.000000</td>\n",
       "      <td>1.548000e+03</td>\n",
       "      <td>1.548000e+03</td>\n",
       "      <td>1.548000e+03</td>\n",
       "      <td>1.548000e+03</td>\n",
       "      <td>1548.000000</td>\n",
       "      <td>1548.000000</td>\n",
       "      <td>1548.000000</td>\n",
       "      <td>1548.000000</td>\n",
       "      <td>1548.000000</td>\n",
       "      <td>1548.0</td>\n",
       "      <td>1548.00000</td>\n",
       "      <td>1548.000000</td>\n",
       "    </tr>\n",
       "    <tr>\n",
       "      <th>mean</th>\n",
       "      <td>16497.944444</td>\n",
       "      <td>2016.0</td>\n",
       "      <td>98116.776547</td>\n",
       "      <td>1.178941</td>\n",
       "      <td>4.276486</td>\n",
       "      <td>1.213321e+05</td>\n",
       "      <td>63.635908</td>\n",
       "      <td>8.860058e+06</td>\n",
       "      <td>5.511831e+05</td>\n",
       "      <td>6.140840e+06</td>\n",
       "      <td>2.038297e+06</td>\n",
       "      <td>193.608908</td>\n",
       "      <td>54.355943</td>\n",
       "      <td>1.952842</td>\n",
       "      <td>0.934666</td>\n",
       "      <td>0.065334</td>\n",
       "      <td>inf</td>\n",
       "      <td>inf</td>\n",
       "      <td>2.720660</td>\n",
       "    </tr>\n",
       "    <tr>\n",
       "      <th>std</th>\n",
       "      <td>13827.877766</td>\n",
       "      <td>0.0</td>\n",
       "      <td>18.695570</td>\n",
       "      <td>3.039221</td>\n",
       "      <td>6.780694</td>\n",
       "      <td>3.062944e+05</td>\n",
       "      <td>28.825309</td>\n",
       "      <td>3.130568e+07</td>\n",
       "      <td>5.718502e+06</td>\n",
       "      <td>2.151071e+07</td>\n",
       "      <td>9.710667e+06</td>\n",
       "      <td>779.105278</td>\n",
       "      <td>32.886918</td>\n",
       "      <td>1.243355</td>\n",
       "      <td>0.144040</td>\n",
       "      <td>0.144040</td>\n",
       "      <td>NaN</td>\n",
       "      <td>NaN</td>\n",
       "      <td>2.187473</td>\n",
       "    </tr>\n",
       "    <tr>\n",
       "      <th>min</th>\n",
       "      <td>1.000000</td>\n",
       "      <td>2016.0</td>\n",
       "      <td>98006.000000</td>\n",
       "      <td>0.000000</td>\n",
       "      <td>0.000000</td>\n",
       "      <td>1.128500e+04</td>\n",
       "      <td>1.000000</td>\n",
       "      <td>5.713320e+04</td>\n",
       "      <td>0.000000e+00</td>\n",
       "      <td>-1.154170e+05</td>\n",
       "      <td>0.000000e+00</td>\n",
       "      <td>-0.800000</td>\n",
       "      <td>1.000000</td>\n",
       "      <td>1.000000</td>\n",
       "      <td>0.104980</td>\n",
       "      <td>0.000000</td>\n",
       "      <td>4300.0</td>\n",
       "      <td>221.69700</td>\n",
       "      <td>0.021130</td>\n",
       "    </tr>\n",
       "    <tr>\n",
       "      <th>25%</th>\n",
       "      <td>602.750000</td>\n",
       "      <td>2016.0</td>\n",
       "      <td>98104.000000</td>\n",
       "      <td>1.000000</td>\n",
       "      <td>1.000000</td>\n",
       "      <td>2.884325e+04</td>\n",
       "      <td>44.000000</td>\n",
       "      <td>1.251083e+06</td>\n",
       "      <td>0.000000e+00</td>\n",
       "      <td>7.308642e+05</td>\n",
       "      <td>0.000000e+00</td>\n",
       "      <td>20.655000</td>\n",
       "      <td>27.000000</td>\n",
       "      <td>1.000000</td>\n",
       "      <td>1.000000</td>\n",
       "      <td>0.000000</td>\n",
       "      <td>28672.0</td>\n",
       "      <td>12960.00000</td>\n",
       "      <td>0.836309</td>\n",
       "    </tr>\n",
       "    <tr>\n",
       "      <th>50%</th>\n",
       "      <td>21180.500000</td>\n",
       "      <td>2016.0</td>\n",
       "      <td>98109.000000</td>\n",
       "      <td>1.000000</td>\n",
       "      <td>2.000000</td>\n",
       "      <td>4.815900e+04</td>\n",
       "      <td>71.000000</td>\n",
       "      <td>2.732167e+06</td>\n",
       "      <td>0.000000e+00</td>\n",
       "      <td>1.746086e+06</td>\n",
       "      <td>4.881350e+05</td>\n",
       "      <td>49.845000</td>\n",
       "      <td>50.500000</td>\n",
       "      <td>2.000000</td>\n",
       "      <td>1.000000</td>\n",
       "      <td>0.000000</td>\n",
       "      <td>48229.5</td>\n",
       "      <td>22365.35000</td>\n",
       "      <td>2.097849</td>\n",
       "    </tr>\n",
       "    <tr>\n",
       "      <th>75%</th>\n",
       "      <td>24609.000000</td>\n",
       "      <td>2016.0</td>\n",
       "      <td>98125.000000</td>\n",
       "      <td>1.000000</td>\n",
       "      <td>4.000000</td>\n",
       "      <td>1.076615e+05</td>\n",
       "      <td>88.000000</td>\n",
       "      <td>7.294487e+06</td>\n",
       "      <td>0.000000e+00</td>\n",
       "      <td>5.264935e+06</td>\n",
       "      <td>1.530812e+06</td>\n",
       "      <td>147.227500</td>\n",
       "      <td>86.000000</td>\n",
       "      <td>2.000000</td>\n",
       "      <td>1.000000</td>\n",
       "      <td>0.000000</td>\n",
       "      <td>112644.0</td>\n",
       "      <td>37458.47125</td>\n",
       "      <td>4.098127</td>\n",
       "    </tr>\n",
       "    <tr>\n",
       "      <th>max</th>\n",
       "      <td>50226.000000</td>\n",
       "      <td>2016.0</td>\n",
       "      <td>98199.000000</td>\n",
       "      <td>111.000000</td>\n",
       "      <td>99.000000</td>\n",
       "      <td>9.320156e+06</td>\n",
       "      <td>100.000000</td>\n",
       "      <td>8.739237e+08</td>\n",
       "      <td>1.349435e+08</td>\n",
       "      <td>6.570744e+08</td>\n",
       "      <td>2.979090e+08</td>\n",
       "      <td>16870.980000</td>\n",
       "      <td>116.000000</td>\n",
       "      <td>13.000000</td>\n",
       "      <td>1.000000</td>\n",
       "      <td>0.895020</td>\n",
       "      <td>inf</td>\n",
       "      <td>inf</td>\n",
       "      <td>8.843544</td>\n",
       "    </tr>\n",
       "  </tbody>\n",
       "</table>\n",
       "</div>"
      ],
      "text/plain": [
       "       OSEBuildingID  DataYear       ZipCode  NumberofBuildings  \\\n",
       "count    1548.000000    1548.0   1535.000000        1548.000000   \n",
       "mean    16497.944444    2016.0  98116.776547           1.178941   \n",
       "std     13827.877766       0.0     18.695570           3.039221   \n",
       "min         1.000000    2016.0  98006.000000           0.000000   \n",
       "25%       602.750000    2016.0  98104.000000           1.000000   \n",
       "50%     21180.500000    2016.0  98109.000000           1.000000   \n",
       "75%     24609.000000    2016.0  98125.000000           1.000000   \n",
       "max     50226.000000    2016.0  98199.000000         111.000000   \n",
       "\n",
       "       NumberofFloors  PropertyGFATotal  ENERGYSTARScore  SiteEnergyUse(kBtu)  \\\n",
       "count     1548.000000      1.548000e+03       997.000000         1.548000e+03   \n",
       "mean         4.276486      1.213321e+05        63.635908         8.860058e+06   \n",
       "std          6.780694      3.062944e+05        28.825309         3.130568e+07   \n",
       "min          0.000000      1.128500e+04         1.000000         5.713320e+04   \n",
       "25%          1.000000      2.884325e+04        44.000000         1.251083e+06   \n",
       "50%          2.000000      4.815900e+04        71.000000         2.732167e+06   \n",
       "75%          4.000000      1.076615e+05        88.000000         7.294487e+06   \n",
       "max         99.000000      9.320156e+06       100.000000         8.739237e+08   \n",
       "\n",
       "       SteamUse(kBtu)  Electricity(kBtu)  NaturalGas(kBtu)  TotalGHGEmissions  \\\n",
       "count    1.548000e+03       1.548000e+03      1.548000e+03        1548.000000   \n",
       "mean     5.511831e+05       6.140840e+06      2.038297e+06         193.608908   \n",
       "std      5.718502e+06       2.151071e+07      9.710667e+06         779.105278   \n",
       "min      0.000000e+00      -1.154170e+05      0.000000e+00          -0.800000   \n",
       "25%      0.000000e+00       7.308642e+05      0.000000e+00          20.655000   \n",
       "50%      0.000000e+00       1.746086e+06      4.881350e+05          49.845000   \n",
       "75%      0.000000e+00       5.264935e+06      1.530812e+06         147.227500   \n",
       "max      1.349435e+08       6.570744e+08      2.979090e+08       16870.980000   \n",
       "\n",
       "       BuildingAge  TotalUseTypeNumber  GFABuildingRate  GFAParkingRate  \\\n",
       "count  1548.000000         1548.000000      1548.000000     1548.000000   \n",
       "mean     54.355943            1.952842         0.934666        0.065334   \n",
       "std      32.886918            1.243355         0.144040        0.144040   \n",
       "min       1.000000            1.000000         0.104980        0.000000   \n",
       "25%      27.000000            1.000000         1.000000        0.000000   \n",
       "50%      50.500000            2.000000         1.000000        0.000000   \n",
       "75%      86.000000            2.000000         1.000000        0.000000   \n",
       "max     116.000000           13.000000         1.000000        0.895020   \n",
       "\n",
       "       GFAPerBuilding  GFAPerFloor  harvesine_distance  \n",
       "count          1548.0   1548.00000         1548.000000  \n",
       "mean              inf          inf            2.720660  \n",
       "std               NaN          NaN            2.187473  \n",
       "min            4300.0    221.69700            0.021130  \n",
       "25%           28672.0  12960.00000            0.836309  \n",
       "50%           48229.5  22365.35000            2.097849  \n",
       "75%          112644.0  37458.47125            4.098127  \n",
       "max               inf          inf            8.843544  "
      ]
     },
     "execution_count": 4,
     "metadata": {},
     "output_type": "execute_result"
    }
   ],
   "source": [
    "data.describe()"
   ]
  },
  {
   "cell_type": "raw",
   "id": "66ddf902",
   "metadata": {},
   "source": [
    "Dans cette description, on remarque des données avec des valeurs infinies (16 entrées). Nous allons regarder de plus prêt ces données et les corriger :"
   ]
  },
  {
   "cell_type": "code",
   "execution_count": 5,
   "id": "d982d74a",
   "metadata": {},
   "outputs": [
    {
     "data": {
      "text/html": [
       "<div>\n",
       "<style scoped>\n",
       "    .dataframe tbody tr th:only-of-type {\n",
       "        vertical-align: middle;\n",
       "    }\n",
       "\n",
       "    .dataframe tbody tr th {\n",
       "        vertical-align: top;\n",
       "    }\n",
       "\n",
       "    .dataframe thead th {\n",
       "        text-align: right;\n",
       "    }\n",
       "</style>\n",
       "<table border=\"1\" class=\"dataframe\">\n",
       "  <thead>\n",
       "    <tr style=\"text-align: right;\">\n",
       "      <th></th>\n",
       "      <th>OSEBuildingID</th>\n",
       "      <th>DataYear</th>\n",
       "      <th>BuildingType</th>\n",
       "      <th>PrimaryPropertyType</th>\n",
       "      <th>PropertyName</th>\n",
       "      <th>Address</th>\n",
       "      <th>State</th>\n",
       "      <th>ZipCode</th>\n",
       "      <th>Neighborhood</th>\n",
       "      <th>NumberofBuildings</th>\n",
       "      <th>...</th>\n",
       "      <th>Electricity(kBtu)</th>\n",
       "      <th>NaturalGas(kBtu)</th>\n",
       "      <th>TotalGHGEmissions</th>\n",
       "      <th>BuildingAge</th>\n",
       "      <th>TotalUseTypeNumber</th>\n",
       "      <th>GFABuildingRate</th>\n",
       "      <th>GFAParkingRate</th>\n",
       "      <th>GFAPerBuilding</th>\n",
       "      <th>GFAPerFloor</th>\n",
       "      <th>harvesine_distance</th>\n",
       "    </tr>\n",
       "  </thead>\n",
       "  <tbody>\n",
       "    <tr>\n",
       "      <th>56</th>\n",
       "      <td>89</td>\n",
       "      <td>2016</td>\n",
       "      <td>NonResidential</td>\n",
       "      <td>Medical Office</td>\n",
       "      <td>Polyclinic North &amp;&amp; South</td>\n",
       "      <td>1200 Harvard Ave</td>\n",
       "      <td>WA</td>\n",
       "      <td>98122.0</td>\n",
       "      <td>EAST</td>\n",
       "      <td>0.0</td>\n",
       "      <td>...</td>\n",
       "      <td>9886484.0</td>\n",
       "      <td>6814570.0</td>\n",
       "      <td>430.84</td>\n",
       "      <td>51</td>\n",
       "      <td>1</td>\n",
       "      <td>1.00000</td>\n",
       "      <td>0.00000</td>\n",
       "      <td>inf</td>\n",
       "      <td>59671.333</td>\n",
       "      <td>0.658562</td>\n",
       "    </tr>\n",
       "    <tr>\n",
       "      <th>69</th>\n",
       "      <td>113</td>\n",
       "      <td>2016</td>\n",
       "      <td>NonResidential</td>\n",
       "      <td>Small- and Mid-Sized Office</td>\n",
       "      <td>KCTS9</td>\n",
       "      <td>401 Mercer St</td>\n",
       "      <td>WA</td>\n",
       "      <td>98109.0</td>\n",
       "      <td>MAGNOLIA / QUEEN ANNE</td>\n",
       "      <td>0.0</td>\n",
       "      <td>...</td>\n",
       "      <td>4166305.0</td>\n",
       "      <td>0.0</td>\n",
       "      <td>29.04</td>\n",
       "      <td>30</td>\n",
       "      <td>5</td>\n",
       "      <td>0.96449</td>\n",
       "      <td>0.03551</td>\n",
       "      <td>inf</td>\n",
       "      <td>33120.000</td>\n",
       "      <td>1.438289</td>\n",
       "    </tr>\n",
       "    <tr>\n",
       "      <th>126</th>\n",
       "      <td>257</td>\n",
       "      <td>2016</td>\n",
       "      <td>NonResidential</td>\n",
       "      <td>Warehouse</td>\n",
       "      <td>Harbor Island: Warehouse E - DNRP-SWD</td>\n",
       "      <td>3235 16TH AVE SW</td>\n",
       "      <td>WA</td>\n",
       "      <td>98134.0</td>\n",
       "      <td>GREATER DUWAMISH</td>\n",
       "      <td>0.0</td>\n",
       "      <td>...</td>\n",
       "      <td>2411402.0</td>\n",
       "      <td>0.0</td>\n",
       "      <td>16.81</td>\n",
       "      <td>100</td>\n",
       "      <td>1</td>\n",
       "      <td>1.00000</td>\n",
       "      <td>0.00000</td>\n",
       "      <td>inf</td>\n",
       "      <td>19900.000</td>\n",
       "      <td>2.452644</td>\n",
       "    </tr>\n",
       "    <tr>\n",
       "      <th>130</th>\n",
       "      <td>267</td>\n",
       "      <td>2016</td>\n",
       "      <td>NonResidential</td>\n",
       "      <td>Hotel</td>\n",
       "      <td>Grand Hyatt Seattle</td>\n",
       "      <td>721 Pine St</td>\n",
       "      <td>WA</td>\n",
       "      <td>98101.0</td>\n",
       "      <td>DOWNTOWN</td>\n",
       "      <td>1.0</td>\n",
       "      <td>...</td>\n",
       "      <td>39364114.0</td>\n",
       "      <td>25683162.0</td>\n",
       "      <td>1638.46</td>\n",
       "      <td>17</td>\n",
       "      <td>5</td>\n",
       "      <td>1.00000</td>\n",
       "      <td>0.00000</td>\n",
       "      <td>934292.0</td>\n",
       "      <td>inf</td>\n",
       "      <td>0.455683</td>\n",
       "    </tr>\n",
       "    <tr>\n",
       "      <th>152</th>\n",
       "      <td>322</td>\n",
       "      <td>2016</td>\n",
       "      <td>NonResidential</td>\n",
       "      <td>Large Office</td>\n",
       "      <td>Cox Media Group Seattle KIRO TV (322)</td>\n",
       "      <td>2801 3rd Ave</td>\n",
       "      <td>WA</td>\n",
       "      <td>98121.0</td>\n",
       "      <td>DOWNTOWN</td>\n",
       "      <td>0.0</td>\n",
       "      <td>...</td>\n",
       "      <td>9788716.0</td>\n",
       "      <td>0.0</td>\n",
       "      <td>68.24</td>\n",
       "      <td>48</td>\n",
       "      <td>1</td>\n",
       "      <td>0.73464</td>\n",
       "      <td>0.26536</td>\n",
       "      <td>inf</td>\n",
       "      <td>33578.000</td>\n",
       "      <td>1.186739</td>\n",
       "    </tr>\n",
       "  </tbody>\n",
       "</table>\n",
       "<p>5 rows × 27 columns</p>\n",
       "</div>"
      ],
      "text/plain": [
       "     OSEBuildingID  DataYear    BuildingType          PrimaryPropertyType  \\\n",
       "56              89      2016  NonResidential               Medical Office   \n",
       "69             113      2016  NonResidential  Small- and Mid-Sized Office   \n",
       "126            257      2016  NonResidential                    Warehouse   \n",
       "130            267      2016  NonResidential                        Hotel   \n",
       "152            322      2016  NonResidential                 Large Office   \n",
       "\n",
       "                              PropertyName           Address State  ZipCode  \\\n",
       "56               Polyclinic North && South  1200 Harvard Ave    WA  98122.0   \n",
       "69                                   KCTS9     401 Mercer St    WA  98109.0   \n",
       "126  Harbor Island: Warehouse E - DNRP-SWD  3235 16TH AVE SW    WA  98134.0   \n",
       "130                    Grand Hyatt Seattle       721 Pine St    WA  98101.0   \n",
       "152  Cox Media Group Seattle KIRO TV (322)      2801 3rd Ave    WA  98121.0   \n",
       "\n",
       "              Neighborhood  NumberofBuildings  ...  Electricity(kBtu)  \\\n",
       "56                    EAST                0.0  ...          9886484.0   \n",
       "69   MAGNOLIA / QUEEN ANNE                0.0  ...          4166305.0   \n",
       "126       GREATER DUWAMISH                0.0  ...          2411402.0   \n",
       "130               DOWNTOWN                1.0  ...         39364114.0   \n",
       "152               DOWNTOWN                0.0  ...          9788716.0   \n",
       "\n",
       "     NaturalGas(kBtu) TotalGHGEmissions BuildingAge  TotalUseTypeNumber  \\\n",
       "56          6814570.0            430.84          51                   1   \n",
       "69                0.0             29.04          30                   5   \n",
       "126               0.0             16.81         100                   1   \n",
       "130        25683162.0           1638.46          17                   5   \n",
       "152               0.0             68.24          48                   1   \n",
       "\n",
       "     GFABuildingRate  GFAParkingRate  GFAPerBuilding  GFAPerFloor  \\\n",
       "56           1.00000         0.00000             inf    59671.333   \n",
       "69           0.96449         0.03551             inf    33120.000   \n",
       "126          1.00000         0.00000             inf    19900.000   \n",
       "130          1.00000         0.00000        934292.0          inf   \n",
       "152          0.73464         0.26536             inf    33578.000   \n",
       "\n",
       "     harvesine_distance  \n",
       "56             0.658562  \n",
       "69             1.438289  \n",
       "126            2.452644  \n",
       "130            0.455683  \n",
       "152            1.186739  \n",
       "\n",
       "[5 rows x 27 columns]"
      ]
     },
     "execution_count": 5,
     "metadata": {},
     "output_type": "execute_result"
    }
   ],
   "source": [
    "data[(data.GFAPerBuilding == np.inf) | (data.GFAPerFloor == np.inf)].head()"
   ]
  },
  {
   "cell_type": "code",
   "execution_count": 6,
   "id": "1177c014",
   "metadata": {},
   "outputs": [
    {
     "data": {
      "text/plain": [
       "OSEBuildingID                  0\n",
       "DataYear                       0\n",
       "BuildingType                   0\n",
       "PrimaryPropertyType            0\n",
       "PropertyName                   0\n",
       "Address                        0\n",
       "State                          0\n",
       "ZipCode                       13\n",
       "Neighborhood                   0\n",
       "NumberofBuildings              0\n",
       "NumberofFloors                 0\n",
       "PropertyGFATotal               0\n",
       "LargestPropertyUseType         0\n",
       "YearsENERGYSTARCertified    1451\n",
       "ENERGYSTARScore              551\n",
       "SiteEnergyUse(kBtu)            0\n",
       "SteamUse(kBtu)                 0\n",
       "Electricity(kBtu)              0\n",
       "NaturalGas(kBtu)               0\n",
       "TotalGHGEmissions              0\n",
       "BuildingAge                    0\n",
       "TotalUseTypeNumber             0\n",
       "GFABuildingRate                0\n",
       "GFAParkingRate                 0\n",
       "GFAPerBuilding                 0\n",
       "GFAPerFloor                    0\n",
       "harvesine_distance             0\n",
       "dtype: int64"
      ]
     },
     "execution_count": 6,
     "metadata": {},
     "output_type": "execute_result"
    }
   ],
   "source": [
    "data.isnull().sum()"
   ]
  },
  {
   "cell_type": "code",
   "execution_count": 7,
   "id": "60d85151",
   "metadata": {},
   "outputs": [],
   "source": [
    "data['GFAPerBuilding'] = np.where(((data.GFAPerBuilding == np.inf) & (data.NumberofBuildings == 0)),0, data.GFAPerBuilding)\n",
    "data['GFAPerFloor'] = np.where(((data.GFAPerFloor == np.inf) & (data.NumberofFloors == 0)),0, data.GFAPerFloor)"
   ]
  },
  {
   "cell_type": "raw",
   "id": "25c2f38d",
   "metadata": {},
   "source": [
    "Comme nous l'avons remarqué dans le Notebook de nettoyage, les Campus sont très consommateurs en energie. Nous allons vérifier la distribution des consommations en fonction des surfaces totales au sol par catégorie de bâtiment. D'éventuels valeurs hors-normes pourraient poser des problèmes pour les modélisations :"
   ]
  },
  {
   "cell_type": "code",
   "execution_count": 8,
   "id": "cf84a8f6",
   "metadata": {},
   "outputs": [
    {
     "data": {
      "image/png": "[encoded data removed]",
      "text/plain": [
       "<Figure size 864x576 with 1 Axes>"
      ]
     },
     "metadata": {},
     "output_type": "display_data"
    }
   ],
   "source": [
    "font_title = {'family': 'serif',\n",
    "              'color':  '#1d479b',\n",
    "              'weight': 'bold',\n",
    "              'size': 18,\n",
    "             }\n",
    "\n",
    "fig = plt.figure(figsize=(12,8))\n",
    "sns.scatterplot(data = data, x='PropertyGFATotal', y='SiteEnergyUse(kBtu)', hue='BuildingType')\n",
    "plt.title(f\"Consommations d'énergie par surface totale au sol et par type de bâtiment\\n\", \n",
    "          fontdict=font_title, fontsize=16)\n",
    "plt.show()"
   ]
  },
  {
   "cell_type": "raw",
   "id": "e912ed7c",
   "metadata": {},
   "source": [
    "Un bâtiment de type campus est très supérieur aux autres données. Il ne s'agit sans doute pas d'une valeur abérrante mais d'une valeur atypique qui est très isolée. Nous allons ici la supprimer de nos données sources."
   ]
  },
  {
   "cell_type": "code",
   "execution_count": 9,
   "id": "d72b61b6",
   "metadata": {},
   "outputs": [
    {
     "data": {
      "text/html": [
       "<div>\n",
       "<style scoped>\n",
       "    .dataframe tbody tr th:only-of-type {\n",
       "        vertical-align: middle;\n",
       "    }\n",
       "\n",
       "    .dataframe tbody tr th {\n",
       "        vertical-align: top;\n",
       "    }\n",
       "\n",
       "    .dataframe thead th {\n",
       "        text-align: right;\n",
       "    }\n",
       "</style>\n",
       "<table border=\"1\" class=\"dataframe\">\n",
       "  <thead>\n",
       "    <tr style=\"text-align: right;\">\n",
       "      <th></th>\n",
       "      <th>OSEBuildingID</th>\n",
       "      <th>DataYear</th>\n",
       "      <th>BuildingType</th>\n",
       "      <th>PrimaryPropertyType</th>\n",
       "      <th>PropertyName</th>\n",
       "      <th>Address</th>\n",
       "      <th>State</th>\n",
       "      <th>ZipCode</th>\n",
       "      <th>Neighborhood</th>\n",
       "      <th>NumberofBuildings</th>\n",
       "      <th>...</th>\n",
       "      <th>Electricity(kBtu)</th>\n",
       "      <th>NaturalGas(kBtu)</th>\n",
       "      <th>TotalGHGEmissions</th>\n",
       "      <th>BuildingAge</th>\n",
       "      <th>TotalUseTypeNumber</th>\n",
       "      <th>GFABuildingRate</th>\n",
       "      <th>GFAParkingRate</th>\n",
       "      <th>GFAPerBuilding</th>\n",
       "      <th>GFAPerFloor</th>\n",
       "      <th>harvesine_distance</th>\n",
       "    </tr>\n",
       "  </thead>\n",
       "  <tbody>\n",
       "    <tr>\n",
       "      <th>1510</th>\n",
       "      <td>49967</td>\n",
       "      <td>2016</td>\n",
       "      <td>Campus</td>\n",
       "      <td>University</td>\n",
       "      <td>University of Washington - Seattle Campus</td>\n",
       "      <td>NE 45th St &amp; Brooklyn Ave</td>\n",
       "      <td>WA</td>\n",
       "      <td>98105.0</td>\n",
       "      <td>NORTHEAST</td>\n",
       "      <td>111.0</td>\n",
       "      <td>...</td>\n",
       "      <td>657074389.0</td>\n",
       "      <td>0.0</td>\n",
       "      <td>11140.56</td>\n",
       "      <td>116</td>\n",
       "      <td>1</td>\n",
       "      <td>1.0</td>\n",
       "      <td>0.0</td>\n",
       "      <td>83965.369</td>\n",
       "      <td>0.0</td>\n",
       "      <td>3.612662</td>\n",
       "    </tr>\n",
       "  </tbody>\n",
       "</table>\n",
       "<p>1 rows × 27 columns</p>\n",
       "</div>"
      ],
      "text/plain": [
       "      OSEBuildingID  DataYear BuildingType PrimaryPropertyType  \\\n",
       "1510          49967      2016       Campus          University   \n",
       "\n",
       "                                   PropertyName                    Address  \\\n",
       "1510  University of Washington - Seattle Campus  NE 45th St & Brooklyn Ave   \n",
       "\n",
       "     State  ZipCode Neighborhood  NumberofBuildings  ...  Electricity(kBtu)  \\\n",
       "1510    WA  98105.0    NORTHEAST              111.0  ...        657074389.0   \n",
       "\n",
       "      NaturalGas(kBtu) TotalGHGEmissions BuildingAge  TotalUseTypeNumber  \\\n",
       "1510               0.0          11140.56         116                   1   \n",
       "\n",
       "      GFABuildingRate  GFAParkingRate  GFAPerBuilding  GFAPerFloor  \\\n",
       "1510              1.0             0.0       83965.369          0.0   \n",
       "\n",
       "      harvesine_distance  \n",
       "1510            3.612662  \n",
       "\n",
       "[1 rows x 27 columns]"
      ]
     },
     "execution_count": 9,
     "metadata": {},
     "output_type": "execute_result"
    }
   ],
   "source": [
    "data[data['SiteEnergyUse(kBtu)']>8*10**8]"
   ]
  },
  {
   "cell_type": "code",
   "execution_count": 10,
   "id": "b24dabb5",
   "metadata": {},
   "outputs": [],
   "source": [
    "data = data[data['SiteEnergyUse(kBtu)']<8*10**8]"
   ]
  },
  {
   "cell_type": "raw",
   "id": "f9614b80",
   "metadata": {},
   "source": [
    "Nous allons regrouper les données d'identification des bâtiments afin qu'elles ne perturbent pas nos modélisations mais restent utilisables."
   ]
  },
  {
   "cell_type": "code",
   "execution_count": 11,
   "id": "cee9b5bd",
   "metadata": {},
   "outputs": [],
   "source": [
    "identification_features = ['OSEBuildingID', 'PropertyName', 'Address', 'ZipCode']\n",
    "data_identification = data[identification_features]\n",
    "data.drop(identification_features, axis=1, inplace = True)"
   ]
  },
  {
   "cell_type": "raw",
   "id": "d1b8fc6b",
   "metadata": {},
   "source": [
    "Le but de notre programme est de supprimer les relevés couteux pour les années à venir. Nous allons donc exclure toutes les données de relève de notre dataset."
   ]
  },
  {
   "cell_type": "code",
   "execution_count": 12,
   "id": "b4b755f9",
   "metadata": {},
   "outputs": [],
   "source": [
    "data_filter = data.drop(['SteamUse(kBtu)','Electricity(kBtu)',\n",
    "                         'NaturalGas(kBtu)'], axis=1)"
   ]
  },
  {
   "cell_type": "code",
   "execution_count": 13,
   "id": "7e4da53d",
   "metadata": {},
   "outputs": [],
   "source": [
    "data= data.drop(['YearsENERGYSTARCertified','ENERGYSTARScore'], axis=1)"
   ]
  },
  {
   "cell_type": "markdown",
   "id": "a38468a7",
   "metadata": {},
   "source": [
    "# 1.1. Encodage et standardisation"
   ]
  },
  {
   "cell_type": "raw",
   "id": "1cb2c01a",
   "metadata": {},
   "source": [
    "Nous allons séparer les données numériques et les données catégorielles de notre dataset :"
   ]
  },
  {
   "cell_type": "code",
   "execution_count": 14,
   "id": "9014655d",
   "metadata": {},
   "outputs": [],
   "source": [
    "numerical_features = data_filter.select_dtypes(include=['int64','float64'])\n",
    "categorical_features = data_filter.select_dtypes(exclude=['int64','float64']) "
   ]
  },
  {
   "cell_type": "raw",
   "id": "b96e7a2a",
   "metadata": {},
   "source": [
    "Pour les données catégorielles, nous allons devoir encoder les valeurs. Nous allons donc supprimer les variables qui n'apporteront rien à notre modèle (les constantes par exemple) et séparer les variables pouvant être encodées en OneHot des autres."
   ]
  },
  {
   "cell_type": "code",
   "execution_count": 15,
   "id": "762a3677",
   "metadata": {},
   "outputs": [
    {
     "data": {
      "text/plain": [
       "BuildingType                 5\n",
       "PrimaryPropertyType         21\n",
       "State                        1\n",
       "Neighborhood                19\n",
       "LargestPropertyUseType      56\n",
       "YearsENERGYSTARCertified    64\n",
       "dtype: int64"
      ]
     },
     "execution_count": 15,
     "metadata": {},
     "output_type": "execute_result"
    }
   ],
   "source": [
    "categorical_features.nunique()"
   ]
  },
  {
   "cell_type": "code",
   "execution_count": 16,
   "id": "fe59f925",
   "metadata": {},
   "outputs": [],
   "source": [
    "categorical_features = categorical_features.drop(['State','YearsENERGYSTARCertified'], axis=1)"
   ]
  },
  {
   "cell_type": "raw",
   "id": "874d4c48",
   "metadata": {},
   "source": [
    "Pour toutes ces variables, nous utiliserons la méthode TagetEncoder de la librairie Category_Encoders que nous intégrerons dans un pipeline Sklearn.\n",
    "Cet encodeur réalise 2 principales étapes :\n",
    "\n",
    "Groupe les données par chaque catégorie et compte de nombre d'occurrences de chaque cible.\n",
    "Calcul de la probabilité que chaque cible se produise pour chaque groupe spécifique."
   ]
  },
  {
   "cell_type": "code",
   "execution_count": 17,
   "id": "33bc60d7",
   "metadata": {},
   "outputs": [
    {
     "data": {
      "text/plain": [
       "['DataYear',\n",
       " 'NumberofBuildings',\n",
       " 'NumberofFloors',\n",
       " 'PropertyGFATotal',\n",
       " 'ENERGYSTARScore',\n",
       " 'SiteEnergyUse(kBtu)',\n",
       " 'TotalGHGEmissions',\n",
       " 'BuildingAge',\n",
       " 'TotalUseTypeNumber',\n",
       " 'GFABuildingRate',\n",
       " 'GFAParkingRate',\n",
       " 'GFAPerBuilding',\n",
       " 'GFAPerFloor',\n",
       " 'harvesine_distance']"
      ]
     },
     "execution_count": 17,
     "metadata": {},
     "output_type": "execute_result"
    }
   ],
   "source": [
    "list(numerical_features.columns)"
   ]
  },
  {
   "cell_type": "raw",
   "id": "2a51a221",
   "metadata": {},
   "source": [
    "La date de relevé ne nous sera pas utile ici, nous la supprimerons du jeu de données. ENERGYSTARScore est insuffisement complété. Nous allons l'écarter du dataset mais nous la conservons pour vérifier ensuite si cette variable a un impact sur la qualité de prédiction."
   ]
  },
  {
   "cell_type": "code",
   "execution_count": 18,
   "id": "d4abbd97",
   "metadata": {},
   "outputs": [],
   "source": [
    "energystar_score = numerical_features['ENERGYSTARScore']\n",
    "numerical_features = numerical_features.drop(['ENERGYSTARScore','DataYear'], axis=1)"
   ]
  },
  {
   "cell_type": "raw",
   "id": "b5684391",
   "metadata": {},
   "source": [
    "Les données numériques doivent être standardisées pour entrer dans nos modèles de prédiction. Nous réaliserons un centrage-réduction via la méthode StandardScaler de Scikit-Learn"
   ]
  },
  {
   "cell_type": "code",
   "execution_count": 19,
   "id": "ffe6dd04",
   "metadata": {},
   "outputs": [],
   "source": [
    "data_filter = pd.concat([categorical_features, numerical_features], axis=1)"
   ]
  },
  {
   "cell_type": "markdown",
   "id": "2e12a760",
   "metadata": {},
   "source": [
    "# Préparation du Preprocessor"
   ]
  },
  {
   "cell_type": "code",
   "execution_count": 20,
   "id": "041d9081",
   "metadata": {},
   "outputs": [
    {
     "name": "stdout",
     "output_type": "stream",
     "text": [
      "Requirement already satisfied: category_encoders in c:\\users\\imen\\anaconda3\\lib\\site-packages (2.5.0)\n",
      "Requirement already satisfied: pandas>=1.0.5 in c:\\users\\imen\\anaconda3\\lib\\site-packages (from category_encoders) (1.3.4)\n",
      "Requirement already satisfied: numpy>=1.14.0 in c:\\users\\imen\\anaconda3\\lib\\site-packages (from category_encoders) (1.21.4)\n",
      "Requirement already satisfied: scipy>=1.0.0 in c:\\users\\imen\\anaconda3\\lib\\site-packages (from category_encoders) (1.7.1)\n",
      "Requirement already satisfied: statsmodels>=0.9.0 in c:\\users\\imen\\anaconda3\\lib\\site-packages (from category_encoders) (0.12.2)\n",
      "Requirement already satisfied: patsy>=0.5.1 in c:\\users\\imen\\anaconda3\\lib\\site-packages (from category_encoders) (0.5.2)\n",
      "Requirement already satisfied: scikit-learn>=0.20.0 in c:\\users\\imen\\anaconda3\\lib\\site-packages (from category_encoders) (1.0.2)\n",
      "Requirement already satisfied: pytz>=2017.3 in c:\\users\\imen\\anaconda3\\lib\\site-packages (from pandas>=1.0.5->category_encoders) (2021.3)\n",
      "Requirement already satisfied: python-dateutil>=2.7.3 in c:\\users\\imen\\anaconda3\\lib\\site-packages (from pandas>=1.0.5->category_encoders) (2.8.2)\n",
      "Requirement already satisfied: six in c:\\users\\imen\\anaconda3\\lib\\site-packages (from patsy>=0.5.1->category_encoders) (1.16.0)\n",
      "Requirement already satisfied: joblib>=0.11 in c:\\users\\imen\\anaconda3\\lib\\site-packages (from scikit-learn>=0.20.0->category_encoders) (1.1.0)\n",
      "Requirement already satisfied: threadpoolctl>=2.0.0 in c:\\users\\imen\\anaconda3\\lib\\site-packages (from scikit-learn>=0.20.0->category_encoders) (2.2.0)\n",
      "Note: you may need to restart the kernel to use updated packages.\n"
     ]
    }
   ],
   "source": [
    "pip install --upgrade category_encoders"
   ]
  },
  {
   "cell_type": "code",
   "execution_count": 21,
   "id": "c7157c72",
   "metadata": {},
   "outputs": [],
   "source": [
    "from sklearn.preprocessing import StandardScaler, OrdinalEncoder, RobustScaler\n",
    "from category_encoders.target_encoder import TargetEncoder\n",
    "from sklearn.compose import ColumnTransformer\n",
    "\n",
    "target_features = ['BuildingType','PrimaryPropertyType','Neighborhood','LargestPropertyUseType']\n",
    "target_transformer = TargetEncoder()\n",
    "\n",
    "numeric_features = ['harvesine_distance','NumberofBuildings','NumberofFloors',\n",
    "                    'PropertyGFATotal','BuildingAge','TotalUseTypeNumber',\n",
    "                    'GFABuildingRate','GFAParkingRate','GFAPerBuilding','GFAPerFloor']\n",
    "numeric_transformer = RobustScaler(unit_variance=True)\n",
    "\n",
    "preprocessor = ColumnTransformer(transformers=[\n",
    "    ('target', target_transformer, target_features),\n",
    "    ('numeric', numeric_transformer, numeric_features)\n",
    "])"
   ]
  },
  {
   "cell_type": "markdown",
   "id": "9bf38e8a",
   "metadata": {},
   "source": [
    "# 1.2. Préparation des jeux d'entrainement et de test"
   ]
  },
  {
   "cell_type": "raw",
   "id": "da4a46dc",
   "metadata": {},
   "source": [
    "Afin de tester notre meilleur modèle sur des données \"inconnues\", nous allons mettre de côté une partie des données initiales qui ne seront pas inclusent dans les modèles intermédiaires. Nous allons donc spliter nos données pour obtenir un jeu d'entrainement et un jeu de test (20% des données)"
   ]
  },
  {
   "cell_type": "code",
   "execution_count": 22,
   "id": "68833344",
   "metadata": {},
   "outputs": [
    {
     "name": "stdout",
     "output_type": "stream",
     "text": [
      "Entrainement: 1237 lignes,\n",
      "Test: 310 lignes.\n",
      "\n"
     ]
    }
   ],
   "source": [
    "from sklearn.model_selection import train_test_split\n",
    "\n",
    "X = data_filter.drop(['TotalGHGEmissions','SiteEnergyUse(kBtu)'], axis=1)\n",
    "Y = data_filter[['TotalGHGEmissions','SiteEnergyUse(kBtu)']]\n",
    "\n",
    "X_train, X_test, Y_train, Y_test = train_test_split(X, Y, test_size=0.2, random_state=42)\n",
    "\n",
    "print(\"Entrainement: {} lignes,\\nTest: {} lignes.\\n\".format(X_train.shape[0],\n",
    "                                                            X_test.shape[0]))"
   ]
  },
  {
   "cell_type": "raw",
   "id": "42d8c101",
   "metadata": {},
   "source": [
    "Concernant nos variables à prédire, nous allons regarder l'impact du passage à l'échelle logarithmique sur les distribution"
   ]
  },
  {
   "cell_type": "code",
   "execution_count": 23,
   "id": "41ebcb24",
   "metadata": {},
   "outputs": [
    {
     "data": {
      "image/png": "[encoded data removed]",
      "text/plain": [
       "<Figure size 1440x576 with 2 Axes>"
      ]
     },
     "metadata": {},
     "output_type": "display_data"
    }
   ],
   "source": [
    "from sklearn.preprocessing import FunctionTransformer\n",
    "\n",
    "logtransformer = FunctionTransformer(np.log, inverse_func = np.exp, check_inverse = True)\n",
    "Y_log = logtransformer.transform(Y)\n",
    "\n",
    "fig, axes = plt.subplots(nrows=1, ncols=2, sharex=False, sharey=False, figsize=(20,8))\n",
    "sns.histplot(data=Y, x='TotalGHGEmissions', stat=\"density\", ax=axes[0])\n",
    "axes[0].set_title(\"Données initiales\", color='#2cb7b0')\n",
    "sns.histplot(data=Y_log, x='TotalGHGEmissions', stat=\"density\", ax=axes[1])\n",
    "axes[1].set_title(\"Application du logarithme\", color='#2cb7b0')\n",
    "plt.suptitle(\"Distribution des emissions de CO2 avec changement d'échelle\", fontdict=font_title, fontsize=22)\n",
    "plt.show()"
   ]
  },
  {
   "cell_type": "raw",
   "id": "4c465673",
   "metadata": {},
   "source": [
    "En passant les données à l'échelle logarithmique, nous obtenons une distribution normale des données à prédire. Nous allons donc appliquer cette transformation dans notre pipeline grâce à la fonction TransformedTargetRegressor de la librairie Sklearn.\n",
    "\n",
    "La fonction inverse (exp) sera donc passée dans les prédictions."
   ]
  },
  {
   "cell_type": "markdown",
   "id": "99d34ba4",
   "metadata": {},
   "source": [
    "# 2. Modèle Baseline : Régression linéaire multivariée"
   ]
  },
  {
   "cell_type": "raw",
   "id": "dd67eba0",
   "metadata": {},
   "source": [
    "A présent, nous allons créer un modèle baseline pour évaluer les performances de nos futurs modèles et vérifier qu'ils améliore les prédictions. Pour cette baseline, nous utiliserons une régression linéaire multivariée"
   ]
  },
  {
   "cell_type": "code",
   "execution_count": 24,
   "id": "2f29b43b",
   "metadata": {},
   "outputs": [],
   "source": [
    "from sklearn.compose import TransformedTargetRegressor\n",
    "from sklearn.linear_model import LinearRegression\n",
    "from sklearn.pipeline import Pipeline\n",
    "from sklearn.model_selection import GridSearchCV\n",
    "from sklearn import set_config\n",
    "set_config(display='diagram')\n",
    "\n",
    "\n",
    "param_mlr = {\"regressor__fit_intercept\": [True, False],\n",
    "             \"regressor__normalize\": [True, False]}\n",
    "\n",
    "mlr_grid_cv = Pipeline([\n",
    "    ('preprocessor', preprocessor),\n",
    "    ('grid_search_mlr', GridSearchCV(\n",
    "                            TransformedTargetRegressor(\n",
    "                                regressor=LinearRegression(), \n",
    "                                func=np.log, \n",
    "                                inverse_func=np.exp),\n",
    "                            param_grid=param_mlr,\n",
    "                            cv=5,\n",
    "                            scoring=('r2','neg_mean_absolute_error'),\n",
    "                            return_train_score = True,\n",
    "                            refit='neg_mean_absolute_error',\n",
    "                            n_jobs = -1))])"
   ]
  },
  {
   "cell_type": "raw",
   "id": "d725e96f",
   "metadata": {},
   "source": [
    "Nous allons calculer 2 principales métriques pour évaluer nos modèles :\n",
    "\n",
    "MAE : Mean Absolute Error.\n",
    "R² : Coeficient de détermination, carré du coefiscient de corrélation linéaire"
   ]
  },
  {
   "cell_type": "code",
   "execution_count": 25,
   "id": "623bf509",
   "metadata": {},
   "outputs": [],
   "source": [
    "#Retour des meilleurs scores NMAE et R2\n",
    "#Stockage du dataframe de resultats du modèle\n",
    "def model_scores(pip,step):\n",
    "    df_results = pd.DataFrame.from_dict(pip.named_steps[step].cv_results_) \\\n",
    "                    .sort_values('rank_test_neg_mean_absolute_error')\n",
    "    best_nmae = pip.named_steps[step].best_score_\n",
    "    best_r2 = np.mean(df_results[df_results.rank_test_r2 == 1]['mean_test_r2'])\n",
    "    best_params = pip.named_steps[step].best_params_\n",
    "    training_time = round((np.mean(df_results.mean_fit_time)*X_train.shape[0]),2)\n",
    "    print(\"Meilleur score MAE : {}\\nMeilleur Score R2 : {}\\nMeilleurs paramètres : {}\\nTemps moyen d'entrainement : {}s\"\\\n",
    "         .format(round(best_nmae,3), round(best_r2,3), best_params, training_time))\n",
    "    return df_results"
   ]
  },
  {
   "cell_type": "raw",
   "id": "06adf559",
   "metadata": {},
   "source": [
    "On affiche les scores de la GridSearch avec validation croisée pour la variable TotalGHGEmissions :"
   ]
  },
  {
   "cell_type": "code",
   "execution_count": 26,
   "id": "10ee6a6a",
   "metadata": {},
   "outputs": [
    {
     "ename": "ValueError",
     "evalue": "Input contains NaN, infinity or a value too large for dtype('float64').",
     "output_type": "error",
     "traceback": [
      "\u001b[1;31m---------------------------------------------------------------------------\u001b[0m",
      "\u001b[1;31mValueError\u001b[0m                                Traceback (most recent call last)",
      "Input \u001b[1;32mIn [26]\u001b[0m, in \u001b[0;36m<cell line: 2>\u001b[1;34m()\u001b[0m\n\u001b[0;32m      1\u001b[0m \u001b[38;5;66;03m#Entrainement sur les 2 variables à expliquer :\u001b[39;00m\n\u001b[1;32m----> 2\u001b[0m GHG_mlr_model \u001b[38;5;241m=\u001b[39m \u001b[43mmlr_grid_cv\u001b[49m\u001b[38;5;241;43m.\u001b[39;49m\u001b[43mfit\u001b[49m\u001b[43m(\u001b[49m\u001b[43mX_train\u001b[49m\u001b[43m,\u001b[49m\u001b[43m \u001b[49m\u001b[43mY_train\u001b[49m\u001b[43m[\u001b[49m\u001b[38;5;124;43m'\u001b[39;49m\u001b[38;5;124;43mTotalGHGEmissions\u001b[39;49m\u001b[38;5;124;43m'\u001b[39;49m\u001b[43m]\u001b[49m\u001b[43m)\u001b[49m\n\u001b[0;32m      3\u001b[0m GHG_mlr_results \u001b[38;5;241m=\u001b[39m model_scores(GHG_mlr_model, \u001b[38;5;124m'\u001b[39m\u001b[38;5;124mgrid_search_mlr\u001b[39m\u001b[38;5;124m'\u001b[39m)\n",
      "File \u001b[1;32m~\\anaconda3\\lib\\site-packages\\sklearn\\pipeline.py:394\u001b[0m, in \u001b[0;36mPipeline.fit\u001b[1;34m(self, X, y, **fit_params)\u001b[0m\n\u001b[0;32m    392\u001b[0m     \u001b[38;5;28;01mif\u001b[39;00m \u001b[38;5;28mself\u001b[39m\u001b[38;5;241m.\u001b[39m_final_estimator \u001b[38;5;241m!=\u001b[39m \u001b[38;5;124m\"\u001b[39m\u001b[38;5;124mpassthrough\u001b[39m\u001b[38;5;124m\"\u001b[39m:\n\u001b[0;32m    393\u001b[0m         fit_params_last_step \u001b[38;5;241m=\u001b[39m fit_params_steps[\u001b[38;5;28mself\u001b[39m\u001b[38;5;241m.\u001b[39msteps[\u001b[38;5;241m-\u001b[39m\u001b[38;5;241m1\u001b[39m][\u001b[38;5;241m0\u001b[39m]]\n\u001b[1;32m--> 394\u001b[0m         \u001b[38;5;28mself\u001b[39m\u001b[38;5;241m.\u001b[39m_final_estimator\u001b[38;5;241m.\u001b[39mfit(Xt, y, \u001b[38;5;241m*\u001b[39m\u001b[38;5;241m*\u001b[39mfit_params_last_step)\n\u001b[0;32m    396\u001b[0m \u001b[38;5;28;01mreturn\u001b[39;00m \u001b[38;5;28mself\u001b[39m\n",
      "File \u001b[1;32m~\\anaconda3\\lib\\site-packages\\sklearn\\model_selection\\_search.py:926\u001b[0m, in \u001b[0;36mBaseSearchCV.fit\u001b[1;34m(self, X, y, groups, **fit_params)\u001b[0m\n\u001b[0;32m    924\u001b[0m refit_start_time \u001b[38;5;241m=\u001b[39m time\u001b[38;5;241m.\u001b[39mtime()\n\u001b[0;32m    925\u001b[0m \u001b[38;5;28;01mif\u001b[39;00m y \u001b[38;5;129;01mis\u001b[39;00m \u001b[38;5;129;01mnot\u001b[39;00m \u001b[38;5;28;01mNone\u001b[39;00m:\n\u001b[1;32m--> 926\u001b[0m     \u001b[38;5;28mself\u001b[39m\u001b[38;5;241m.\u001b[39mbest_estimator_\u001b[38;5;241m.\u001b[39mfit(X, y, \u001b[38;5;241m*\u001b[39m\u001b[38;5;241m*\u001b[39mfit_params)\n\u001b[0;32m    927\u001b[0m \u001b[38;5;28;01melse\u001b[39;00m:\n\u001b[0;32m    928\u001b[0m     \u001b[38;5;28mself\u001b[39m\u001b[38;5;241m.\u001b[39mbest_estimator_\u001b[38;5;241m.\u001b[39mfit(X, \u001b[38;5;241m*\u001b[39m\u001b[38;5;241m*\u001b[39mfit_params)\n",
      "File \u001b[1;32m~\\anaconda3\\lib\\site-packages\\sklearn\\compose\\_target.py:246\u001b[0m, in \u001b[0;36mTransformedTargetRegressor.fit\u001b[1;34m(self, X, y, **fit_params)\u001b[0m\n\u001b[0;32m    243\u001b[0m \u001b[38;5;28;01melse\u001b[39;00m:\n\u001b[0;32m    244\u001b[0m     \u001b[38;5;28mself\u001b[39m\u001b[38;5;241m.\u001b[39mregressor_ \u001b[38;5;241m=\u001b[39m clone(\u001b[38;5;28mself\u001b[39m\u001b[38;5;241m.\u001b[39mregressor)\n\u001b[1;32m--> 246\u001b[0m \u001b[38;5;28mself\u001b[39m\u001b[38;5;241m.\u001b[39mregressor_\u001b[38;5;241m.\u001b[39mfit(X, y_trans, \u001b[38;5;241m*\u001b[39m\u001b[38;5;241m*\u001b[39mfit_params)\n\u001b[0;32m    248\u001b[0m \u001b[38;5;28;01mif\u001b[39;00m \u001b[38;5;28mhasattr\u001b[39m(\u001b[38;5;28mself\u001b[39m\u001b[38;5;241m.\u001b[39mregressor_, \u001b[38;5;124m\"\u001b[39m\u001b[38;5;124mfeature_names_in_\u001b[39m\u001b[38;5;124m\"\u001b[39m):\n\u001b[0;32m    249\u001b[0m     \u001b[38;5;28mself\u001b[39m\u001b[38;5;241m.\u001b[39mfeature_names_in_ \u001b[38;5;241m=\u001b[39m \u001b[38;5;28mself\u001b[39m\u001b[38;5;241m.\u001b[39mregressor_\u001b[38;5;241m.\u001b[39mfeature_names_in_\n",
      "File \u001b[1;32m~\\anaconda3\\lib\\site-packages\\sklearn\\linear_model\\_base.py:662\u001b[0m, in \u001b[0;36mLinearRegression.fit\u001b[1;34m(self, X, y, sample_weight)\u001b[0m\n\u001b[0;32m    658\u001b[0m n_jobs_ \u001b[38;5;241m=\u001b[39m \u001b[38;5;28mself\u001b[39m\u001b[38;5;241m.\u001b[39mn_jobs\n\u001b[0;32m    660\u001b[0m accept_sparse \u001b[38;5;241m=\u001b[39m \u001b[38;5;28;01mFalse\u001b[39;00m \u001b[38;5;28;01mif\u001b[39;00m \u001b[38;5;28mself\u001b[39m\u001b[38;5;241m.\u001b[39mpositive \u001b[38;5;28;01melse\u001b[39;00m [\u001b[38;5;124m\"\u001b[39m\u001b[38;5;124mcsr\u001b[39m\u001b[38;5;124m\"\u001b[39m, \u001b[38;5;124m\"\u001b[39m\u001b[38;5;124mcsc\u001b[39m\u001b[38;5;124m\"\u001b[39m, \u001b[38;5;124m\"\u001b[39m\u001b[38;5;124mcoo\u001b[39m\u001b[38;5;124m\"\u001b[39m]\n\u001b[1;32m--> 662\u001b[0m X, y \u001b[38;5;241m=\u001b[39m \u001b[38;5;28;43mself\u001b[39;49m\u001b[38;5;241;43m.\u001b[39;49m\u001b[43m_validate_data\u001b[49m\u001b[43m(\u001b[49m\n\u001b[0;32m    663\u001b[0m \u001b[43m    \u001b[49m\u001b[43mX\u001b[49m\u001b[43m,\u001b[49m\u001b[43m \u001b[49m\u001b[43my\u001b[49m\u001b[43m,\u001b[49m\u001b[43m \u001b[49m\u001b[43maccept_sparse\u001b[49m\u001b[38;5;241;43m=\u001b[39;49m\u001b[43maccept_sparse\u001b[49m\u001b[43m,\u001b[49m\u001b[43m \u001b[49m\u001b[43my_numeric\u001b[49m\u001b[38;5;241;43m=\u001b[39;49m\u001b[38;5;28;43;01mTrue\u001b[39;49;00m\u001b[43m,\u001b[49m\u001b[43m \u001b[49m\u001b[43mmulti_output\u001b[49m\u001b[38;5;241;43m=\u001b[39;49m\u001b[38;5;28;43;01mTrue\u001b[39;49;00m\n\u001b[0;32m    664\u001b[0m \u001b[43m\u001b[49m\u001b[43m)\u001b[49m\n\u001b[0;32m    666\u001b[0m \u001b[38;5;28;01mif\u001b[39;00m sample_weight \u001b[38;5;129;01mis\u001b[39;00m \u001b[38;5;129;01mnot\u001b[39;00m \u001b[38;5;28;01mNone\u001b[39;00m:\n\u001b[0;32m    667\u001b[0m     sample_weight \u001b[38;5;241m=\u001b[39m _check_sample_weight(sample_weight, X, dtype\u001b[38;5;241m=\u001b[39mX\u001b[38;5;241m.\u001b[39mdtype)\n",
      "File \u001b[1;32m~\\anaconda3\\lib\\site-packages\\sklearn\\base.py:581\u001b[0m, in \u001b[0;36mBaseEstimator._validate_data\u001b[1;34m(self, X, y, reset, validate_separately, **check_params)\u001b[0m\n\u001b[0;32m    579\u001b[0m         y \u001b[38;5;241m=\u001b[39m check_array(y, \u001b[38;5;241m*\u001b[39m\u001b[38;5;241m*\u001b[39mcheck_y_params)\n\u001b[0;32m    580\u001b[0m     \u001b[38;5;28;01melse\u001b[39;00m:\n\u001b[1;32m--> 581\u001b[0m         X, y \u001b[38;5;241m=\u001b[39m check_X_y(X, y, \u001b[38;5;241m*\u001b[39m\u001b[38;5;241m*\u001b[39mcheck_params)\n\u001b[0;32m    582\u001b[0m     out \u001b[38;5;241m=\u001b[39m X, y\n\u001b[0;32m    584\u001b[0m \u001b[38;5;28;01mif\u001b[39;00m \u001b[38;5;129;01mnot\u001b[39;00m no_val_X \u001b[38;5;129;01mand\u001b[39;00m check_params\u001b[38;5;241m.\u001b[39mget(\u001b[38;5;124m\"\u001b[39m\u001b[38;5;124mensure_2d\u001b[39m\u001b[38;5;124m\"\u001b[39m, \u001b[38;5;28;01mTrue\u001b[39;00m):\n",
      "File \u001b[1;32m~\\anaconda3\\lib\\site-packages\\sklearn\\utils\\validation.py:979\u001b[0m, in \u001b[0;36mcheck_X_y\u001b[1;34m(X, y, accept_sparse, accept_large_sparse, dtype, order, copy, force_all_finite, ensure_2d, allow_nd, multi_output, ensure_min_samples, ensure_min_features, y_numeric, estimator)\u001b[0m\n\u001b[0;32m    962\u001b[0m     \u001b[38;5;28;01mraise\u001b[39;00m \u001b[38;5;167;01mValueError\u001b[39;00m(\u001b[38;5;124m\"\u001b[39m\u001b[38;5;124my cannot be None\u001b[39m\u001b[38;5;124m\"\u001b[39m)\n\u001b[0;32m    964\u001b[0m X \u001b[38;5;241m=\u001b[39m check_array(\n\u001b[0;32m    965\u001b[0m     X,\n\u001b[0;32m    966\u001b[0m     accept_sparse\u001b[38;5;241m=\u001b[39maccept_sparse,\n\u001b[1;32m   (...)\u001b[0m\n\u001b[0;32m    976\u001b[0m     estimator\u001b[38;5;241m=\u001b[39mestimator,\n\u001b[0;32m    977\u001b[0m )\n\u001b[1;32m--> 979\u001b[0m y \u001b[38;5;241m=\u001b[39m \u001b[43m_check_y\u001b[49m\u001b[43m(\u001b[49m\u001b[43my\u001b[49m\u001b[43m,\u001b[49m\u001b[43m \u001b[49m\u001b[43mmulti_output\u001b[49m\u001b[38;5;241;43m=\u001b[39;49m\u001b[43mmulti_output\u001b[49m\u001b[43m,\u001b[49m\u001b[43m \u001b[49m\u001b[43my_numeric\u001b[49m\u001b[38;5;241;43m=\u001b[39;49m\u001b[43my_numeric\u001b[49m\u001b[43m)\u001b[49m\n\u001b[0;32m    981\u001b[0m check_consistent_length(X, y)\n\u001b[0;32m    983\u001b[0m \u001b[38;5;28;01mreturn\u001b[39;00m X, y\n",
      "File \u001b[1;32m~\\anaconda3\\lib\\site-packages\\sklearn\\utils\\validation.py:989\u001b[0m, in \u001b[0;36m_check_y\u001b[1;34m(y, multi_output, y_numeric)\u001b[0m\n\u001b[0;32m    987\u001b[0m \u001b[38;5;124;03m\"\"\"Isolated part of check_X_y dedicated to y validation\"\"\"\u001b[39;00m\n\u001b[0;32m    988\u001b[0m \u001b[38;5;28;01mif\u001b[39;00m multi_output:\n\u001b[1;32m--> 989\u001b[0m     y \u001b[38;5;241m=\u001b[39m \u001b[43mcheck_array\u001b[49m\u001b[43m(\u001b[49m\n\u001b[0;32m    990\u001b[0m \u001b[43m        \u001b[49m\u001b[43my\u001b[49m\u001b[43m,\u001b[49m\u001b[43m \u001b[49m\u001b[43maccept_sparse\u001b[49m\u001b[38;5;241;43m=\u001b[39;49m\u001b[38;5;124;43m\"\u001b[39;49m\u001b[38;5;124;43mcsr\u001b[39;49m\u001b[38;5;124;43m\"\u001b[39;49m\u001b[43m,\u001b[49m\u001b[43m \u001b[49m\u001b[43mforce_all_finite\u001b[49m\u001b[38;5;241;43m=\u001b[39;49m\u001b[38;5;28;43;01mTrue\u001b[39;49;00m\u001b[43m,\u001b[49m\u001b[43m \u001b[49m\u001b[43mensure_2d\u001b[49m\u001b[38;5;241;43m=\u001b[39;49m\u001b[38;5;28;43;01mFalse\u001b[39;49;00m\u001b[43m,\u001b[49m\u001b[43m \u001b[49m\u001b[43mdtype\u001b[49m\u001b[38;5;241;43m=\u001b[39;49m\u001b[38;5;28;43;01mNone\u001b[39;49;00m\n\u001b[0;32m    991\u001b[0m \u001b[43m    \u001b[49m\u001b[43m)\u001b[49m\n\u001b[0;32m    992\u001b[0m \u001b[38;5;28;01melse\u001b[39;00m:\n\u001b[0;32m    993\u001b[0m     y \u001b[38;5;241m=\u001b[39m column_or_1d(y, warn\u001b[38;5;241m=\u001b[39m\u001b[38;5;28;01mTrue\u001b[39;00m)\n",
      "File \u001b[1;32m~\\anaconda3\\lib\\site-packages\\sklearn\\utils\\validation.py:800\u001b[0m, in \u001b[0;36mcheck_array\u001b[1;34m(array, accept_sparse, accept_large_sparse, dtype, order, copy, force_all_finite, ensure_2d, allow_nd, ensure_min_samples, ensure_min_features, estimator)\u001b[0m\n\u001b[0;32m    794\u001b[0m         \u001b[38;5;28;01mraise\u001b[39;00m \u001b[38;5;167;01mValueError\u001b[39;00m(\n\u001b[0;32m    795\u001b[0m             \u001b[38;5;124m\"\u001b[39m\u001b[38;5;124mFound array with dim \u001b[39m\u001b[38;5;132;01m%d\u001b[39;00m\u001b[38;5;124m. \u001b[39m\u001b[38;5;132;01m%s\u001b[39;00m\u001b[38;5;124m expected <= 2.\u001b[39m\u001b[38;5;124m\"\u001b[39m\n\u001b[0;32m    796\u001b[0m             \u001b[38;5;241m%\u001b[39m (array\u001b[38;5;241m.\u001b[39mndim, estimator_name)\n\u001b[0;32m    797\u001b[0m         )\n\u001b[0;32m    799\u001b[0m     \u001b[38;5;28;01mif\u001b[39;00m force_all_finite:\n\u001b[1;32m--> 800\u001b[0m         \u001b[43m_assert_all_finite\u001b[49m\u001b[43m(\u001b[49m\u001b[43marray\u001b[49m\u001b[43m,\u001b[49m\u001b[43m \u001b[49m\u001b[43mallow_nan\u001b[49m\u001b[38;5;241;43m=\u001b[39;49m\u001b[43mforce_all_finite\u001b[49m\u001b[43m \u001b[49m\u001b[38;5;241;43m==\u001b[39;49m\u001b[43m \u001b[49m\u001b[38;5;124;43m\"\u001b[39;49m\u001b[38;5;124;43mallow-nan\u001b[39;49m\u001b[38;5;124;43m\"\u001b[39;49m\u001b[43m)\u001b[49m\n\u001b[0;32m    802\u001b[0m \u001b[38;5;28;01mif\u001b[39;00m ensure_min_samples \u001b[38;5;241m>\u001b[39m \u001b[38;5;241m0\u001b[39m:\n\u001b[0;32m    803\u001b[0m     n_samples \u001b[38;5;241m=\u001b[39m _num_samples(array)\n",
      "File \u001b[1;32m~\\anaconda3\\lib\\site-packages\\sklearn\\utils\\validation.py:114\u001b[0m, in \u001b[0;36m_assert_all_finite\u001b[1;34m(X, allow_nan, msg_dtype)\u001b[0m\n\u001b[0;32m    107\u001b[0m     \u001b[38;5;28;01mif\u001b[39;00m (\n\u001b[0;32m    108\u001b[0m         allow_nan\n\u001b[0;32m    109\u001b[0m         \u001b[38;5;129;01mand\u001b[39;00m np\u001b[38;5;241m.\u001b[39misinf(X)\u001b[38;5;241m.\u001b[39many()\n\u001b[0;32m    110\u001b[0m         \u001b[38;5;129;01mor\u001b[39;00m \u001b[38;5;129;01mnot\u001b[39;00m allow_nan\n\u001b[0;32m    111\u001b[0m         \u001b[38;5;129;01mand\u001b[39;00m \u001b[38;5;129;01mnot\u001b[39;00m np\u001b[38;5;241m.\u001b[39misfinite(X)\u001b[38;5;241m.\u001b[39mall()\n\u001b[0;32m    112\u001b[0m     ):\n\u001b[0;32m    113\u001b[0m         type_err \u001b[38;5;241m=\u001b[39m \u001b[38;5;124m\"\u001b[39m\u001b[38;5;124minfinity\u001b[39m\u001b[38;5;124m\"\u001b[39m \u001b[38;5;28;01mif\u001b[39;00m allow_nan \u001b[38;5;28;01melse\u001b[39;00m \u001b[38;5;124m\"\u001b[39m\u001b[38;5;124mNaN, infinity\u001b[39m\u001b[38;5;124m\"\u001b[39m\n\u001b[1;32m--> 114\u001b[0m         \u001b[38;5;28;01mraise\u001b[39;00m \u001b[38;5;167;01mValueError\u001b[39;00m(\n\u001b[0;32m    115\u001b[0m             msg_err\u001b[38;5;241m.\u001b[39mformat(\n\u001b[0;32m    116\u001b[0m                 type_err, msg_dtype \u001b[38;5;28;01mif\u001b[39;00m msg_dtype \u001b[38;5;129;01mis\u001b[39;00m \u001b[38;5;129;01mnot\u001b[39;00m \u001b[38;5;28;01mNone\u001b[39;00m \u001b[38;5;28;01melse\u001b[39;00m X\u001b[38;5;241m.\u001b[39mdtype\n\u001b[0;32m    117\u001b[0m             )\n\u001b[0;32m    118\u001b[0m         )\n\u001b[0;32m    119\u001b[0m \u001b[38;5;66;03m# for object dtype data, we only check for NaNs (GH-13254)\u001b[39;00m\n\u001b[0;32m    120\u001b[0m \u001b[38;5;28;01melif\u001b[39;00m X\u001b[38;5;241m.\u001b[39mdtype \u001b[38;5;241m==\u001b[39m np\u001b[38;5;241m.\u001b[39mdtype(\u001b[38;5;124m\"\u001b[39m\u001b[38;5;124mobject\u001b[39m\u001b[38;5;124m\"\u001b[39m) \u001b[38;5;129;01mand\u001b[39;00m \u001b[38;5;129;01mnot\u001b[39;00m allow_nan:\n",
      "\u001b[1;31mValueError\u001b[0m: Input contains NaN, infinity or a value too large for dtype('float64')."
     ]
    }
   ],
   "source": [
    "#Entrainement sur les 2 variables à expliquer :\n",
    "GHG_mlr_model = mlr_grid_cv.fit(X_train, Y_train['TotalGHGEmissions'])\n",
    "GHG_mlr_results = model_scores(GHG_mlr_model, 'grid_search_mlr')"
   ]
  },
  {
   "cell_type": "code",
   "execution_count": 27,
   "id": "a1e5bbe9",
   "metadata": {},
   "outputs": [
    {
     "name": "stdout",
     "output_type": "stream",
     "text": [
      "Meilleur score MAE : -12332521.732\n",
      "Meilleur Score R2 : -27.752\n",
      "Meilleurs paramètres : {'regressor__fit_intercept': True, 'regressor__normalize': True}\n",
      "Temps moyen d'entrainement : 24.62s\n"
     ]
    }
   ],
   "source": [
    "SEU_mlr_model = mlr_grid_cv.fit(X_train, Y_train['SiteEnergyUse(kBtu)'])\n",
    "SEU_mlr_results = model_scores(SEU_mlr_model, 'grid_search_mlr')"
   ]
  },
  {
   "cell_type": "code",
   "execution_count": 28,
   "id": "e1dbb428",
   "metadata": {},
   "outputs": [],
   "source": [
    "from sklearn.ensemble import RandomForestRegressor\n",
    "\n",
    "param_rfr = {'regressor__max_features' : ['sqrt', 'log2'],\n",
    "             'regressor__max_depth': [5, 15, 25, 50],\n",
    "             'regressor__min_samples_split': [2, 5, 10],\n",
    "             'regressor__bootstrap' : [True, False],\n",
    "             'regressor__min_samples_leaf': [1,2,5,10]}\n",
    "\n",
    "rfr_grid_cv = Pipeline([\n",
    "    ('preprocessor', preprocessor),\n",
    "    ('grid_search_rfr', GridSearchCV(\n",
    "                            TransformedTargetRegressor(\n",
    "                                regressor=RandomForestRegressor(), \n",
    "                                func=np.log, \n",
    "                                inverse_func=np.exp),\n",
    "                            param_grid=param_rfr,\n",
    "                            cv=5,\n",
    "                            scoring=('r2','neg_mean_absolute_error'),\n",
    "                            refit='neg_mean_absolute_error',\n",
    "                            return_train_score = True,\n",
    "                            n_jobs = -1))])"
   ]
  },
  {
   "cell_type": "code",
   "execution_count": 29,
   "id": "b4579fa0",
   "metadata": {},
   "outputs": [
    {
     "ename": "ValueError",
     "evalue": "Input contains NaN, infinity or a value too large for dtype('float64').",
     "output_type": "error",
     "traceback": [
      "\u001b[1;31m---------------------------------------------------------------------------\u001b[0m",
      "\u001b[1;31mValueError\u001b[0m                                Traceback (most recent call last)",
      "Input \u001b[1;32mIn [29]\u001b[0m, in \u001b[0;36m<cell line: 1>\u001b[1;34m()\u001b[0m\n\u001b[1;32m----> 1\u001b[0m GHG_rfr_model \u001b[38;5;241m=\u001b[39m \u001b[43mrfr_grid_cv\u001b[49m\u001b[38;5;241;43m.\u001b[39;49m\u001b[43mfit\u001b[49m\u001b[43m(\u001b[49m\u001b[43mX_train\u001b[49m\u001b[43m,\u001b[49m\u001b[43m \u001b[49m\u001b[43mY_train\u001b[49m\u001b[43m[\u001b[49m\u001b[38;5;124;43m'\u001b[39;49m\u001b[38;5;124;43mTotalGHGEmissions\u001b[39;49m\u001b[38;5;124;43m'\u001b[39;49m\u001b[43m]\u001b[49m\u001b[43m)\u001b[49m\n\u001b[0;32m      2\u001b[0m GHG_rfr_results \u001b[38;5;241m=\u001b[39m model_scores(GHG_rfr_model, \u001b[38;5;124m'\u001b[39m\u001b[38;5;124mgrid_search_rfr\u001b[39m\u001b[38;5;124m'\u001b[39m)\n",
      "File \u001b[1;32m~\\anaconda3\\lib\\site-packages\\sklearn\\pipeline.py:394\u001b[0m, in \u001b[0;36mPipeline.fit\u001b[1;34m(self, X, y, **fit_params)\u001b[0m\n\u001b[0;32m    392\u001b[0m     \u001b[38;5;28;01mif\u001b[39;00m \u001b[38;5;28mself\u001b[39m\u001b[38;5;241m.\u001b[39m_final_estimator \u001b[38;5;241m!=\u001b[39m \u001b[38;5;124m\"\u001b[39m\u001b[38;5;124mpassthrough\u001b[39m\u001b[38;5;124m\"\u001b[39m:\n\u001b[0;32m    393\u001b[0m         fit_params_last_step \u001b[38;5;241m=\u001b[39m fit_params_steps[\u001b[38;5;28mself\u001b[39m\u001b[38;5;241m.\u001b[39msteps[\u001b[38;5;241m-\u001b[39m\u001b[38;5;241m1\u001b[39m][\u001b[38;5;241m0\u001b[39m]]\n\u001b[1;32m--> 394\u001b[0m         \u001b[38;5;28mself\u001b[39m\u001b[38;5;241m.\u001b[39m_final_estimator\u001b[38;5;241m.\u001b[39mfit(Xt, y, \u001b[38;5;241m*\u001b[39m\u001b[38;5;241m*\u001b[39mfit_params_last_step)\n\u001b[0;32m    396\u001b[0m \u001b[38;5;28;01mreturn\u001b[39;00m \u001b[38;5;28mself\u001b[39m\n",
      "File \u001b[1;32m~\\anaconda3\\lib\\site-packages\\sklearn\\model_selection\\_search.py:926\u001b[0m, in \u001b[0;36mBaseSearchCV.fit\u001b[1;34m(self, X, y, groups, **fit_params)\u001b[0m\n\u001b[0;32m    924\u001b[0m refit_start_time \u001b[38;5;241m=\u001b[39m time\u001b[38;5;241m.\u001b[39mtime()\n\u001b[0;32m    925\u001b[0m \u001b[38;5;28;01mif\u001b[39;00m y \u001b[38;5;129;01mis\u001b[39;00m \u001b[38;5;129;01mnot\u001b[39;00m \u001b[38;5;28;01mNone\u001b[39;00m:\n\u001b[1;32m--> 926\u001b[0m     \u001b[38;5;28mself\u001b[39m\u001b[38;5;241m.\u001b[39mbest_estimator_\u001b[38;5;241m.\u001b[39mfit(X, y, \u001b[38;5;241m*\u001b[39m\u001b[38;5;241m*\u001b[39mfit_params)\n\u001b[0;32m    927\u001b[0m \u001b[38;5;28;01melse\u001b[39;00m:\n\u001b[0;32m    928\u001b[0m     \u001b[38;5;28mself\u001b[39m\u001b[38;5;241m.\u001b[39mbest_estimator_\u001b[38;5;241m.\u001b[39mfit(X, \u001b[38;5;241m*\u001b[39m\u001b[38;5;241m*\u001b[39mfit_params)\n",
      "File \u001b[1;32m~\\anaconda3\\lib\\site-packages\\sklearn\\compose\\_target.py:246\u001b[0m, in \u001b[0;36mTransformedTargetRegressor.fit\u001b[1;34m(self, X, y, **fit_params)\u001b[0m\n\u001b[0;32m    243\u001b[0m \u001b[38;5;28;01melse\u001b[39;00m:\n\u001b[0;32m    244\u001b[0m     \u001b[38;5;28mself\u001b[39m\u001b[38;5;241m.\u001b[39mregressor_ \u001b[38;5;241m=\u001b[39m clone(\u001b[38;5;28mself\u001b[39m\u001b[38;5;241m.\u001b[39mregressor)\n\u001b[1;32m--> 246\u001b[0m \u001b[38;5;28mself\u001b[39m\u001b[38;5;241m.\u001b[39mregressor_\u001b[38;5;241m.\u001b[39mfit(X, y_trans, \u001b[38;5;241m*\u001b[39m\u001b[38;5;241m*\u001b[39mfit_params)\n\u001b[0;32m    248\u001b[0m \u001b[38;5;28;01mif\u001b[39;00m \u001b[38;5;28mhasattr\u001b[39m(\u001b[38;5;28mself\u001b[39m\u001b[38;5;241m.\u001b[39mregressor_, \u001b[38;5;124m\"\u001b[39m\u001b[38;5;124mfeature_names_in_\u001b[39m\u001b[38;5;124m\"\u001b[39m):\n\u001b[0;32m    249\u001b[0m     \u001b[38;5;28mself\u001b[39m\u001b[38;5;241m.\u001b[39mfeature_names_in_ \u001b[38;5;241m=\u001b[39m \u001b[38;5;28mself\u001b[39m\u001b[38;5;241m.\u001b[39mregressor_\u001b[38;5;241m.\u001b[39mfeature_names_in_\n",
      "File \u001b[1;32m~\\anaconda3\\lib\\site-packages\\sklearn\\ensemble\\_forest.py:327\u001b[0m, in \u001b[0;36mBaseForest.fit\u001b[1;34m(self, X, y, sample_weight)\u001b[0m\n\u001b[0;32m    325\u001b[0m \u001b[38;5;28;01mif\u001b[39;00m issparse(y):\n\u001b[0;32m    326\u001b[0m     \u001b[38;5;28;01mraise\u001b[39;00m \u001b[38;5;167;01mValueError\u001b[39;00m(\u001b[38;5;124m\"\u001b[39m\u001b[38;5;124msparse multilabel-indicator for y is not supported.\u001b[39m\u001b[38;5;124m\"\u001b[39m)\n\u001b[1;32m--> 327\u001b[0m X, y \u001b[38;5;241m=\u001b[39m \u001b[38;5;28;43mself\u001b[39;49m\u001b[38;5;241;43m.\u001b[39;49m\u001b[43m_validate_data\u001b[49m\u001b[43m(\u001b[49m\n\u001b[0;32m    328\u001b[0m \u001b[43m    \u001b[49m\u001b[43mX\u001b[49m\u001b[43m,\u001b[49m\u001b[43m \u001b[49m\u001b[43my\u001b[49m\u001b[43m,\u001b[49m\u001b[43m \u001b[49m\u001b[43mmulti_output\u001b[49m\u001b[38;5;241;43m=\u001b[39;49m\u001b[38;5;28;43;01mTrue\u001b[39;49;00m\u001b[43m,\u001b[49m\u001b[43m \u001b[49m\u001b[43maccept_sparse\u001b[49m\u001b[38;5;241;43m=\u001b[39;49m\u001b[38;5;124;43m\"\u001b[39;49m\u001b[38;5;124;43mcsc\u001b[39;49m\u001b[38;5;124;43m\"\u001b[39;49m\u001b[43m,\u001b[49m\u001b[43m \u001b[49m\u001b[43mdtype\u001b[49m\u001b[38;5;241;43m=\u001b[39;49m\u001b[43mDTYPE\u001b[49m\n\u001b[0;32m    329\u001b[0m \u001b[43m\u001b[49m\u001b[43m)\u001b[49m\n\u001b[0;32m    330\u001b[0m \u001b[38;5;28;01mif\u001b[39;00m sample_weight \u001b[38;5;129;01mis\u001b[39;00m \u001b[38;5;129;01mnot\u001b[39;00m \u001b[38;5;28;01mNone\u001b[39;00m:\n\u001b[0;32m    331\u001b[0m     sample_weight \u001b[38;5;241m=\u001b[39m _check_sample_weight(sample_weight, X)\n",
      "File \u001b[1;32m~\\anaconda3\\lib\\site-packages\\sklearn\\base.py:581\u001b[0m, in \u001b[0;36mBaseEstimator._validate_data\u001b[1;34m(self, X, y, reset, validate_separately, **check_params)\u001b[0m\n\u001b[0;32m    579\u001b[0m         y \u001b[38;5;241m=\u001b[39m check_array(y, \u001b[38;5;241m*\u001b[39m\u001b[38;5;241m*\u001b[39mcheck_y_params)\n\u001b[0;32m    580\u001b[0m     \u001b[38;5;28;01melse\u001b[39;00m:\n\u001b[1;32m--> 581\u001b[0m         X, y \u001b[38;5;241m=\u001b[39m check_X_y(X, y, \u001b[38;5;241m*\u001b[39m\u001b[38;5;241m*\u001b[39mcheck_params)\n\u001b[0;32m    582\u001b[0m     out \u001b[38;5;241m=\u001b[39m X, y\n\u001b[0;32m    584\u001b[0m \u001b[38;5;28;01mif\u001b[39;00m \u001b[38;5;129;01mnot\u001b[39;00m no_val_X \u001b[38;5;129;01mand\u001b[39;00m check_params\u001b[38;5;241m.\u001b[39mget(\u001b[38;5;124m\"\u001b[39m\u001b[38;5;124mensure_2d\u001b[39m\u001b[38;5;124m\"\u001b[39m, \u001b[38;5;28;01mTrue\u001b[39;00m):\n",
      "File \u001b[1;32m~\\anaconda3\\lib\\site-packages\\sklearn\\utils\\validation.py:979\u001b[0m, in \u001b[0;36mcheck_X_y\u001b[1;34m(X, y, accept_sparse, accept_large_sparse, dtype, order, copy, force_all_finite, ensure_2d, allow_nd, multi_output, ensure_min_samples, ensure_min_features, y_numeric, estimator)\u001b[0m\n\u001b[0;32m    962\u001b[0m     \u001b[38;5;28;01mraise\u001b[39;00m \u001b[38;5;167;01mValueError\u001b[39;00m(\u001b[38;5;124m\"\u001b[39m\u001b[38;5;124my cannot be None\u001b[39m\u001b[38;5;124m\"\u001b[39m)\n\u001b[0;32m    964\u001b[0m X \u001b[38;5;241m=\u001b[39m check_array(\n\u001b[0;32m    965\u001b[0m     X,\n\u001b[0;32m    966\u001b[0m     accept_sparse\u001b[38;5;241m=\u001b[39maccept_sparse,\n\u001b[1;32m   (...)\u001b[0m\n\u001b[0;32m    976\u001b[0m     estimator\u001b[38;5;241m=\u001b[39mestimator,\n\u001b[0;32m    977\u001b[0m )\n\u001b[1;32m--> 979\u001b[0m y \u001b[38;5;241m=\u001b[39m \u001b[43m_check_y\u001b[49m\u001b[43m(\u001b[49m\u001b[43my\u001b[49m\u001b[43m,\u001b[49m\u001b[43m \u001b[49m\u001b[43mmulti_output\u001b[49m\u001b[38;5;241;43m=\u001b[39;49m\u001b[43mmulti_output\u001b[49m\u001b[43m,\u001b[49m\u001b[43m \u001b[49m\u001b[43my_numeric\u001b[49m\u001b[38;5;241;43m=\u001b[39;49m\u001b[43my_numeric\u001b[49m\u001b[43m)\u001b[49m\n\u001b[0;32m    981\u001b[0m check_consistent_length(X, y)\n\u001b[0;32m    983\u001b[0m \u001b[38;5;28;01mreturn\u001b[39;00m X, y\n",
      "File \u001b[1;32m~\\anaconda3\\lib\\site-packages\\sklearn\\utils\\validation.py:989\u001b[0m, in \u001b[0;36m_check_y\u001b[1;34m(y, multi_output, y_numeric)\u001b[0m\n\u001b[0;32m    987\u001b[0m \u001b[38;5;124;03m\"\"\"Isolated part of check_X_y dedicated to y validation\"\"\"\u001b[39;00m\n\u001b[0;32m    988\u001b[0m \u001b[38;5;28;01mif\u001b[39;00m multi_output:\n\u001b[1;32m--> 989\u001b[0m     y \u001b[38;5;241m=\u001b[39m \u001b[43mcheck_array\u001b[49m\u001b[43m(\u001b[49m\n\u001b[0;32m    990\u001b[0m \u001b[43m        \u001b[49m\u001b[43my\u001b[49m\u001b[43m,\u001b[49m\u001b[43m \u001b[49m\u001b[43maccept_sparse\u001b[49m\u001b[38;5;241;43m=\u001b[39;49m\u001b[38;5;124;43m\"\u001b[39;49m\u001b[38;5;124;43mcsr\u001b[39;49m\u001b[38;5;124;43m\"\u001b[39;49m\u001b[43m,\u001b[49m\u001b[43m \u001b[49m\u001b[43mforce_all_finite\u001b[49m\u001b[38;5;241;43m=\u001b[39;49m\u001b[38;5;28;43;01mTrue\u001b[39;49;00m\u001b[43m,\u001b[49m\u001b[43m \u001b[49m\u001b[43mensure_2d\u001b[49m\u001b[38;5;241;43m=\u001b[39;49m\u001b[38;5;28;43;01mFalse\u001b[39;49;00m\u001b[43m,\u001b[49m\u001b[43m \u001b[49m\u001b[43mdtype\u001b[49m\u001b[38;5;241;43m=\u001b[39;49m\u001b[38;5;28;43;01mNone\u001b[39;49;00m\n\u001b[0;32m    991\u001b[0m \u001b[43m    \u001b[49m\u001b[43m)\u001b[49m\n\u001b[0;32m    992\u001b[0m \u001b[38;5;28;01melse\u001b[39;00m:\n\u001b[0;32m    993\u001b[0m     y \u001b[38;5;241m=\u001b[39m column_or_1d(y, warn\u001b[38;5;241m=\u001b[39m\u001b[38;5;28;01mTrue\u001b[39;00m)\n",
      "File \u001b[1;32m~\\anaconda3\\lib\\site-packages\\sklearn\\utils\\validation.py:800\u001b[0m, in \u001b[0;36mcheck_array\u001b[1;34m(array, accept_sparse, accept_large_sparse, dtype, order, copy, force_all_finite, ensure_2d, allow_nd, ensure_min_samples, ensure_min_features, estimator)\u001b[0m\n\u001b[0;32m    794\u001b[0m         \u001b[38;5;28;01mraise\u001b[39;00m \u001b[38;5;167;01mValueError\u001b[39;00m(\n\u001b[0;32m    795\u001b[0m             \u001b[38;5;124m\"\u001b[39m\u001b[38;5;124mFound array with dim \u001b[39m\u001b[38;5;132;01m%d\u001b[39;00m\u001b[38;5;124m. \u001b[39m\u001b[38;5;132;01m%s\u001b[39;00m\u001b[38;5;124m expected <= 2.\u001b[39m\u001b[38;5;124m\"\u001b[39m\n\u001b[0;32m    796\u001b[0m             \u001b[38;5;241m%\u001b[39m (array\u001b[38;5;241m.\u001b[39mndim, estimator_name)\n\u001b[0;32m    797\u001b[0m         )\n\u001b[0;32m    799\u001b[0m     \u001b[38;5;28;01mif\u001b[39;00m force_all_finite:\n\u001b[1;32m--> 800\u001b[0m         \u001b[43m_assert_all_finite\u001b[49m\u001b[43m(\u001b[49m\u001b[43marray\u001b[49m\u001b[43m,\u001b[49m\u001b[43m \u001b[49m\u001b[43mallow_nan\u001b[49m\u001b[38;5;241;43m=\u001b[39;49m\u001b[43mforce_all_finite\u001b[49m\u001b[43m \u001b[49m\u001b[38;5;241;43m==\u001b[39;49m\u001b[43m \u001b[49m\u001b[38;5;124;43m\"\u001b[39;49m\u001b[38;5;124;43mallow-nan\u001b[39;49m\u001b[38;5;124;43m\"\u001b[39;49m\u001b[43m)\u001b[49m\n\u001b[0;32m    802\u001b[0m \u001b[38;5;28;01mif\u001b[39;00m ensure_min_samples \u001b[38;5;241m>\u001b[39m \u001b[38;5;241m0\u001b[39m:\n\u001b[0;32m    803\u001b[0m     n_samples \u001b[38;5;241m=\u001b[39m _num_samples(array)\n",
      "File \u001b[1;32m~\\anaconda3\\lib\\site-packages\\sklearn\\utils\\validation.py:114\u001b[0m, in \u001b[0;36m_assert_all_finite\u001b[1;34m(X, allow_nan, msg_dtype)\u001b[0m\n\u001b[0;32m    107\u001b[0m     \u001b[38;5;28;01mif\u001b[39;00m (\n\u001b[0;32m    108\u001b[0m         allow_nan\n\u001b[0;32m    109\u001b[0m         \u001b[38;5;129;01mand\u001b[39;00m np\u001b[38;5;241m.\u001b[39misinf(X)\u001b[38;5;241m.\u001b[39many()\n\u001b[0;32m    110\u001b[0m         \u001b[38;5;129;01mor\u001b[39;00m \u001b[38;5;129;01mnot\u001b[39;00m allow_nan\n\u001b[0;32m    111\u001b[0m         \u001b[38;5;129;01mand\u001b[39;00m \u001b[38;5;129;01mnot\u001b[39;00m np\u001b[38;5;241m.\u001b[39misfinite(X)\u001b[38;5;241m.\u001b[39mall()\n\u001b[0;32m    112\u001b[0m     ):\n\u001b[0;32m    113\u001b[0m         type_err \u001b[38;5;241m=\u001b[39m \u001b[38;5;124m\"\u001b[39m\u001b[38;5;124minfinity\u001b[39m\u001b[38;5;124m\"\u001b[39m \u001b[38;5;28;01mif\u001b[39;00m allow_nan \u001b[38;5;28;01melse\u001b[39;00m \u001b[38;5;124m\"\u001b[39m\u001b[38;5;124mNaN, infinity\u001b[39m\u001b[38;5;124m\"\u001b[39m\n\u001b[1;32m--> 114\u001b[0m         \u001b[38;5;28;01mraise\u001b[39;00m \u001b[38;5;167;01mValueError\u001b[39;00m(\n\u001b[0;32m    115\u001b[0m             msg_err\u001b[38;5;241m.\u001b[39mformat(\n\u001b[0;32m    116\u001b[0m                 type_err, msg_dtype \u001b[38;5;28;01mif\u001b[39;00m msg_dtype \u001b[38;5;129;01mis\u001b[39;00m \u001b[38;5;129;01mnot\u001b[39;00m \u001b[38;5;28;01mNone\u001b[39;00m \u001b[38;5;28;01melse\u001b[39;00m X\u001b[38;5;241m.\u001b[39mdtype\n\u001b[0;32m    117\u001b[0m             )\n\u001b[0;32m    118\u001b[0m         )\n\u001b[0;32m    119\u001b[0m \u001b[38;5;66;03m# for object dtype data, we only check for NaNs (GH-13254)\u001b[39;00m\n\u001b[0;32m    120\u001b[0m \u001b[38;5;28;01melif\u001b[39;00m X\u001b[38;5;241m.\u001b[39mdtype \u001b[38;5;241m==\u001b[39m np\u001b[38;5;241m.\u001b[39mdtype(\u001b[38;5;124m\"\u001b[39m\u001b[38;5;124mobject\u001b[39m\u001b[38;5;124m\"\u001b[39m) \u001b[38;5;129;01mand\u001b[39;00m \u001b[38;5;129;01mnot\u001b[39;00m allow_nan:\n",
      "\u001b[1;31mValueError\u001b[0m: Input contains NaN, infinity or a value too large for dtype('float64')."
     ]
    }
   ],
   "source": [
    "GHG_rfr_model = rfr_grid_cv.fit(X_train, Y_train['TotalGHGEmissions'])\n",
    "GHG_rfr_results = model_scores(GHG_rfr_model, 'grid_search_rfr')"
   ]
  }
 ],
 "metadata": {
  "kernelspec": {
   "display_name": "Python 3 (ipykernel)",
   "language": "python",
   "name": "python3"
  },
  "language_info": {
   "codemirror_mode": {
    "name": "ipython",
    "version": 3
   },
   "file_extension": ".py",
   "mimetype": "text/x-python",
   "name": "python",
   "nbconvert_exporter": "python",
   "pygments_lexer": "ipython3",
   "version": "3.9.7"
  }
 },
 "nbformat": 4,
 "nbformat_minor": 5
}
